{
 "cells": [
  {
   "cell_type": "code",
   "execution_count": 1,
   "metadata": {},
   "outputs": [
    {
     "name": "stdout",
     "output_type": "stream",
     "text": [
      "['156110100', '156140100', '156140200', '156140300', '156140400', '156140800', '156140900', '156141100', '156150100', '156150400', '156150500', '156150600', '156150800', '156150900', '156152200', '156152500', '156152900', '156210100', '156210300', '156210400', '156210500', '156210600', '156210800', '156211000', '156211200', '156211300', '156211400', '156320200', '156320300', '156320500', '156320600', '156320700', '156320800', '156320900', '156321000', '156321100', '156321200', '156321300', '156340100', '156340200', '156340300', '156340500', '156340600', '156340800', '156341000', '156341200', '156341300', '156341500', '156341700', '156370100', '156370200', '156370300', '156370500', '156370700', '156370800', '156371000', '156371400', '156371500', '156371600', '156410100', '156410200', '156410300', '156410500', '156410600', '156410700', '156410800', '156411000', '156411100', '156411300', '156411400', '156411500', '156411600', '156419000', '156420100', '156420500', '156420600', '156420700', '156420800', '156420900', '156421100', '156421200', '156422800', '156429000', '156430200', '156430400', '156430600', '156430700', '156430800', '156430900', '156431000', '156431100', '156431300', '156440100', '156440500', '156440900', '156441200', '156441400', '156441800', '156445200', '156445300', '156500100', '156500200', '156510100', '156510400', '156510500', '156510700', '156510900', '156511000', '156511100', '156511300', '156511400', '156511800', '156511900', '156512000', '156530100', '156530500', '156530600', '156530900', '156532300', '156532600', '156532900', '156533100', '156620100', '156620400', '156620500', '156620800', '156620900', '156621000', '156621100', '156140500', '156140600', '156140700', '156150700', '156210200', '156210700', '156210900', '156320100', '156320400', '156340400', '156341100', '156370600', '156371300', '156410400', '156410900', '156411200', '156411700', '156420300', '156421000', '156430100', '156431200', '156440300', '156440600', '156510300', '156510600', '156511500', '156620200']\n"
     ]
    }
   ],
   "source": [
    "import pandas as pd\n",
    "import requests\n",
    "import json\n",
    "\n",
    "# Read the file using pandas\n",
    "df = pd.read_stata('women2018ok.dta')\n",
    "#put all city and countries into lists\n",
    "citylist = df['cityname'].unique().tolist()\n",
    "countylist= df['countyname'].unique().tolist()\n",
    "city = df['city'].unique().astype(str).tolist()\n",
    "city = ['156' + st + '00' for st in city]\n",
    "\n",
    "print(city)\n"
   ]
  },
  {
   "cell_type": "markdown",
   "metadata": {},
   "source": [
    "code = '156110100'\n",
    "url = \"http://api.tianditu.gov.cn/v2/search\"\n",
    "params = {\n",
    "    \"postStr\": '{\"keyWord\":\"幼儿园\",\"queryType\":12,\"start\":0,\"count\":10,\"specify\":\"'+ code +'\",\"dataTypes\":\"160101\"}',\n",
    "    \"type\": \"query\",\n",
    "    \"tk\": \"dd54ec94a41e3a323d5cb13eac36c8f1\"\n",
    "}\n",
    "\n",
    "response = requests.get(url, params=params)\n",
    "data = response.json()\n",
    "print(data)\n",
    "print(data['count'])"
   ]
  },
  {
   "cell_type": "code",
   "execution_count": null,
   "metadata": {},
   "outputs": [],
   "source": [
    "kinder_num = {}\n",
    "for code in city:\n",
    "    url = \"http://api.tianditu.gov.cn/v2/search\"\n",
    "    params = {\n",
    "        \"postStr\": '{\"keyWord\":\"幼儿园\",\"queryType\":12,\"start\":0,\"count\":10,\"specify\":\"'+ code +'\",\"dataTypes\":\"160101\"}',\n",
    "        \"type\": \"query\",\n",
    "        \"tk\": \"\"\n",
    "    }\n",
    "\n",
    "    response = requests.get(url, params=params)\n",
    "    data = response.json()\n",
    "    kinder_num[code]=data['count']\n",
    "\n",
    "\n",
    "\n",
    "\n"
   ]
  },
  {
   "cell_type": "code",
   "execution_count": null,
   "metadata": {},
   "outputs": [],
   "source": [
    "# Find keys with value 0 in kinder_num\n",
    "keys_with_zero_value = [key for key, value in kinder_num.items() if value == '0']\n",
    "# Prompt user to enter corrected values\n",
    "for key in keys_with_zero_value:\n",
    "    corrected_value = input(f\"Enter corrected value for key {key}: \")\n",
    "    kinder_num[key] = corrected_value"
   ]
  },
  {
   "cell_type": "code",
   "execution_count": null,
   "metadata": {},
   "outputs": [],
   "source": [
    "df['kinder_num'] = df['city'].apply(lambda x: kinder_num['156' + str(x) + '00'])\n"
   ]
  },
  {
   "cell_type": "code",
   "execution_count": 8,
   "metadata": {},
   "outputs": [],
   "source": [
    "kids_num_df = pd.read_csv('kids_num.csv')\n",
    "kids_num_dict = kids_num_df.set_index(kids_num_df.columns[0])[kids_num_df.columns[1]].to_dict()\n",
    "kids_num_dict['北京市']= 450645\n",
    "kids_num_dict['重庆市']= 963121\n"
   ]
  },
  {
   "cell_type": "code",
   "execution_count": 9,
   "metadata": {},
   "outputs": [],
   "source": [
    "df = pd.read_csv('women2018_new.csv')"
   ]
  },
  {
   "cell_type": "code",
   "execution_count": 10,
   "metadata": {},
   "outputs": [],
   "source": [
    "df['kids_num'] = df['cityname'].apply(lambda x: kids_num_dict[str(x)] if str(x) in kids_num_dict else 0)\n"
   ]
  },
  {
   "cell_type": "code",
   "execution_count": 13,
   "metadata": {},
   "outputs": [
    {
     "name": "stdout",
     "output_type": "stream",
     "text": [
      "['许昌市', '襄樊市', '省直辖县级行政单位', '南京市', '三门峡市']\n"
     ]
    }
   ],
   "source": [
    "zero_kids_num_cities = df[df['kids_num'] == 0]['cityname'].unique().tolist()\n",
    "\n",
    "print(zero_kids_num_cities)\n",
    "\n",
    "        \n",
    "    "
   ]
  },
  {
   "cell_type": "code",
   "execution_count": 14,
   "metadata": {},
   "outputs": [],
   "source": [
    "df.to_csv('women2018_final.csv', index=False)\n",
    "\n"
   ]
  },
  {
   "cell_type": "code",
   "execution_count": null,
   "metadata": {},
   "outputs": [],
   "source": [
    "df_county_code['code'] = df_county_code['code'].astype(int)\n",
    "df_county_code = df_county_code.astype(str)"
   ]
  },
  {
   "cell_type": "code",
   "execution_count": null,
   "metadata": {},
   "outputs": [],
   "source": [
    "county_code_dict = df_county_code.set_index('countyname')['code'].to_dict()"
   ]
  }
 ],
 "metadata": {
  "kernelspec": {
   "display_name": "Python 3",
   "language": "python",
   "name": "python3"
  },
  "language_info": {
   "codemirror_mode": {
    "name": "ipython",
    "version": 3
   },
   "file_extension": ".py",
   "mimetype": "text/x-python",
   "name": "python",
   "nbconvert_exporter": "python",
   "pygments_lexer": "ipython3",
   "version": "3.11.6"
  }
 },
 "nbformat": 4,
 "nbformat_minor": 2
}
