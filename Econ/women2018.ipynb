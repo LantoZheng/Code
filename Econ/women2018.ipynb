{
 "cells": [
  {
   "cell_type": "code",
   "execution_count": 1,
   "metadata": {},
   "outputs": [],
   "source": [
    "import pandas as pd\n",
    "import requests\n",
    "import json\n",
    "\n",
    "# Read the file using pandas\n",
    "df = pd.read_stata('women2018ok.dta')\n",
    "#put all city and countries into lists\n",
    "citylist = df['cityname'].unique().tolist()\n",
    "countylist= df['countyname'].unique().tolist()\n",
    "locations = df[['cityname', 'countyname']].drop_duplicates().reset_index(drop=True)\n",
    "# reques for response\n",
    "key=\"c402f371c531f1aac593d152894bca41\"\n",
    "keywords=\"\"\n",
    "types=\"幼儿园\"\n",
    "children=\"0\"\n",
    "locations=\"通州区\""
   ]
  },
  {
   "cell_type": "code",
   "execution_count": 3,
   "metadata": {},
   "outputs": [],
   "source": [
    "url = \"https://restapi.amap.com/v3/place/text?key=\"+key+\"&keywords=\"+keywords+\"&types=\"+types+\"&city=\"+locations+\"&children=\"+children+\"&offset=20&page=1&extensions=all\"\n",
    "response = requests.get(url)\n",
    "# Convert the response to JSON format\n",
    "response_json = response.json()\n",
    "# Extract the count field from the JSON response\n",
    "count = response_json['count']"
   ]
  },
  {
   "cell_type": "code",
   "execution_count": 4,
   "metadata": {},
   "outputs": [],
   "source": [
    "\n",
    "\n",
    "KinderGartenNum = {\n",
    "\n",
    "}\n",
    "# Loop through the locations\n",
    "for locations in countylist: \n",
    "    url = \"https://restapi.amap.com/v3/place/text?key=\"+key+\"&keywords=\"+keywords+\"&types=\"+types+\"&city=\"+locations+\"&children=\"+children+\"&offset=20&page=1&extensions=all\"\n",
    "    response = requests.get(url)\n",
    "    # Convert the response to JSON format\n",
    "    response_json = response.json()\n",
    "    # Extract the count field from the JSON response\n",
    "    count = response_json['count']\n",
    "    KinderGartenNum[locations] = count\n",
    "\n",
    "\n",
    "\n"
   ]
  }
 ],
 "metadata": {
  "kernelspec": {
   "display_name": "Python 3",
   "language": "python",
   "name": "python3"
  },
  "language_info": {
   "codemirror_mode": {
    "name": "ipython",
    "version": 3
   },
   "file_extension": ".py",
   "mimetype": "text/x-python",
   "name": "python",
   "nbconvert_exporter": "python",
   "pygments_lexer": "ipython3",
   "version": "3.10.6"
  }
 },
 "nbformat": 4,
 "nbformat_minor": 2
}
