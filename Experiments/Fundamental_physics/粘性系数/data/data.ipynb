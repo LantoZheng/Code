{
 "cells": [
  {
   "cell_type": "code",
   "execution_count": 2,
   "metadata": {},
   "outputs": [],
   "source": [
    "import pandas as pd\n",
    "import numpy as np\n",
    "\n",
    "data =pd.read_excel('data.xlsx')"
   ]
  },
  {
   "cell_type": "code",
   "execution_count": 7,
   "metadata": {},
   "outputs": [
    {
     "name": "stdout",
     "output_type": "stream",
     "text": [
      "0.6016602496155536\n"
     ]
    }
   ],
   "source": [
    "d = data['d'][14]\n",
    "m = data['m'][14]\n",
    "D = data['D'][14]\n",
    "H = data['H'][14]\n",
    "t = data['t'][14]\n",
    "rho = data['rho'][14]\n",
    "rhob = 6*m/(np.pi*d**3)\n",
    "g = 9.81\n",
    "v = H/t\n",
    "nita = ((rhob - rho)*d**2*g-rho*d*v**2*27/8)/(18*v*(1+2.4*d/D)*(1+1.6*d/H))\n",
    "print(nita)"
   ]
  }
 ],
 "metadata": {
  "kernelspec": {
   "display_name": "Python 3",
   "language": "python",
   "name": "python3"
  },
  "language_info": {
   "codemirror_mode": {
    "name": "ipython",
    "version": 3
   },
   "file_extension": ".py",
   "mimetype": "text/x-python",
   "name": "python",
   "nbconvert_exporter": "python",
   "pygments_lexer": "ipython3",
   "version": "3.11.6"
  }
 },
 "nbformat": 4,
 "nbformat_minor": 2
}
