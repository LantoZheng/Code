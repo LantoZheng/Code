{
 "cells": [
  {
   "cell_type": "code",
   "execution_count": 3,
   "metadata": {},
   "outputs": [
    {
     "ename": "ModuleNotFoundError",
     "evalue": "No module named 'sklearn'",
     "output_type": "error",
     "traceback": [
      "\u001b[1;31m---------------------------------------------------------------------------\u001b[0m",
      "\u001b[1;31mModuleNotFoundError\u001b[0m                       Traceback (most recent call last)",
      "Cell \u001b[1;32mIn[3], line 4\u001b[0m\n\u001b[0;32m      2\u001b[0m \u001b[38;5;28;01mfrom\u001b[39;00m \u001b[38;5;21;01mio\u001b[39;00m \u001b[38;5;28;01mimport\u001b[39;00m StringIO\n\u001b[0;32m      3\u001b[0m \u001b[38;5;28;01mimport\u001b[39;00m \u001b[38;5;21;01mpandas\u001b[39;00m \u001b[38;5;28;01mas\u001b[39;00m \u001b[38;5;21;01mpd\u001b[39;00m\n\u001b[1;32m----> 4\u001b[0m \u001b[38;5;28;01mfrom\u001b[39;00m \u001b[38;5;21;01msklearn\u001b[39;00m\u001b[38;5;21;01m.\u001b[39;00m\u001b[38;5;21;01mlinear_model\u001b[39;00m \u001b[38;5;28;01mimport\u001b[39;00m LinearRegression\n\u001b[0;32m      5\u001b[0m \u001b[38;5;28;01mimport\u001b[39;00m \u001b[38;5;21;01mmatplotlib\u001b[39;00m\u001b[38;5;21;01m.\u001b[39;00m\u001b[38;5;21;01mpyplot\u001b[39;00m \u001b[38;5;28;01mas\u001b[39;00m \u001b[38;5;21;01mplt\u001b[39;00m\n\u001b[0;32m      6\u001b[0m csv_data \u001b[38;5;241m=\u001b[39m \u001b[38;5;124m'''\u001b[39m\u001b[38;5;124mnum range width\u001b[39m\n\u001b[0;32m      7\u001b[0m \u001b[38;5;124m1 87.74 302.703\u001b[39m\n\u001b[0;32m      8\u001b[0m \u001b[38;5;124m2 90.43 311.9835\u001b[39m\n\u001b[1;32m   (...)\u001b[0m\n\u001b[0;32m     25\u001b[0m \u001b[38;5;124m19 80.08 276.276\u001b[39m\n\u001b[0;32m     26\u001b[0m \u001b[38;5;124m20 88.36 304.842\u001b[39m\u001b[38;5;124m'''\u001b[39m\n",
      "\u001b[1;31mModuleNotFoundError\u001b[0m: No module named 'sklearn'"
     ]
    }
   ],
   "source": [
    "import pandas as pd\n",
    "from io import StringIO\n",
    "import pandas as pd\n",
    "from sklearn.linear_model import LinearRegression\n",
    "import matplotlib.pyplot as plt\n",
    "csv_data = '''num range width\n",
    "1 87.74 302.703\n",
    "2 90.43 311.9835\n",
    "3 84.97 293.1465\n",
    "4 90.13 310.9485\n",
    "5 81.91 282.5895\n",
    "6 88.77 306.2565\n",
    "7 91.24 314.778\n",
    "8 87.81 302.9445\n",
    "9 87.02 300.219\n",
    "10 85.72 295.734\n",
    "11 90.74 313.053\n",
    "12 90.34 311.673\n",
    "13 85.98 296.631\n",
    "14 86.24 297.528\n",
    "15 86.35 297.9075\n",
    "16 89.56 308.982\n",
    "17 85.63 295.4235\n",
    "18 89.59 309.0855\n",
    "19 80.08 276.276\n",
    "20 88.36 304.842'''\n",
    "\n",
    "# 将CSV数据转换为DataFrame\n",
    "df = pd.read_csv(StringIO(csv_data), sep='\\s+')\n",
    "\n",
    "df['dist'] = df['width'].cumsum()\n",
    "print(df)\n",
    "\n",
    "# 提取自变量和因变量\n",
    "X = df['num'].values.reshape(-1, 1)\n",
    "y = df['dist'].values.reshape(-1, 1)\n",
    "\n",
    "# 创建线性回归模型\n",
    "model = LinearRegression()\n",
    "\n",
    "# 拟合模型\n",
    "model.fit(X, y)\n",
    "\n",
    "y_pred = model.predict(X)\n",
    "# 输出回归结果\n",
    "print(\"Intercept:\", model.intercept_)\n",
    "print(\"Coefficient:\", model.coef_[0])\n",
    "# 绘制散点图和回归线\n",
    "plt.scatter(X, y, color='blue', label='Data Points')\n",
    "plt.plot(X, y_pred, color='red', linewidth=2, label='Regression Line')\n",
    "plt.xlabel('num')\n",
    "plt.ylabel('dist')\n",
    "plt.title('条纹间距拟合图')\n",
    "plt.legend()\n",
    "plt.show()"
   ]
  },
  {
   "cell_type": "markdown",
   "metadata": {},
   "source": []
  }
 ],
 "metadata": {
  "kernelspec": {
   "display_name": "Python 3",
   "language": "python",
   "name": "python3"
  },
  "language_info": {
   "codemirror_mode": {
    "name": "ipython",
    "version": 3
   },
   "file_extension": ".py",
   "mimetype": "text/x-python",
   "name": "python",
   "nbconvert_exporter": "python",
   "pygments_lexer": "ipython3",
   "version": "3.10.6"
  }
 },
 "nbformat": 4,
 "nbformat_minor": 2
}
