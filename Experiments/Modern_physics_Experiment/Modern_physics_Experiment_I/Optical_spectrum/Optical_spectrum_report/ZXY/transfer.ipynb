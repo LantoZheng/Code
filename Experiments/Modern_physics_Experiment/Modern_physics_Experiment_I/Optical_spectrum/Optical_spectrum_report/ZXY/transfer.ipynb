{
 "cells": [
  {
   "cell_type": "code",
   "execution_count": 1,
   "metadata": {},
   "outputs": [],
   "source": [
    "import os\n",
    "import pandas as pd\n",
    "import matplotlib.pyplot as plt"
   ]
  },
  {
   "cell_type": "code",
   "execution_count": 2,
   "metadata": {},
   "outputs": [
    {
     "data": {
      "text/plain": [
       "'\\nend = \\'.c8\\'\\ndef convert_to_utf8(directory):\\n    # 遍历指定目录\\n    for filename in os.listdir(directory):\\n        # 检查文件后缀是否为\\n        if filename.endswith(end):\\n            file_path = os.path.join(directory, filename)\\n            try:\\n                # 以GB2312编码读取文件\\n                with open(file_path, \\'r\\', encoding=\\'gb2312\\') as file:\\n                    content = file.read()\\n                \\n                # 转换为UTF-8编码并保存为同名txt文件\\n                new_file_path = os.path.join(directory, filename.replace(end, \\'.txt\\'))\\n                with open(new_file_path, \\'w\\', encoding=\\'utf-8\\') as new_file:\\n                    new_file.write(content)\\n                print(f\"文件 {filename} 已转换并保存为 {new_file_path}\")\\n            except UnicodeDecodeError:\\n                print(f\"文件 {filename} 编码不是GB2312，跳过转换。\")\\n            except Exception as e:\\n                print(f\"处理文件 {filename} 时发生错误: {e}\")\\n\\n# 指定要处理的目录\\ndirectory = \\'./\\'# 替换为你的目录路径\\nconvert_to_utf8(directory)\\n'"
      ]
     },
     "execution_count": 2,
     "metadata": {},
     "output_type": "execute_result"
    }
   ],
   "source": [
    "'''\n",
    "end = '.c8'\n",
    "def convert_to_utf8(directory):\n",
    "    # 遍历指定目录\n",
    "    for filename in os.listdir(directory):\n",
    "        # 检查文件后缀是否为\n",
    "        if filename.endswith(end):\n",
    "            file_path = os.path.join(directory, filename)\n",
    "            try:\n",
    "                # 以GB2312编码读取文件\n",
    "                with open(file_path, 'r', encoding='gb2312') as file:\n",
    "                    content = file.read()\n",
    "                \n",
    "                # 转换为UTF-8编码并保存为同名txt文件\n",
    "                new_file_path = os.path.join(directory, filename.replace(end, '.txt'))\n",
    "                with open(new_file_path, 'w', encoding='utf-8') as new_file:\n",
    "                    new_file.write(content)\n",
    "                print(f\"文件 {filename} 已转换并保存为 {new_file_path}\")\n",
    "            except UnicodeDecodeError:\n",
    "                print(f\"文件 {filename} 编码不是GB2312，跳过转换。\")\n",
    "            except Exception as e:\n",
    "                print(f\"处理文件 {filename} 时发生错误: {e}\")\n",
    "\n",
    "# 指定要处理的目录\n",
    "directory = './'# 替换为你的目录路径\n",
    "convert_to_utf8(directory)\n",
    "'''"
   ]
  },
  {
   "cell_type": "code",
   "execution_count": 3,
   "metadata": {},
   "outputs": [
    {
     "name": "stdout",
     "output_type": "stream",
     "text": [
      "       lambda  intense\n",
      "0      400.00      9.5\n",
      "1      400.02      9.3\n",
      "2      400.04      9.0\n",
      "3      400.06      9.0\n",
      "4      400.08      9.0\n",
      "...       ...      ...\n",
      "12996  659.92      1.0\n",
      "12997  659.94      1.0\n",
      "12998  659.96      1.0\n",
      "12999  659.98      1.0\n",
      "13000  660.00      1.0\n",
      "\n",
      "[13001 rows x 2 columns]\n"
     ]
    }
   ],
   "source": [
    "\n",
    "# 读取文本文件\n",
    "with open('H_400_660.txt', 'r',encoding='utf-8') as file:\n",
    "    lines = file.readlines()\n",
    "\n",
    "# 提取数据并创建DataFrame\n",
    "data = []\n",
    "for line in lines:\n",
    "    line = line.strip().split()\n",
    "    if len(line) == 2:\n",
    "        data.append([float(line[0]), float(line[1])])\n",
    "\n",
    "df = pd.DataFrame(data, columns=['lambda', 'intense'])\n",
    "H_400_660 = df\n",
    "print(df)"
   ]
  },
  {
   "cell_type": "code",
   "execution_count": 4,
   "metadata": {},
   "outputs": [
    {
     "name": "stdout",
     "output_type": "stream",
     "text": [
      "H_400_660:\n",
      "       lambda  intense\n",
      "0      400.00      9.5\n",
      "1      400.02      9.3\n",
      "2      400.04      9.0\n",
      "3      400.06      9.0\n",
      "4      400.08      9.0\n",
      "...       ...      ...\n",
      "12996  659.92      1.0\n",
      "12997  659.94      1.0\n",
      "12998  659.96      1.0\n",
      "12999  659.98      1.0\n",
      "13000  660.00      1.0\n",
      "\n",
      "[13001 rows x 2 columns]\n",
      "D_486:\n",
      "      lambda  intense\n",
      "0     482.05      0.0\n",
      "1     482.06      0.0\n",
      "2     482.07      0.0\n",
      "3     482.08      0.0\n",
      "4     482.09      0.0\n",
      "...      ...      ...\n",
      "2044  504.37    109.0\n",
      "2045  504.38    120.0\n",
      "2046  504.39    112.0\n",
      "2047  504.40   1453.0\n",
      "2048  504.41   1453.0\n",
      "\n",
      "[2049 rows x 2 columns]\n",
      "D_656:\n",
      "      lambda  intense\n",
      "0     648.76      1.0\n",
      "1     648.77     19.0\n",
      "2     648.78     33.0\n",
      "3     648.79     23.0\n",
      "4     648.80      3.0\n",
      "...      ...      ...\n",
      "2044  667.68     44.0\n",
      "2045  667.69     41.0\n",
      "2046  667.70     23.0\n",
      "2047  667.71    251.0\n",
      "2048  667.72    251.0\n",
      "\n",
      "[2049 rows x 2 columns]\n",
      "H-656:\n",
      "      lambda  intense\n",
      "0     648.76      0.0\n",
      "1     648.77      0.0\n",
      "2     648.78     25.0\n",
      "3     648.79     17.0\n",
      "4     648.80      0.0\n",
      "...      ...      ...\n",
      "2044  667.68     23.0\n",
      "2045  667.69     30.0\n",
      "2046  667.70     25.0\n",
      "2047  667.71    260.0\n",
      "2048  667.72    260.0\n",
      "\n",
      "[2049 rows x 2 columns]\n",
      "He_410:\n",
      "      lambda  intense\n",
      "0     393.21      1.0\n",
      "1     393.22      4.0\n",
      "2     393.23      5.0\n",
      "3     393.24     25.0\n",
      "4     393.26     24.0\n",
      "...      ...      ...\n",
      "2044  416.67     20.0\n",
      "2045  416.68     12.0\n",
      "2046  416.69      0.0\n",
      "2047  416.71   2208.0\n",
      "2048  416.72   2208.0\n",
      "\n",
      "[2049 rows x 2 columns]\n",
      "He_434:\n",
      "      lambda  intense\n",
      "0     429.56     22.0\n",
      "1     429.57      5.0\n",
      "2     429.58      0.0\n",
      "3     429.59      0.0\n",
      "4     429.60     10.0\n",
      "...      ...      ...\n",
      "2044  452.46     38.0\n",
      "2045  452.47     30.0\n",
      "2046  452.48     25.0\n",
      "2047  452.50    384.0\n",
      "2048  452.51    384.0\n",
      "\n",
      "[2049 rows x 2 columns]\n",
      "He_486:\n",
      "      lambda  intense\n",
      "0     482.05    171.0\n",
      "1     482.06    190.0\n",
      "2     482.07    205.0\n",
      "3     482.08    199.0\n",
      "4     482.09    203.0\n",
      "...      ...      ...\n",
      "2044  504.37    120.0\n",
      "2045  504.38    111.0\n",
      "2046  504.39    104.0\n",
      "2047  504.40    369.0\n",
      "2048  504.41    369.0\n",
      "\n",
      "[2049 rows x 2 columns]\n",
      "H_410:\n",
      "      lambda  intense\n",
      "0     393.21     11.0\n",
      "1     393.22     22.0\n",
      "2     393.23     20.0\n",
      "3     393.24     21.0\n",
      "4     393.26     17.0\n",
      "...      ...      ...\n",
      "2044  416.67     81.0\n",
      "2045  416.68     83.0\n",
      "2046  416.69     79.0\n",
      "2047  416.71   2296.0\n",
      "2048  416.72   2296.0\n",
      "\n",
      "[2049 rows x 2 columns]\n",
      "H_434:\n",
      "      lambda  intense\n",
      "0     429.56     11.0\n",
      "1     429.57      0.0\n",
      "2     429.58      0.0\n",
      "3     429.59      0.0\n",
      "4     429.60      0.0\n",
      "...      ...      ...\n",
      "2044  452.46     28.0\n",
      "2045  452.47     37.0\n",
      "2046  452.48     27.0\n",
      "2047  452.50    870.0\n",
      "2048  452.51    870.0\n",
      "\n",
      "[2049 rows x 2 columns]\n",
      "H_486:\n",
      "      lambda  intense\n",
      "0     482.05    189.0\n",
      "1     482.06    204.0\n",
      "2     482.07    220.0\n",
      "3     482.08    215.0\n",
      "4     482.09    228.0\n",
      "...      ...      ...\n",
      "2044  504.37    112.0\n",
      "2045  504.38    101.0\n",
      "2046  504.39    111.0\n",
      "2047  504.40    396.0\n",
      "2048  504.41    396.0\n",
      "\n",
      "[2049 rows x 2 columns]\n",
      "Ne_656:\n",
      "      lambda  intense\n",
      "0     648.76      0.0\n",
      "1     648.77      0.0\n",
      "2     648.78      7.0\n",
      "3     648.79      6.0\n",
      "4     648.80      0.0\n",
      "...      ...      ...\n",
      "2044  667.68     34.0\n",
      "2045  667.69     29.0\n",
      "2046  667.70     15.0\n",
      "2047  667.71    249.0\n",
      "2048  667.72    249.0\n",
      "\n",
      "[2049 rows x 2 columns]\n"
     ]
    }
   ],
   "source": [
    "directory = './'\n",
    "# 遍历目录下的所有txt文件\n",
    "for filename in os.listdir(directory):\n",
    "    if filename.endswith('.txt'):\n",
    "        # 读取文件\n",
    "        with open(os.path.join(directory, filename), 'r') as file:\n",
    "            lines = file.readlines()\n",
    "\n",
    "        # 提取数据并创建DataFrame\n",
    "        data = []\n",
    "        for line in lines:\n",
    "            line = line.strip().split()\n",
    "            if len(line) == 2:\n",
    "                data.append([float(line[0]), float(line[1])])\n",
    "\n",
    "        df = pd.DataFrame(data, columns=['lambda', 'intense'])\n",
    "\n",
    "        # 使用文件名命名变量\n",
    "        globals()[filename.split('.')[0]] = df\n",
    "del df\n",
    "# 打印所有创建的DataFrame变量\n",
    "for var_name in list(globals().keys()):\n",
    "    if isinstance(globals()[var_name], pd.DataFrame):\n",
    "        print(f'{var_name}:')\n",
    "        print(globals()[var_name])"
   ]
  },
  {
   "cell_type": "code",
   "execution_count": 6,
   "metadata": {},
   "outputs": [
    {
     "data": {
      "text/plain": [
       "Text(0, 0.5, 'Intensity')"
      ]
     },
     "execution_count": 6,
     "metadata": {},
     "output_type": "execute_result"
    },
    {
     "data": {
      "image/png": "[encoded data removed]",
      "text/plain": [
       "<Figure size 1000x400 with 1 Axes>"
      ]
     },
     "metadata": {},
     "output_type": "display_data"
    }
   ],
   "source": [
    "fig, ax = plt.subplots(figsize=(10, 4))\n",
    "ax.plot(H_400_660['lambda'], H_400_660['intense'])\n",
    "plt.xlabel('Wavelength (nm)')\n",
    "plt.ylabel('Intensity')\n"
   ]
  },
  {
   "cell_type": "code",
   "execution_count": 9,
   "metadata": {},
   "outputs": [
    {
     "data": {
      "image/png": "[encoded data removed]",
      "text/plain": [
       "<Figure size 400x400 with 1 Axes>"
      ]
     },
     "metadata": {},
     "output_type": "display_data"
    }
   ],
   "source": [
    "# 设置绘图范围\n",
    "wavelength_range = (655, 657)\n",
    "\n",
    "# 筛选出指定范围内的数据\n",
    "subset = H_400_660[(H_400_660['lambda'] >= wavelength_range[0]) & (H_400_660['lambda'] <= wavelength_range[1])]\n",
    "\n",
    "# 创建图形\n",
    "fig, ax = plt.subplots(figsize=(4, 4))\n",
    "ax.plot(subset['lambda'], subset['intense'])\n",
    "plt.xlabel('Wavelength (nm)')\n",
    "plt.ylabel('Intensity')\n",
    "plt.title('Spectrum around 410 nm')\n",
    "\n",
    "# 显示图形\n",
    "plt.show()"
   ]
  },
  {
   "cell_type": "code",
   "execution_count": 13,
   "metadata": {},
   "outputs": [
    {
     "data": {
      "image/png": "[encoded data removed]",
      "text/plain": [
       "<Figure size 640x480 with 1 Axes>"
      ]
     },
     "metadata": {},
     "output_type": "display_data"
    }
   ],
   "source": [
    "from scipy.signal import find_peaks\n",
    "\n",
    "# 读取数据\n",
    "data = H_400_660\n",
    "\n",
    "# 找到所有的峰\n",
    "peaks, _ = find_peaks(data['intense'],width=3,height=20)\n",
    "\n",
    "# 提取高且宽的峰\n",
    "wide_peaks = []\n",
    "for peak in peaks:\n",
    "    # 检查峰的宽度\n",
    "    left = peak\n",
    "    while left > 0 and data['intense'][left - 1] > data['intense'][left - 2]:\n",
    "        left -= 1\n",
    "    right = peak\n",
    "    while right < len(data) - 1 and data['intense'][right + 1] > data['intense'][right + 2]:\n",
    "        right += 1\n",
    "    # 如果峰足够宽，则添加到宽峰列表中\n",
    "    if right - left > 5:\n",
    "        wide_peaks.append((left, right))\n",
    "\n",
    "# 绘制原始数据\n",
    "plt.plot(data['lambda'], data['intense'])\n",
    "\n",
    "# 绘制高且宽的峰\n",
    "for peak in wide_peaks:\n",
    "    plt.axvspan(data['lambda'][peak[0]], data['lambda'][peak[1]], color='red', alpha=0.5)\n",
    "\n",
    "# 显示图形\n",
    "plt.show()"
   ]
  }
 ],
 "metadata": {
  "kernelspec": {
   "display_name": "Python 3",
   "language": "python",
   "name": "python3"
  },
  "language_info": {
   "codemirror_mode": {
    "name": "ipython",
    "version": 3
   },
   "file_extension": ".py",
   "mimetype": "text/x-python",
   "name": "python",
   "nbconvert_exporter": "python",
   "pygments_lexer": "ipython3",
   "version": "3.11.9"
  }
 },
 "nbformat": 4,
 "nbformat_minor": 2
}
