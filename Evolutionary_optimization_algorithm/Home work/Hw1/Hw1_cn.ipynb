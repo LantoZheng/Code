{flagflagflagflagflagflagflagflag
 "cells": [
  {
   "cell_type": "markdown",
   "metadata": {},
   "source": [
    "## Homework 1 \n"
   ]
  },
  {
   "cell_type": "markdown",
   "metadata": {},
   "source": [
    "这是郑晓旸（202111030007）的进化优化算法第一次作业。"
   ]
  },
  {
   "cell_type": "markdown",
   "metadata": {},
   "source": [
    "### 作业总结\n",flagflagflagflag
    "#### 作业问题\n",
    "*背包问题*  \n",
    "有以下物品：按照编号重量价值分别为存储为c_j,w_j.\n",
    "\n",
    "$c_j$: [91, 72, 90, 46, 55,  8, 35, 75, 61, 15, 77, 40, 63, 75, 29, 75, 17, 78, 40, 44]\n",
    "\n",
    "$w_j$: [84, 83, 43,  4, 44,  6, 82, 92, 25, 83, 56, 18, 58, 14, 48, 70, 96, 32, 68, 92]\n",
    "\n",
    "#### 问题描述\n",
    "本次作业旨在通过进化优化算法解决背包问题。背包问题涉及一组物品，每个物品具有特定的重量和价值，目标是在不超过总重量限制的前提下，选择一组物品使其总价值最大化。作业主要分为三个部分：固定参数的进化算法、动态进化算法以及投票法提高稳定性。\n",
    "\n",
    "#### 编程思路\n",
    "作业的编程思路基于遗传算法，这是一种基于自然选择和生物进化的启发式优化方法。该方法通过选择、交叉和变异生成新的解，并逐步找到问题的最优解。\n",
    "\n",
    "1. **初始flag首先随机生成一组候选解，作为算法的初始种群。\n",
    "2. **适应度函数**：通过计算物品总价值和总重量来评估每个候选解的优劣，超出背包重量的解被判定为无效。\n",
    "3. **选择、交叉和变异**：采用锦标赛选择法，从种群中选择适应度较高的解进行交叉操作，生成新的候选解。每个解还会经历变异操作，以引入多样性。\n",
    "4. **收敛与停止条件**：算法会持续迭代，直到达到最大迭代次数或符合提前终止条件。\n",
    "\n",
    "#### 方法\n",
    "1. **固定参数方法**：设置固定的参数，包括种群大小、变异率等，运行算法，并记录最优解及其对应的物品选择和总价值。\n",
    "2. **动态进化算法**：引入自适应停止条件，当在若干代内没有适应度的改进时，算法提前停止，节省计算时间。\n",
    "3. **投票法**：通过多次运行算法，寻找重复的最优解，从而提高结果的稳定性。\n",
    "\n",
    "实验结果表明，通过适当调整耐心值和多次实验，算法能够将错误解的概率降低至0.1\\%以下【29†source】。"
   ]
  },
  {
   "cell_type": "markdown",
   "metadata": {},
   "source": [
    "## 初始化\n",
    "引入必要的包和库&导入数据"
   ]
  },
  {
   "cell_type": "code",
   "execution_count": 17,
   "metadata": {},
   "outputs": [],
   "source": [
    "import numpy as np\n",
    "import random\n",
    "import time\n",
    "import matplotlib.pyplot as plt\n",
    "\n",
    "# 导入问题的数据\n",
    "data = {\n",
    "    'j': list(range(1, 21)),\n",
    "    'c': [91, 72, 90, 46, 55, 8, 35, 75, 61, 15, 77, 40, 63, 75, 29, 75, 17, 78, 40, 44],\n",
    "    'w': [84, 83, 43, 4, 44, 6, 82, 92, 25, 83, 56, 18, 58, 14, 48, 70, 96, 32, 68, 92]\n",
    "}\n",
    "overWeight = 879"
   ]
  },
  {
   "cell_type": "markdown",
   "metadata": {},
   "source": [
    "## Part 1：固定参数方法"
   ]
  },
  {
   "cell_type": "markdown",
   "metadata": {},
   "source": [
    "### 1.1 设置参数和初始值"
   ]
  },
  {
   "cell_type": "code",
   "execution_count": 19,
   "metadata": {},
   "outputs": [],
   "source": [
    "# 设置参数\n",
    "start_time = time.time()\n",
    "max_generations = 200  # 代数\n",
    "population_size = 100  # 种群大小\n",
    "mutation_rate = 0.05  # 变异率\n",
    "patience_value = 20  # 耐心值\n",
    "# 从数据框中获取数据\n",
    "values = data['c']\n",
    "weights = data['w']\n",
    "num_items = len(values)"
   ]
  },
  {
   "cell_type": "markdown",
   "metadata": {},
   "source": [
    "### 1.2 定义所需要的函数"
   ]
  },
  {
   "cell_type": "code",
   "execution_count": 20,
   "metadata": {},
   "outputs": [],
   "source": [
    "# 适应度函数\n",
    "def fitness(individual):\n",
    "    total_value = np.dot(individual, values)\n",
    "    total_weight = np.dot(individual, weights) # 计算解决方案的总价值和总重量，使用二进制编码和点积\n",
    "    \n",
    "    if total_weight > overWeight:\n",
    "        return 0  # 无效解决方案；使用0值来最小化总价值，这将直接绕过该解决方案\n",
    "    return total_value\n",
    "\n",
    "# 生成初始种群\n",
    "def generate_population(population_size, num_items):\n",
    "    return [np.random.randint(2, size=num_items) for _ in range(population_size)]\n",
    "\n",
    "# 锦标赛选择\n",
    "def selection(population):\n",
    "    tournament_size = 5\n",
    "    selected = random.sample(population, tournament_size)\n",
    "    return max(selected, key=fitness)\n",
    "\n",
    "# 交叉操作（单点交叉）\n",
    "def crossover(parent1, parent2):\n",
    "    point = random.randint(1, num_items - 1)\n",
    "    child = np.concatenate((parent1[:point], parent2[point:]))\n",
    "    return child\n",
    "\n",
    "# 变异操作\n",
    "def mutate(individual):\n",
    "    for i in range(num_items):\n",
    "        if random.random() < mutation_rate:\n",
    "            individual[i] = 1 - individual[i]  # 翻转位\n",
    "    return individual"
   ]
  },
  {
   "cell_type": "markdown",
   "metadata": {},
   "source": [
    "### 1.3 进化算法主函数"
   ]
  },
  {
   "cell_type": "code",
   "execution_count": 21,
   "metadata": {},
   "outputs": [],
   "source": [
    "def genetic_algorithm(Print=True, plot_flag=False):\n",
    "    # 生成初始种群\n",
    "    population = generate_population(population_size, num_items)\n",
    "    fitness_record = []\n",
    "    \n",
    "    # 进化过程\n",
    "    for generation in range(max_generations):\n",
    "        new_population = []\n",
    "        for _ in range(population_size):\n",
    "            # 选择两个父代\n",
    "            parent1 = selection(population)\n",
    "            parent2 = selection(population)\n",
    "            \n",
    "            # 交叉生成子代\n",
    "            child = crossover(parent1, parent2)\n",
    "            \n",
    "            # 变异操作\n",
    "            child = mutate(child)\n",
    "            \n",
    "            # 将子代加入新种群\n",
    "            new_population.append(child)\n",
    "        \n",
    "        # 用新种群替换旧种群\n",
    "        population = new_population\n",
    "\n",
    "        # 获取当前种群中最优个体\n",
    "        best_individual = max(population, key=fitness)\n",
    "        best_fitness = fitness(best_individual)\n",
    "        fitness_record.append(best_fitness)\n",
    "        \n",
    "        # 每50代打印一次当前最优适应度\n",
    "        if generation % 50 == 0 and Print == True:\n",
    "            print(f\"第 {generation} 代, 最优适应度: {best_fitness}\")\n",
    "    \n",
    "    # 如果需要绘图，绘制适应度随代数变化的曲线\n",
    "    if plot_flag == True:\n",
    "        plt.plot(fitness_record)\n",
    "        plt.xlabel('Generation')\n",
    "        plt.ylabel('Fitness')\n",
    "        plt.title('Fitness over Generations')\n",
    "        plt.show()\n",
    "    \n",
    "    return best_individual, fitness(best_individual)"
   ]
  },
  {
   "cell_type": "markdown",
   "metadata": {},
   "source": [
    "### 1.4 运行算法"
   ]
  },
  {
   "cell_type": "code",
   "execution_count": 22,
   "metadata": {},
   "outputs": [
    {
     "data": {
      "image/png": "iVBORw0KGgoAAAANSUhEUgAAAkQAAAHFCAYAAAAT5Oa6AAAAOXRFWHRTb2Z0d2FyZQBNYXRwbG90bGliIHZlcnNpb24zLjcuMiwgaHR0cHM6Ly9tYXRwbG90bGliLm9yZy8pXeV/AAAACXBIWXMAAA9hAAAPYQGoP6dpAABL10lEQVR4nO3deXQUVd7/8U+TpRNCCCSRLBAgAgISRJYRQUdAEWVXUEBQ2WSYhxk1yiJxA1RAcV8elzMiIKDwzAi4oGJQQPiBiiwKuKETECQBRchCQpbO/f2hXdomQIidrgp5v87pc+iq29X3phLr47duVbmMMUYAAAA1WC27OwAAAGA3AhEAAKjxCEQAAKDGIxABAIAaj0AEAABqPAIRAACo8QhEAACgxiMQAQCAGo9ABAAAajwCERBA8+fPl8vlKvc1adIk7dmzRy6XS/Pnz7c+s3HjRk2fPl1Hjx61rd81UWFhof73f/9X3bp1U0xMjEJCQhQTE6Pu3bvrhRdeUG5urt1d9KtZs2ZpxYoVZZavXbtWLpdLa9euDXifgEAKtrsDQE00b948tWrVymdZYmKi4uLitGnTJjVr1sxavnHjRs2YMUOjRo1SvXr1AtzTmunHH3/UlVdeqZ07d2rkyJG65ZZb1KBBAx0+fFgffPCBpkyZog0bNmjhwoV2d9VvZs2apWuuuUZXXXWVz/IOHTpo06ZNOvfcc+3pGBAgBCLABikpKerUqVO56y688MIA96bm8Xg8KikpkdvtLnf99ddfrx07dmj16tW65JJLfNZdddVVmjZtmt55551AdLVSTjW+01G3bl1+J1EjcMoMcJA/njKbPn26Jk+eLElKTk62Tq95T180bdpU/fr107vvvqsOHTooPDxcrVq10ksvvVRm21lZWRo/frwaNWqk0NBQJScna8aMGSopKfFp99xzz6ldu3aqU6eOIiMj1apVK915553W+vz8fE2aNEnJyckKCwtTdHS0OnXqpFdfffWU49u5c6cGDhyo+vXrKywsTOeff74WLFhgrf/xxx8VGhqqe+65p8xnv/rqK7lcLj311FOnNSbvz3TOnDl64IEHlJycLLfbrTVr1pTbx82bN+u9997T3/72tzJhyCsmJkbXX3+9z7KioiI98MADatWqldxut8466yyNHj1aP/74o087f++zk43v+PHjmjhxos4//3xFRUUpOjpaXbp00euvv+7zPS6XS8eOHdOCBQus37Hu3btLOvEpszfeeENdunRR7dq1FRkZqcsvv1ybNm3yaTN9+nS5XC7t2rVL1113naKiohQXF6cxY8YoOzvbp+2///1vde7cWVFRUapdu7bOPvtsjRkzptyfP1AVqBABNvD+H/zvBQeX/XO86aab9PPPP+vpp5/WsmXLlJCQIEk+py8+++wzTZw4UVOnTlVcXJxefPFFjR07Vs2bN7cO6FlZWbrgggtUq1Yt3XvvvWrWrJk2bdqkBx54QHv27NG8efMkSUuWLNGECRN0880365FHHlGtWrX07bff6osvvrC+7/bbb9fChQv1wAMPqH379jp27Jh27typw4cPn3TMX3/9tbp27aoGDRroqaeeUkxMjBYtWqRRo0bp4MGDmjJlis466yz169dPCxYs0IwZM1Sr1m//zzZv3jyFhoZqxIgRpzUmr6eeekrnnHOOHnnkEdWtW1ctWrQot5/p6emSpAEDBpx0PL9XWlqqgQMHav369ZoyZYq6du2qvXv3atq0aerevbs+/fRThYeHW+39uc9ONr7CwkL9/PPPmjRpkho2bKiioiKtXr1agwYN0rx583TjjTdKkjZt2qRLL71UPXr0sMJo3bp1TzjeV155RSNGjFCvXr306quvqrCwUHPmzFH37t31/vvv6+KLL/ZpP3jwYA0dOlRjx47Vjh07lJaWJklWCNy0aZOGDh2qoUOHavr06QoLC9PevXv1wQcfVHgfAH+aARAw8+bNM5LKfRUXF5uMjAwjycybN8/6zMMPP2wkmYyMjDLba9KkiQkLCzN79+61lhUUFJjo6Ggzfvx4a9n48eNNnTp1fNoZY8wjjzxiJJldu3YZY4z55z//aerVq3fSMaSkpJirrrrqtMc+bNgw43a7zffff++zvHfv3qZ27drm6NGjxhhj3njjDSPJvPfee1abkpISk5iYaAYPHnzaY/L+TJs1a2aKiopO2c+///3vRpL56quvfJaXlpaa4uJi61VSUmKte/XVV40k89prr/l8ZvPmzUaSefbZZ61l/t5npzO+kpISU1xcbMaOHWvat2/vsy4iIsKMHDmyzGfWrFljJJk1a9YYY4zxeDwmMTHRtG3b1ng8Hqtdbm6uadCggenatau1bNq0aUaSmTNnjs82J0yYYMLCwkxpaanPmLy/A4AdOGUG2ODll1/W5s2bfV7lVYgq4vzzz1fjxo2t92FhYTrnnHO0d+9ea9lbb72lHj16KDExUSUlJdard+/ekqR169ZJki644AIdPXpU1113nV5//XX99NNPZb7vggsu0DvvvKOpU6dq7dq1KigoqFA/P/jgA1122WVKSkryWT5q1Cjl5+dbp1t69+6t+Ph4nwrIqlWrdODAAZ9TKBUdk9eAAQMUEhJSob6W5/XXX1dISIj1ioqK8ulLvXr11L9/f5++nH/++YqPjy9zusmf++xU4/v3v/+tiy66SHXq1FFwcLBCQkI0d+5cffnll5X6OXz99dc6cOCAbrjhBp8KXp06dTR48GB99NFHys/PL9O33zvvvPN0/PhxHTp0SJL0l7/8RZI0ZMgQ/d///Z9++OGHSvUN+DMIRIANWrdurU6dOvm8KismJqbMMrfb7RNUDh48qDfffNPngB4SEqI2bdpIkhV8brjhBr300kvau3evBg8erAYNGqhz587WaSTpl1Mzd9xxh1asWKEePXooOjpaV111lXbv3n3Sfh4+fNg65fd7iYmJ1nrpl1OHN9xwg5YvX27damD+/PlKSEjQFVdccdpj8irvu8vjDSq/DyeS1L17dyu89uvXz2fdwYMHdfToUYWGhpbpT1ZWVpm++HOfnWx8y5Yt05AhQ9SwYUMtWrRImzZt0ubNmzVmzBgdP368Qj+PP/LupxPty9LSUh05csRn+R/H653s7R3vJZdcohUrVqikpEQ33nijGjVqpJSUlArNSwP8hTlEQA0QGxur8847TzNnzix3vTeUSNLo0aM1evRoHTt2TB9++KGmTZumfv366ZtvvlGTJk0UERGhGTNmaMaMGTp48KBVLerfv7+++uqrE/YhJiZGmZmZZZYfOHDA6uPv+/Dwww9ryZIlGjp0qN544w2lpqYqKCioUmOSfpk4XBGXX3657rzzTr3xxhvq1auXtbxevXpWcP3jAT42NlYxMTF69913y91mZGRkhb77j9v8s+NbtGiRkpOTtXTpUp/1hYWFp90fL+/YT7Qva9Wqpfr165/2dgcOHKiBAweqsLBQH330kWbPnq3hw4eradOm6tKlS6X7C1QUgQhwuD/+33Rl9OvXT2+//baaNWtW4YNVRESEevfuraKiIl111VXatWuXmjRp4tMmLi5Oo0aN0meffaYnnnhC+fn5ql27drnbu+yyy7R8+XIdOHDA52D+8ssvq3bt2j6Xdrdu3VqdO3fWvHnz5PF4VFhYqNGjR//pMVVEp06d1KtXL/3rX//S0KFD9de//vWUn+nXr5+WLFkij8ejzp07+6Uf/hify+VSaGioTxjKysoqc5WZVLZCdSItW7ZUw4YN9corr2jSpEnWto8dO6bXXnvNuvKsstxut7p166Z69epp1apV2rZtG4EIAUEgAhyubdu2kqQnn3xSI0eOVEhIiFq2bHlaVYf77rtP6enp6tq1q2655Ra1bNlSx48f1549e/T222/r+eefV6NGjTRu3DiFh4froosuUkJCgrKysjR79mxFRUVZ8zw6d+6sfv366bzzzlP9+vX15ZdfauHChac8EE6bNs2aF3PvvfcqOjpaixcv1sqVKzVnzhyfOTmSNGbMGI0fP14HDhxQ165d1bJly0qNqTIWLVqkK664Qj179tSoUaN0xRVXqEGDBsrJydHnn3+u1atX+1yFNWzYMC1evFh9+vTRrbfeqgsuuEAhISHav3+/1qxZo4EDB+rqq68+rT74Y3z9+vXTsmXLNGHCBF1zzTXat2+f7r//fiUkJJQ5xdm2bVutXbtWb775phISEhQZGVnmZy5JtWrV0pw5czRixAj169dP48ePV2FhoR5++GEdPXpUDz744GmNU5Luvfde7d+/X5dddpkaNWqko0eP6sknn1RISIi6det22tsDKsXuWd1ATeK9ymzz5s3lri/vKjNjjElLSzOJiYmmVq1aPlf8NGnSxPTt27fMdrp162a6devms+zHH380t9xyi0lOTjYhISEmOjradOzY0dx1110mLy/PGGPMggULTI8ePUxcXJwJDQ01iYmJZsiQIebzzz+3tjN16lTTqVMnU79+feN2u83ZZ59tbrvtNvPTTz+dcvw7duww/fv3N1FRUSY0NNS0a9euzFi9srOzTXh4uJFk/vWvf5XbpiJj8v5MH3744VP27/eOHz9unn76aXPxxRebevXqmeDgYBMdHW3++te/moceesgcPnzYp31xcbF55JFHTLt27UxYWJipU6eOadWqlRk/frzZvXu31c7f++xU43vwwQdN06ZNjdvtNq1btzb/+te/rKu/fm/79u3moosuMrVr1zaSrL788SozrxUrVpjOnTubsLAwExERYS677DLz//7f//Np4/2eH3/80We59+/Ae+XkW2+9ZXr37m0aNmxoQkNDTYMGDUyfPn3M+vXryx0TUBVcxhhjUxYDAABwBK4yAwAANR6BCAAA1HgEIgAAUOMRiAAAQI1HIAIAADUegQgAANR43JixgkpLS3XgwAFFRkZW+BEAAADAXsYY5ebmKjEx0eeBxH9EIKqgAwcOlHlKNwAAqB727dt30ru7E4gqyPuYhH379vncsh8AADhXTk6OkpKSTvm4IwJRBXlPk9WtW5dABABANXOq6S5MqgYAADUegQgAANR4BCIAAFDjEYgAAECNRyACAAA1HoEIAADUeAQiAABQ4xGIAABAjUcgAgAANR6BCAAA1Hi2BqIPP/xQ/fv3V2Jiolwul1asWOGz3hij6dOnKzExUeHh4erevbt27dplrf/555918803q2XLlqpdu7YaN26sW265RdnZ2T7badq0qVwul89r6tSpgRgiAACoBmwNRMeOHVO7du30zDPPlLt+zpw5euyxx/TMM89o8+bNio+P1+WXX67c3FxJvzyB/sCBA3rkkUe0Y8cOzZ8/X++++67Gjh1bZlv33XefMjMzrdfdd99dpWMDAADVh60Pd+3du7d69+5d7jpjjJ544gndddddGjRokCRpwYIFiouL0yuvvKLx48crJSVFr732mvWZZs2aaebMmbr++utVUlKi4ODfhhcZGan4+PiqHVAAHS/26Ke8Qru7AQCA38TWcSssJMiW73bs0+4zMjKUlZWlXr16Wcvcbre6deumjRs3avz48eV+Ljs7W3Xr1vUJQ5L00EMP6f7771dSUpKuvfZaTZ48WaGhoSf8/sLCQhUW/hY4cnJy/uSI/KegyKPuj6zRwRwCEQDgzPHymAt0yTln2fLdjg1EWVlZkqS4uDif5XFxcdq7d2+5nzl8+LDuv//+MmHp1ltvVYcOHVS/fn198sknSktLU0ZGhl588cUTfv/s2bM1Y8aMPzmKqrHn8DErDLmDmRcPADgz1HK5bPtuxwYiL9cffjjGmDLLpF8qOH379tW5556radOm+ay77bbbrH+fd955ql+/vq655ho99NBDiomJKfd709LSdPvtt/tsPykp6c8MxW9+PlYkSWreoI5W397N5t4AAFD9OTYQeef7ZGVlKSEhwVp+6NChMlWj3NxcXXnllapTp46WL1+ukJCQk277wgsvlCR9++23JwxEbrdbbrf7zwyhyhz+NRBFR5z4lB8AAKg4x55vSU5OVnx8vNLT061lRUVFWrdunbp27Woty8nJUa9evRQaGqo33nhDYWFhp9z2tm3bJMknaFUnP/86mTqGQAQAgF/YWiHKy8vTt99+a73PyMjQ9u3bFR0drcaNGys1NVWzZs1SixYt1KJFC82aNUu1a9fW8OHDJf1SGerVq5fy8/O1aNEi5eTkWJOfzzrrLAUFBWnTpk366KOP1KNHD0VFRWnz5s267bbbNGDAADVu3NiWcf9Z3lNmMXUIRAAA+IOtgejTTz9Vjx49rPfeOTsjR47U/PnzNWXKFBUUFGjChAk6cuSIOnfurPfee0+RkZGSpC1btujjjz+WJDVv3txn2xkZGWratKncbreWLl2qGTNmqLCwUE2aNNG4ceM0ZcqUAI3S/347ZebMU3oAAFQ3LmOMsbsT1UFOTo6ioqKsy/rt9D+LtuidnVmaMaCNRnZtamtfAABwsooevx07hwgnxqRqAAD8i0BUDVlziAhEAAD4BYGoGjr861Vm0UyqBgDALwhE1Yyn1OhoQbEkTpkBAOAvBKJq5kh+kbzT4OvXJhABAOAPBKJqxjt/KCo8RCFB7D4AAPyBI2o1cziPCdUAAPgbgaia+ZlL7gEA8DsCUTXz87FfrzAjEAEA4DcEomrmMM8xAwDA7whE1QynzAAA8D8CUTXDg10BAPA/AlE18/OvV5nFcsoMAAC/IRBVM5wyAwDA/whE1QxPugcAwP8IRNVIaanRkXzvjRmZQwQAgL8QiKqRnOPF8pT+8iCz+hEhNvcGAIAzB4GoGvGeLot0B8sdHGRzbwAAOHMQiKoR73PMornCDAAAvwq2uwM4tT0/HdOij/bqvz8dk8SEagAA/I1AVA08/cG3em3rfut9w3rhNvYGAIAzD4GoGvBeWdazdZzOT4rSVe0b2twjAADOLASiaiC/qESSNOD8RA1ol2hzbwAAOPMwqboaKCjySJJqh3BlGQAAVYFAVA0UFP8aiEIJRAAAVAUCUTWQ/2uFKJxABABAlSAQVQPWKbNQpnwBAFAVCETVgFUhYg4RAABVgkDkcKWlxppDxCkzAACqBoHI4Y6XeKx/M6kaAICqQSByOO/pMolTZgAAVBUCkcN5J1SHhdRSrVoum3sDAMCZiUDkcPlcYQYAQJUjEDmc97EdnC4DAKDqEIgcjrtUAwBQ9WwNRB9++KH69++vxMREuVwurVixwme9MUbTp09XYmKiwsPD1b17d+3atcunTWFhoW6++WbFxsYqIiJCAwYM0P79+33aHDlyRDfccIOioqIUFRWlG264QUePHq3i0fnHbzdlJBABAFBVbA1Ex44dU7t27fTMM8+Uu37OnDl67LHH9Mwzz2jz5s2Kj4/X5ZdfrtzcXKtNamqqli9friVLlmjDhg3Ky8tTv3795PH8dnXW8OHDtX37dr377rt69913tX37dt1www1VPj5/4LEdAAAEgHEISWb58uXW+9LSUhMfH28efPBBa9nx48dNVFSUef75540xxhw9etSEhISYJUuWWG1++OEHU6tWLfPuu+8aY4z54osvjCTz0UcfWW02bdpkJJmvvvqqwv3Lzs42kkx2dnZlh1gpSz/53jS54y0z6qWPA/q9AACcCSp6/HbsHKKMjAxlZWWpV69e1jK3261u3bpp48aNkqQtW7aouLjYp01iYqJSUlKsNps2bVJUVJQ6d+5stbnwwgsVFRVltSlPYWGhcnJyfF528E6q5iozAACqjmMDUVZWliQpLi7OZ3lcXJy1LisrS6Ghoapfv/5J2zRo0KDM9hs0aGC1Kc/s2bOtOUdRUVFKSkr6U+OprHwe2wEAQJVzbCDycrl8b0ZojCmz7I/+2Ka89qfaTlpamrKzs63Xvn37TrPn/sGkagAAqp5jA1F8fLwklaniHDp0yKoaxcfHq6ioSEeOHDlpm4MHD5bZ/o8//lim+vR7brdbdevW9XnZgUnVAABUPccGouTkZMXHxys9Pd1aVlRUpHXr1qlr166SpI4dOyokJMSnTWZmpnbu3Gm16dKli7Kzs/XJJ59YbT7++GNlZ2dbbZzMulN1CHOIAACoKrYeZfPy8vTtt99a7zMyMrR9+3ZFR0ercePGSk1N1axZs9SiRQu1aNFCs2bNUu3atTV8+HBJUlRUlMaOHauJEycqJiZG0dHRmjRpktq2bauePXtKklq3bq0rr7xS48aN0wsvvCBJ+tvf/qZ+/fqpZcuWgR/0aSqwJlVTIQIAoKrYGog+/fRT9ejRw3p/++23S5JGjhyp+fPna8qUKSooKNCECRN05MgRde7cWe+9954iIyOtzzz++OMKDg7WkCFDVFBQoMsuu0zz589XUNBvAWLx4sW65ZZbrKvRBgwYcMJ7HzlNAZOqAQCoci5jjLG7E9VBTk6OoqKilJ2dHdD5RDfM/Vjrd/+kx4a006AOjQL2vQAAnAkqevx27Bwi/IKrzAAAqHoEIofzTqoO42n3AABUGQKRw/32tHuuMgMAoKoQiBwun6vMAACocgQih+PGjAAAVD0CkcMxqRoAgKpHIHKwopJSlZT+clcE7lQNAEDVIRA5mLc6JHHKDACAqkQgcjDvFWbBtVwKDWZXAQBQVTjKOpj3CjOqQwAAVC0CkYPlM6EaAICAIBA5mPVgV+5SDQBAlSIQOdhv9yDiCjMAAKoSgcjBCrhLNQAAAUEgcjDmEAEAEBgEIgezTpkxhwgAgCpFIHIwHtsBAEBgEIgcjEnVAAAEBoHIwbyX3VMhAgCgahGIHIyrzAAACAwCkYP9dsqMQAQAQFUiEDlYPneqBgAgIAhEDsZVZgAABAaByMF+e9o9V5kBAFCVCEQOZlWIOGUGAECVIhA5GI/uAAAgMAhEDsZVZgAABAaByMHyrfsQMYcIAICqRCByqMISj47kF0uSzop029wbAADObAQihzqYXShJcgfXUv3aITb3BgCAMxuByKEyswskSQlRYXK5XDb3BgCAMxuByKEys49LkhKiwm3uCQAAZz4CkUMd+F2FCAAAVC0CkUNleStE9QhEAABUNccHotzcXKWmpqpJkyYKDw9X165dtXnzZmu9y+Uq9/Xwww9bbbp3715m/bBhw+wYToUdOMopMwAAAsXxN7i56aabtHPnTi1cuFCJiYlatGiRevbsqS+++EINGzZUZmamT/t33nlHY8eO1eDBg32Wjxs3Tvfdd5/1Pjzc2UHDO6k6kQoRAABVztGBqKCgQK+99ppef/11XXLJJZKk6dOna8WKFXruuef0wAMPKD4+3uczr7/+unr06KGzzz7bZ3nt2rXLtHUy76Tq+LrODm4AAJwJHH3KrKSkRB6PR2FhvlWS8PBwbdiwoUz7gwcPauXKlRo7dmyZdYsXL1ZsbKzatGmjSZMmKTc3t8r6/WcdL/bo52NFkqgQAQAQCI6uEEVGRqpLly66//771bp1a8XFxenVV1/Vxx9/rBYtWpRpv2DBAkVGRmrQoEE+y0eMGKHk5GTFx8dr586dSktL02effab09PQTfndhYaEKCwut9zk5Of4b2Cl4J1SHhwQpKpybMgIAUNUcHYgkaeHChRozZowaNmyooKAgdejQQcOHD9fWrVvLtH3ppZc0YsSIMhWlcePGWf9OSUlRixYt1KlTJ23dulUdOnQo93tnz56tGTNm+HcwFWRdcl+PmzICABAIjj5lJknNmjXTunXrlJeXp3379umTTz5RcXGxkpOTfdqtX79eX3/9tW666aZTbrNDhw4KCQnR7t27T9gmLS1N2dnZ1mvfvn1/eiwVZV1yzz2IAAAICMdXiLwiIiIUERGhI0eOaNWqVZozZ47P+rlz56pjx45q167dKbe1a9cuFRcXKyEh4YRt3G633G57HqrKXaoBAAgsxweiVatWyRijli1b6ttvv9XkyZPVsmVLjR492mqTk5Ojf//733r00UfLfP67777T4sWL1adPH8XGxuqLL77QxIkT1b59e1100UWBHEqFHTj66yX3VIgAAAgIxwei7OxspaWlaf/+/YqOjtbgwYM1c+ZMhYT8Ntl4yZIlMsbouuuuK/P50NBQvf/++3ryySeVl5enpKQk9e3bV9OmTVNQUFAgh1Jh3lNm8VSIAAAICJcxxtjdieogJydHUVFRys7OVt26dav0u3o/uV5fZuZo3ui/qEfLBlX6XQAAnMkqevx2/KTqmsi6SzUVIgAAAoJA5DAFRR4dzS+WxINdAQAIFAKRw3irQxGhQYp0O36KFwAAZwQCkcPkHi+RJNWrHcpNGQEACBACkcMcL/ZIktwh7BoAAAKFo67DHC8plSSFBTvzlgAAAJyJCEQOU0iFCACAgOOo6zBUiAAACDwCkcNQIQIAIPA46joMFSIAAAKPQOQwVIgAAAg8jroOU0iFCACAgCMQOYy3QhRGhQgAgIDhqOsw3jlE7hAqRAAABAqByGGsClEwuwYAgEDhqOswx4upEAEAEGgEIoc5XvLrVWZUiAAACBiOug5TSIUIAICAIxA5jLdCxBwiAAACh6Ouw1AhAgAg8AhEDkOFCACAwOOo6zBUiAAACDwCkcNQIQIAIPA46jqMt0IURoUIAICAIRA5TGEJT7sHACDQOOo6jFUh4mn3AAAEDIHIYY5TIQIAIOA46jqIp9So2GMkUSECACCQCEQO4p0/JFEhAgAgkDjqOoj3SfeS5KZCBABAwBCIHMRbIQoJcimolsvm3gAAUHMQiBzkOFeYAQBgCwKRg3APIgAA7MGR10G8FSLmDwEAEFgEIgcpLP71OWZUiAAACCjHH3lzc3OVmpqqJk2aKDw8XF27dtXmzZut9aNGjZLL5fJ5XXjhhT7bKCws1M0336zY2FhFRERowIAB2r9/f6CHckrHS6gQAQBgB8cHoptuuknp6elauHChduzYoV69eqlnz5764YcfrDZXXnmlMjMzrdfbb7/ts43U1FQtX75cS5Ys0YYNG5SXl6d+/frJ4/H88etsdZwKEQAAtnD0kbegoECvvfaa5syZo0suuUTNmzfX9OnTlZycrOeee85q53a7FR8fb72io6OtddnZ2Zo7d64effRR9ezZU+3bt9eiRYu0Y8cOrV692o5hnVAhFSIAAGzh6EBUUlIij8ejsLAwn+Xh4eHasGGD9X7t2rVq0KCBzjnnHI0bN06HDh2y1m3ZskXFxcXq1auXtSwxMVEpKSnauHFj1Q/iNFAhAgDAHo4+8kZGRqpLly66//77deDAAXk8Hi1atEgff/yxMjMzJUm9e/fW4sWL9cEHH+jRRx/V5s2bdemll6qwsFCSlJWVpdDQUNWvX99n23FxccrKyjrhdxcWFionJ8fnVdWoEAEAYA9HByJJWrhwoYwxatiwodxut5566ikNHz5cQUG/hIahQ4eqb9++SklJUf/+/fXOO+/om2++0cqVK0+6XWOMXK4T3w169uzZioqKsl5JSUl+HVd5uMoMAAB7OP7I26xZM61bt055eXnat2+fPvnkExUXFys5Obnc9gkJCWrSpIl2794tSYqPj1dRUZGOHDni0+7QoUOKi4s74fempaUpOzvbeu3bt89/gzoBKkQAANjD8YHIKyIiQgkJCTpy5IhWrVqlgQMHltvu8OHD2rdvnxISEiRJHTt2VEhIiNLT0602mZmZ2rlzp7p27XrC73O73apbt67Pq6oxhwgAAHsE292BU1m1apWMMWrZsqW+/fZbTZ48WS1bttTo0aOVl5en6dOna/DgwUpISNCePXt05513KjY2VldffbUkKSoqSmPHjtXEiRMVExOj6OhoTZo0SW3btlXPnj1tHp0vq0IUQoUIAIBAcnwgys7OVlpamvbv36/o6GgNHjxYM2fOVEhIiEpKSrRjxw69/PLLOnr0qBISEtSjRw8tXbpUkZGR1jYef/xxBQcHa8iQISooKNBll12m+fPnW/OQnMKqEAVTIQIAIJBcxhhjdyeqg5ycHEVFRSk7O7vKTp/d8Z/PtfTTfZp8RUv9o0fzKvkOAABqkooevylFOMhx79PuqRABABBQHHkd5LdJ1c46lQcAwJmOQOQgv112z24BACCQ/HLk9Xg82r59e5l7/eD0UCECAMAelQpEqampmjt3rqRfwlC3bt3UoUMHJSUlae3atf7sX41ChQgAAHtU6sj7n//8R+3atZMkvfnmm8rIyNBXX32l1NRU3XXXXX7tYE1yvPiXQESFCACAwKpUIPrpp58UHx8vSXr77bd17bXX6pxzztHYsWO1Y8cOv3awJinkKjMAAGxRqSNvXFycvvjiC3k8Hr377rvWHZ/z8/Mdd7PD6qSQChEAALao1J2qR48erSFDhighIUEul0uXX365JOnjjz9Wq1at/NrBmsSqEPEsMwAAAqpSgWj69OlKSUnRvn37dO2118rtdkuSgoKCNHXqVL92sCax5hDxtHsAAAKq0s8yu+aaa3zeHz16VCNHjvzTHarJvBUiTpkBABBYlTo389BDD2np0qXW+yFDhigmJkaNGjXS559/7rfO1SSeUqNizy+PlWNSNQAAgVWpI+8LL7ygpKQkSVJ6errS09P1zjvv6Morr9SkSZP82sGawntTRokKEQAAgVapU2aZmZlWIHrrrbc0ZMgQ9erVS02bNlXnzp392sGawntTRokKEQAAgVapI2/9+vW1b98+SfK57N4YI4/Hc7KP4gS8FaLQoFqqVctlc28AAKhZKlUhGjRokIYPH64WLVro8OHD6t27tyRp+/btat68uV87WFPw2A4AAOxTqUD0+OOPq2nTptq3b5/mzJmjOnXqSPrlVNqECRP82sGawlshcjN/CACAgKtUIAoJCSl38nRqauqf7U+NRYUIAAD7VProu3DhQl188cVKTEzU3r17JUlPPPGEXn/9db91ribxVojCuEs1AAABV6mj73PPPafbb79dvXv31tGjR62J1PXq1dMTTzzhz/7VGL9ViDhlBgBAoFUqED399NP617/+pbvuusvnYa6dOnXiafeVRIUIAAD7VOrom5GRofbt25dZ7na7dezYsT/dqZqIChEAAPapVCBKTk7W9u3byyx/5513dO655/7ZPtVIVIgAALBPpa4ymzx5sv7xj3/o+PHjMsbok08+0auvvqrZs2frxRdf9Hcfa4TCYh7sCgCAXSoViEaPHq2SkhJNmTJF+fn5Gj58uBo2bKgnn3xSw4YN83cfawQuuwcAwD6VCkSSNG7cOI0bN04//fSTSktL1aBBA3/2q8bxPuk+OIhABABAoFU6EHnFxsb6ox81nqf0lwpRMM8xAwAg4CpVjjh48KBuuOEGJSYmKjg4WEFBQT4vnD7Prw+758GuAAAEXqUqRKNGjdL333+ve+65RwkJCXK5OIj/WVSIAACwT6UC0YYNG7R+/Xqdf/75fu5OzeUxv8whqkW4BAAg4Cp1yiwpKUnm1wM4/KOk9NdJ1VSIAAAIuEoFoieeeEJTp07Vnj17/Nydmqv010AURCACACDgKnXKbOjQocrPz1ezZs1Uu3ZthYSE+Kz/+eef/dK5msQ7qZpABABA4FUqED3++ONMpPYz76RqAhEAAIFX6avM4F/eSdUEIgAAAq9Sc4iCgoJ06NChMssPHz7s9/sQ5ebmKjU1VU2aNFF4eLi6du2qzZs3S5KKi4t1xx13qG3btoqIiFBiYqJuvPFGHThwwGcb3bt3l8vl8nk57REjHu8cIipvAAAEXKUC0YmuMCssLFRoaOif6tAf3XTTTUpPT9fChQu1Y8cO9erVSz179tQPP/yg/Px8bd26Vffcc4+2bt2qZcuW6ZtvvtGAAQPKbGfcuHHKzMy0Xi+88IJf+/lnWYEoiEAEAECgndYps6eeekqS5HK59OKLL6pOnTrWOo/How8//FCtWrXyW+cKCgr02muv6fXXX9cll1wiSZo+fbpWrFih5557Tg888IDS09N9PvP000/rggsu0Pfff6/GjRtby2vXrq34+Hi/9c3fSqgQAQBgm9MKRI8//rikXypEzz//vM/psdDQUDVt2lTPP/+83zpXUlIij8ejsLAwn+Xh4eHasGFDuZ/Jzs6Wy+VSvXr1fJYvXrxYixYtUlxcnHr37q1p06YpMjLSb339s7jsHgAA+5xWIMrIyJAk9ejRQ8uWLVP9+vWrpFNekZGR6tKli+6//361bt1acXFxevXVV/Xxxx+rRYsWZdofP35cU6dO1fDhw1W3bl1r+YgRI5ScnKz4+Hjt3LlTaWlp+uyzz8pUl36vsLBQhYWF1vucnBz/Du4PSghEAADYplJXma1Zs8bf/TihhQsXasyYMWrYsKGCgoLUoUMHDR8+XFu3bvVpV1xcrGHDhqm0tFTPPvusz7px48ZZ/05JSVGLFi3UqVMnbd26VR06dCj3e2fPnq0ZM2b4f0AnUMpVZgAA2KbCgej222/X/fffr4iICN1+++0nbfvYY4/96Y55NWvWTOvWrdOxY8eUk5OjhIQEDR06VMnJyVab4uJiDRkyRBkZGfrggw98qkPl6dChg0JCQrR79+4TBqK0tDSfcebk5CgpKck/gypHiYdABACAXSociLZt26avvvpK7du317Zt207Yrqpu2BgREaGIiAgdOXJEq1at0pw5cyT9FoZ2796tNWvWKCYm5pTb2rVrl4qLi5WQkHDCNm63W26322/9PxWrQsSkagAAAq7CgWjNmjUKCgpSZmamdcps6NCheuqppxQXF1dlHVy1apWMMWrZsqW+/fZbTZ48WS1bttTo0aNVUlKia665Rlu3btVbb70lj8ejrKwsSVJ0dLRCQ0P13XffafHixerTp49iY2P1xRdfaOLEiWrfvr0uuuiiKuv36WIOEQAA9jmtOUR/vP/QO++8o2PHjvm1Q3+UnZ2ttLQ07d+/X9HR0Ro8eLBmzpypkJAQ7dmzR2+88YYk6fzzz/f53Jo1a9S9e3eFhobq/fff15NPPqm8vDwlJSWpb9++mjZtmt9vIvlneAhEAADYplKTqr1OdINGfxoyZIiGDBlS7rqmTZuesg9JSUlat25dVXTNrwhEAADY57TuVO197MUfl+HPIxABAGCf0z5lNmrUKGuy8fHjx/X3v/9dERERPu2WLVvmvx7WEN5AFEwgAgAg4E4rEI0cOdLn/fXXX+/XztRk3qfd16LiBgBAwJ1WIJo3b15V9aPGsypEPNwVAICAq9TT7uF/3kBEhQgAgMAjEDnEb3OI2CUAAAQaR1+HsCpE7BEAAAKOw69DeCdVUyECACDwOPo6xG/3IbK5IwAA1EAcfh2CSdUAANiHQOQQTKoGAMA+HH0dgknVAADYh8OvQ1AhAgDAPhx9HcJ7lRmTqgEACDwOvw7h8XgDEbsEAIBA4+jrEFaFiKvMAAAIOAKRQ5R470PEw10BAAg4ApFDlJZSIQIAwC4EIoewKkS1CEQAAAQagcgBvNUhiUAEAIAdCEQOUEIgAgDAVgQiByg1BCIAAOxEIHIAz+8qRMEEIgAAAo5A5AC/P2XG0+4BAAg8ApEDMKkaAAB7EYgcwLdCZGNHAACooQhEDlBqfrsHkYtTZgAABByByAG4KSMAAPYiEDkAj+0AAMBeBCIH8FaIuOQeAAB7EIgcwHsfoloEIgAAbEEgcgAPFSIAAGxFIHIAKkQAANiLQOQAVIgAALAXgcgBPL/eh4jHdgAAYA/HB6Lc3FylpqaqSZMmCg8PV9euXbV582ZrvTFG06dPV2JiosLDw9W9e3ft2rXLZxuFhYW6+eabFRsbq4iICA0YMED79+8P9FBOyFNaKkkKDiIQAQBgB8cHoptuuknp6elauHChduzYoV69eqlnz5764YcfJElz5szRY489pmeeeUabN29WfHy8Lr/8cuXm5lrbSE1N1fLly7VkyRJt2LBBeXl56tevnzwej13D8uH5JQ9xHyIAAGzi6EBUUFCg1157TXPmzNEll1yi5s2ba/r06UpOTtZzzz0nY4yeeOIJ3XXXXRo0aJBSUlK0YMEC5efn65VXXpEkZWdna+7cuXr00UfVs2dPtW/fXosWLdKOHTu0evVqm0f4i5JfK0TcqRoAAHs4OhCVlJTI4/EoLCzMZ3l4eLg2bNigjIwMZWVlqVevXtY6t9utbt26aePGjZKkLVu2qLi42KdNYmKiUlJSrDblKSwsVE5Ojs+rqpR6K0QEIgAAbOHoQBQZGakuXbro/vvv14EDB+TxeLRo0SJ9/PHHyszMVFZWliQpLi7O53NxcXHWuqysLIWGhqp+/fonbFOe2bNnKyoqynolJSX5eXS/oUIEAIC9HB2IJGnhwoUyxqhhw4Zyu9166qmnNHz4cAUFBVlt/viEeGPMKZ8af6o2aWlpys7Otl779u37cwM5id8/7R4AAASe4wNRs2bNtG7dOuXl5Wnfvn365JNPVFxcrOTkZMXHx0tSmUrPoUOHrKpRfHy8ioqKdOTIkRO2KY/b7VbdunV9XlXFO6may+4BALCH4wORV0REhBISEnTkyBGtWrVKAwcOtEJRenq61a6oqEjr1q1T165dJUkdO3ZUSEiIT5vMzEzt3LnTamM367J7KkQAANgi2O4OnMqqVatkjFHLli317bffavLkyWrZsqVGjx4tl8ul1NRUzZo1Sy1atFCLFi00a9Ys1a5dW8OHD5ckRUVFaezYsZo4caJiYmIUHR2tSZMmqW3bturZs6fNo/uFVSEiEAEAYAvHB6Ls7GylpaVp//79io6O1uDBgzVz5kyFhIRIkqZMmaKCggJNmDBBR44cUefOnfXee+8pMjLS2sbjjz+u4OBgDRkyRAUFBbrssss0f/58n3lIdiqhQgQAgK1cxvw6oxcnlZOTo6ioKGVnZ/t9PtHybft129LP9NcWsVo4trNftw0AQE1W0eN3tZlDdCYr8XCVGQAAdiIQOYB12T1XmQEAYAsCkQOUlFIhAgDATgQiByglEAEAYCsCkQNQIQIAwF4EIgfwEIgAALAVgcgBCEQAANiLQOQAHq4yAwDAVgQiB/D8eh+i4CACEQAAdiAQOYC3QsTT7gEAsAeByAGYQwQAgL0IRA5AIAIAwF4EIgewAhGnzAAAsAWByAGsQMSkagAAbEEgcgAuuwcAwF4EIgfwVoiCmUMEAIAtCEQO4A1EtQhEAADYgkDkAFSIAACwF4HIAagQAQBgLwKRA1AhAgDAXgQiB+DRHQAA2ItA5AAlVIgAALAVgcgBSnl0BwAAtiIQOUCJFYjYHQAA2IEjsAP8ViGyuSMAANRQHIIdwFshYlI1AAD2IBA5QOmvV5kF83BXAABsQSBygBIPFSIAAOxEIHIA732IgplUDQCALTgCO4CHSdUAANiKQ7ADeLjsHgAAW3EEdgAqRAAA2ItDsANQIQIAwF4cgR3Ae9l9EFeZAQBgCwKRA5TwLDMAAGzl6EBUUlKiu+++W8nJyQoPD9fZZ5+t++67T6WlpVYbl8tV7uvhhx+22nTv3r3M+mHDhtkxpHLxcFcAAOwVbHcHTuahhx7S888/rwULFqhNmzb69NNPNXr0aEVFRenWW2+VJGVmZvp85p133tHYsWM1ePBgn+Xjxo3TfffdZ70PDw+v+gFUEBUiAADs5ehAtGnTJg0cOFB9+/aVJDVt2lSvvvqqPv30U6tNfHy8z2def/119ejRQ2effbbP8tq1a5dp6xQeAhEAALZy9Cmziy++WO+//76++eYbSdJnn32mDRs2qE+fPuW2P3jwoFauXKmxY8eWWbd48WLFxsaqTZs2mjRpknJzc0/63YWFhcrJyfF5VRVvIAomEAEAYAtHV4juuOMOZWdnq1WrVgoKCpLH49HMmTN13XXXldt+wYIFioyM1KBBg3yWjxgxQsnJyYqPj9fOnTuVlpamzz77TOnp6Sf87tmzZ2vGjBl+Hc+JeB/dwbPMAACwh6MD0dKlS7Vo0SK98soratOmjbZv367U1FQlJiZq5MiRZdq/9NJLGjFihMLCwnyWjxs3zvp3SkqKWrRooU6dOmnr1q3q0KFDud+dlpam22+/3Xqfk5OjpKQkP43Ml1Uh4mn3AADYwtGBaPLkyZo6dap1RVjbtm21d+9ezZ49u0wgWr9+vb7++mstXbr0lNvt0KGDQkJCtHv37hMGIrfbLbfb/ecHUQHeQESFCAAAezh6DlF+fr5q/eHuzUFBQT6X3XvNnTtXHTt2VLt27U653V27dqm4uFgJCQl+6+ufwaRqAADs5egKUf/+/TVz5kw1btxYbdq00bZt2/TYY49pzJgxPu1ycnL073//W48++miZbXz33XdavHix+vTpo9jYWH3xxReaOHGi2rdvr4suuihQQzkpJlUDAGAvRweip59+Wvfcc48mTJigQ4cOKTExUePHj9e9997r027JkiUyxpQ72To0NFTvv/++nnzySeXl5SkpKUl9+/bVtGnTFBQUFKihnJR1yoxABACALVzG/HqJE04qJydHUVFRys7OVt26df267WZ3vi1PqdHHd16muLphp/4AAACokIoevx09h6gmMMYwqRoAAJsRiGxW+rv6HHOIAACwB4HIZiW/u2KOOUQAANiDQGSz399BgAoRAAD2IBDZ7PcVIu5DBACAPQhENvt9hYhABACAPQhENvP87q4HQVxlBgCALQhENvOeMnO5mFQNAIBdCEQ2854yozoEAIB9CEQ281aImD8EAIB9CEQ2sypEBCIAAGxDILKZVSHilBkAALYhENms9NerzIKCCEQAANiFQGSzkl8fZkaFCAAA+xCIbOZ90j1ziAAAsA+ByGYEIgAA7EcgshmBCAAA+xGIbEYgAgDAfgQimxGIAACwH4HIZh6uMgMAwHYEIpt5n3ZPhQgAAPsQiGxWwikzAABsRyCyWemvgSiYQAQAgG0IRDbzVohqEYgAALANgchmVIgAALAfgchm3knVtbjKDAAA2xCIbMZ9iAAAsB+ByGYEIgAA7EcgshmX3QMAYD8Ckc2YVA0AgP0IRDazLrtnUjUAALYhENms9NerzIKDCEQAANiFQGSzEg8VIgAA7EYgsplVIWIOEQAAtiEQ2YxHdwAAYD9HB6KSkhLdfffdSk5OVnh4uM4++2zdd999Ki0ttdqMGjVKLpfL53XhhRf6bKewsFA333yzYmNjFRERoQEDBmj//v2BHk65PFxlBgCA7YLt7sDJPPTQQ3r++ee1YMECtWnTRp9++qlGjx6tqKgo3XrrrVa7K6+8UvPmzbPeh4aG+mwnNTVVb775ppYsWaKYmBhNnDhR/fr105YtWxQUFBSw8ZSHGzMCAGA/RweiTZs2aeDAgerbt68kqWnTpnr11Vf16aef+rRzu92Kj48vdxvZ2dmaO3euFi5cqJ49e0qSFi1apKSkJK1evVpXXHFF1Q7iFAhEAADYz9GnzC6++GK9//77+uabbyRJn332mTZs2KA+ffr4tFu7dq0aNGigc845R+PGjdOhQ4esdVu2bFFxcbF69eplLUtMTFRKSoo2btx4wu8uLCxUTk6Oz6sqWIGIq8wAALCNoytEd9xxh7Kzs9WqVSsFBQXJ4/Fo5syZuu6666w2vXv31rXXXqsmTZooIyND99xzjy699FJt2bJFbrdbWVlZCg0NVf369X22HRcXp6ysrBN+9+zZszVjxowqG5uX92n3QbUcnU0BADijOToQLV26VIsWLdIrr7yiNm3aaPv27UpNTVViYqJGjhwpSRo6dKjVPiUlRZ06dVKTJk20cuVKDRo06ITbNsbIdZKqTFpamm6//XbrfU5OjpKSkvwwKl+/nTLz+6YBAEAFOToQTZ48WVOnTtWwYcMkSW3bttXevXs1e/ZsKxD9UUJCgpo0aaLdu3dLkuLj41VUVKQjR474VIkOHTqkrl27nvC73W633G63H0dTPg+X3QMAYDtH1yXy8/NV6w+nkoKCgnwuu/+jw4cPa9++fUpISJAkdezYUSEhIUpPT7faZGZmaufOnScNRIHCZfcAANjP0RWi/v37a+bMmWrcuLHatGmjbdu26bHHHtOYMWMkSXl5eZo+fboGDx6shIQE7dmzR3feeadiY2N19dVXS5KioqI0duxYTZw4UTExMYqOjtakSZPUtm1b66ozOzGpGgAA+zk6ED399NO65557NGHCBB06dEiJiYkaP3687r33Xkm/VIt27Nihl19+WUePHlVCQoJ69OihpUuXKjIy0trO448/ruDgYA0ZMkQFBQW67LLLNH/+fNvvQSQxqRoAACdwGfPrERknlZOTo6ioKGVnZ6tu3bp+2+4d//lcSz/dp0m9ztE/L23ht+0CAICKH78pS9iMChEAAPbjKGwzLrsHAMB+HIZt9lsgYlcAAGAXjsI2++0qM5s7AgBADUYgspkViDhnBgCAbTgK26yE+xABAGA7ApHNSg13qgYAwG4EIpuV8CwzAABsRyCyWWiQS+7gWgphVjUAALZx9KM7aoIXR/7F7i4AAFDjUSECAAA1HoEIAADUeAQiAABQ4xGIAABAjUcgAgAANR6BCAAA1HgEIgAAUOMRiAAAQI1HIAIAADUegQgAANR4BCIAAFDjEYgAAECNRyACAAA1HoEIAADUeMF2d6C6MMZIknJycmzuCQAAqCjvcdt7HD8RAlEF5ebmSpKSkpJs7gkAADhdubm5ioqKOuF6lzlVZIIkqbS0VAcOHFBkZKRcLpfftpuTk6OkpCTt27dPdevW9dt2nYQxVn9n+vgkxngmONPHJ535Y6yK8RljlJubq8TERNWqdeKZQlSIKqhWrVpq1KhRlW2/bt26Z+Qv9+8xxurvTB+fxBjPBGf6+KQzf4z+Ht/JKkNeTKoGAAA1HoEIAADUeAQim7ndbk2bNk1ut9vurlQZxlj9nenjkxjjmeBMH5905o/RzvExqRoAANR4VIgAAECNRyACAAA1HoEIAADUeAQiAABQ4xGIbPbss88qOTlZYWFh6tixo9avX293lypl9uzZ+stf/qLIyEg1aNBAV111lb7++mufNqNGjZLL5fJ5XXjhhTb1+PRNnz69TP/j4+Ot9cYYTZ8+XYmJiQoPD1f37t21a9cuG3t8+po2bVpmjC6XS//4xz8kVb99+OGHH6p///5KTEyUy+XSihUrfNZXZJ8VFhbq5ptvVmxsrCIiIjRgwADt378/gKM4uZONsbi4WHfccYfatm2riIgIJSYm6sYbb9SBAwd8ttG9e/cy+3XYsGEBHkn5TrUPK/I7WZ33oaRy/yZdLpcefvhhq42T92FFjg9O+FskENlo6dKlSk1N1V133aVt27bpr3/9q3r37q3vv//e7q6dtnXr1ukf//iHPvroI6Wnp6ukpES9evXSsWPHfNpdeeWVyszMtF5vv/22TT2unDZt2vj0f8eOHda6OXPm6LHHHtMzzzyjzZs3Kz4+Xpdffrn1HLzqYPPmzT7jS09PlyRde+21VpvqtA+PHTumdu3a6Zlnnil3fUX2WWpqqpYvX64lS5Zow4YNysvLU79+/eTxeAI1jJM62Rjz8/O1detW3XPPPdq6dauWLVumb775RgMGDCjTdty4cT779YUXXghE90/pVPtQOvXvZHXeh5J8xpaZmamXXnpJLpdLgwcP9mnn1H1YkeODI/4WDWxzwQUXmL///e8+y1q1amWmTp1qU4/859ChQ0aSWbdunbVs5MiRZuDAgfZ16k+aNm2aadeuXbnrSktLTXx8vHnwwQetZcePHzdRUVHm+eefD1AP/e/WW281zZo1M6WlpcaY6r0PJZnly5db7yuyz44ePWpCQkLMkiVLrDY//PCDqVWrlnn33XcD1veK+uMYy/PJJ58YSWbv3r3Wsm7duplbb721ajvnB+WN71S/k2fiPhw4cKC59NJLfZZVl31oTNnjg1P+FqkQ2aSoqEhbtmxRr169fJb36tVLGzdutKlX/pOdnS1Jio6O9lm+du1aNWjQQOecc47GjRunQ4cO2dG9Stu9e7cSExOVnJysYcOG6b///a8kKSMjQ1lZWT770+12q1u3btV2fxYVFWnRokUaM2aMzwONq/s+9KrIPtuyZYuKi4t92iQmJiolJaXa7tfs7Gy5XC7Vq1fPZ/nixYsVGxurNm3aaNKkSdWqsnmy38kzbR8ePHhQK1eu1NixY8usqy778I/HB6f8LfJwV5v89NNP8ng8iouL81keFxenrKwsm3rlH8YY3X777br44ouVkpJiLe/du7euvfZaNWnSRBkZGbrnnnt06aWXasuWLdXirqudO3fWyy+/rHPOOUcHDx7UAw88oK5du2rXrl3WPitvf+7du9eO7v5pK1as0NGjRzVq1ChrWXXfh79XkX2WlZWl0NBQ1a9fv0yb6vh3evz4cU2dOlXDhw/3eXDmiBEjlJycrPj4eO3cuVNpaWn67LPPrFOmTnaq38kzbR8uWLBAkZGRGjRokM/y6rIPyzs+OOVvkUBks9//n7f0yy/LH5dVN//85z/1+eefa8OGDT7Lhw4dav07JSVFnTp1UpMmTbRy5coyf9xO1Lt3b+vfbdu2VZcuXdSsWTMtWLDAmsR5Ju3PuXPnqnfv3kpMTLSWVfd9WJ7K7LPquF+Li4s1bNgwlZaW6tlnn/VZN27cOOvfKSkpatGihTp16qStW7eqQ4cOge7qaans72R13IeS9NJLL2nEiBEKCwvzWV5d9uGJjg+S/X+LnDKzSWxsrIKCgsok20OHDpVJydXJzTffrDfeeENr1qxRo0aNTto2ISFBTZo00e7duwPUO/+KiIhQ27ZttXv3butqszNlf+7du1erV6/WTTfddNJ21XkfVmSfxcfHq6ioSEeOHDlhm+qguLhYQ4YMUUZGhtLT032qQ+Xp0KGDQkJCquV+/ePv5JmyDyVp/fr1+vrrr0/5dyk5cx+e6PjglL9FApFNQkND1bFjxzLlzPT0dHXt2tWmXlWeMUb//Oc/tWzZMn3wwQdKTk4+5WcOHz6sffv2KSEhIQA99L/CwkJ9+eWXSkhIsErVv9+fRUVFWrduXbXcn/PmzVODBg3Ut2/fk7arzvuwIvusY8eOCgkJ8WmTmZmpnTt3Vpv96g1Du3fv1urVqxUTE3PKz+zatUvFxcXVcr/+8XfyTNiHXnPnzlXHjh3Vrl27U7Z10j481fHBMX+LfpmajUpZsmSJCQkJMXPnzjVffPGFSU1NNREREWbPnj12d+20/c///I+Jiooya9euNZmZmdYrPz/fGGNMbm6umThxotm4caPJyMgwa9asMV26dDENGzY0OTk5Nve+YiZOnGjWrl1r/vvf/5qPPvrI9OvXz0RGRlr768EHHzRRUVFm2bJlZseOHea6664zCQkJ1WZ8Xh6PxzRu3NjccccdPsur4z7Mzc0127ZtM9u2bTOSzGOPPWa2bdtmXWFVkX3297//3TRq1MisXr3abN261Vx66aWmXbt2pqSkxK5h+TjZGIuLi82AAQNMo0aNzPbt233+NgsLC40xxnz77bdmxowZZvPmzSYjI8OsXLnStGrVyrRv394RYzzZ+Cr6O1md96FXdna2qV27tnnuuefKfN7p+/BUxwdjnPG3SCCy2f/+7/+aJk2amNDQUNOhQwefy9SrE0nlvubNm2eMMSY/P9/06tXLnHXWWSYkJMQ0btzYjBw50nz//ff2dvw0DB061CQkJJiQkBCTmJhoBg0aZHbt2mWtLy0tNdOmTTPx8fHG7XabSy65xOzYscPGHlfOqlWrjCTz9ddf+yyvjvtwzZo15f5ejhw50hhTsX1WUFBg/vnPf5ro6GgTHh5u+vXr56gxn2yMGRkZJ/zbXLNmjTHGmO+//95ccsklJjo62oSGhppmzZqZW265xRw+fNjegf3qZOOr6O9kdd6HXi+88IIJDw83R48eLfN5p+/DUx0fjHHG36Lr184CAADUWMwhAgAANR6BCAAA1HgEIgAAUOMRiAAAQI1HIAIAADUegQgAANR4BCIAAFDjEYgAwI/mz5+vevXq2d0NAKeJQATAFllZWbr11lvVvHlzhYWFKS4uThdffLGef/555efn2929CmnatKmeeOIJn2VDhw7VN998Y0+HAFRasN0dAFDz/Pe//9VFF12kevXqadasWWrbtq1KSkr0zTff6KWXXlJiYqIGDBhgS9+MMfJ4PAoOrtx/HsPDwxUeHu7nXgGoalSIAATchAkTFBwcrE8//VRDhgxR69at1bZtWw0ePFgrV65U//79JUnZ2dn629/+pgYNGqhu3bq69NJL9dlnn1nbmT59us4//3wtXLhQTZs2VVRUlIYNG6bc3FyrjTFGc+bM0dlnn63w8HC1a9dO//nPf6z1a9eulcvl0qpVq9SpUye53W6tX79e3333nQYOHKi4uDjVqVNHf/nLX7R69Wrrc927d9fevXt12223yeVyyeVySSr/lNlzzz2nZs2aKTQ0VC1bttTChQt91rtcLr344ou6+uqrVbt2bbVo0UJvvPGG337eAE6NQAQgoA4fPqz33ntP//jHPxQREVFuG5fLJWOM+vbtq6ysLL399tvasmWLOnTooMsuu0w///yz1fa7777TihUr9NZbb+mtt97SunXr9OCDD1rr7777bs2bN0/PPfecdu3apdtuu03XX3+91q1b5/OdU6ZM0ezZs/Xll1/qvPPOU15envr06aPVq1dr27ZtuuKKK9S/f399//33kqRly5apUaNGuu+++5SZmanMzMxyx7J8+XLdeuutmjhxonbu3Knx48dr9OjRWrNmjU+7GTNmaMiQIfr888/Vp08fjRgxwmecAKqY3x4TCwAV8NFHHxlJZtmyZT7LY2JiTEREhImIiDBTpkwx77//vqlbt645fvy4T7tmzZqZF154wRhjzLRp00zt2rVNTk6OtX7y5Mmmc+fOxhhj8vLyTFhYmNm4caPPNsaOHWuuu+46Y8xvTxpfsWLFKft+7rnnmqefftp636RJE/P444/7tJk3b56Jioqy3nft2tWMGzfOp821115r+vTpY72XZO6++27rfV5ennG5XOadd945ZZ8A+AdziADYwnuKyeuTTz5RaWmpRowYocLCQm3ZskV5eXmKiYnxaVdQUKDvvvvOet+0aVNFRkZa7xMSEnTo0CFJ0hdffKHjx4/r8ssv99lGUVGR2rdv77OsU6dOPu+PHTumGTNm6K233tKBAwdUUlKigoICq0JUUV9++aX+9re/+Sy76KKL9OSTT/osO++886x/R0REKDIy0hoHgKpHIAIQUM2bN5fL5dJXX33ls/zss8+WJGtCcmlpqRISErR27doy2/j9HJ2QkBCfdS6XS6WlpdY2JGnlypVq2LChTzu32+3z/o+n7yZPnqxVq1bpkUceUfPmzRUeHq5rrrlGRUVFFRypb59+zxhTZtnJxgGg6hGIAARUTEyMLr/8cj3zzDO6+eabTziPqEOHDsrKylJwcLCaNm1aqe8699xz5Xa79f3336tbt26n9dn169dr1KhRuvrqqyVJeXl52rNnj0+b0NBQeTyek26ndevW2rBhg2688UZr2caNG9W6devT6g+AqkUgAhBwzz77rC666CJ16tRJ06dP13nnnadatWpp8+bN+uqrr9SxY0f17NlTXbp00VVXXaWHHnpILVu21IEDB/T222/rqquuKnOKqzyRkZGaNGmSbrvtNpWWluriiy9WTk6ONm7cqDp16mjkyJEn/Gzz5s21bNky9e/fXy6XS/fcc0+Zik3Tpk314YcfatiwYXK73YqNjS2zncmTJ2vIkCHWhPA333xTy5Yt87liDYD9CEQAAq5Zs2batm2bZs2apbS0NO3fv19ut1vnnnuuJk2apAkTJsjlcuntt9/WXXfdpTFjxujHH39UfHy8LrnkEsXFxVX4u+6//341aNBAs2fP1n//+1/Vq1dPHTp00J133nnSzz3++OMaM2aMunbtqtjYWN1xxx3KycnxaXPfffdp/PjxatasmQoLC2WMKbOdq666Sk8++aQefvhh3XLLLUpOTta8efPUvXv3Co8BQNVzmfL+ggEAAGoQ7kMEAABqPAIRAACo8QhEAACgxiMQAQCAGo9ABAAAajwCEQAAqPEIRAAAoMYjEAEAgBqPQAQAAGo8AhEAAKjxCEQAAKDGIxABAIAa7/8DOVY4ISENVp4AAAAASUVORK5CYII=",
      "text/plain": [
       "<Figure size 640x480 with 1 Axes>"
      ]
     },
     "metadata": {},
     "output_type": "display_data"
    },
    {
     "name": "stdout",
     "output_type": "stream",
     "text": [
      "Selected items: [1, 2, 3, 4, 5, 6, 7, 8, 9, 11, 12, 13, 14, 16, 18, 19, 20] \n",
      "Best value =  1025\n",
      "Time:  1.4410390853881836\n"
     ]
    }
   ],
   "source": [
    "start_time = time.time()\n",
    "\"\"\"\n",
    "执行遗传算法以找到最佳解决方案和价值，测量执行时间，并打印选择的物品和最佳价值。\n",
    "\n",
    "步骤:\n",
    "1. 记录开始时间。\n",
    "2. 使用指定参数运行遗传算法。\n",
    "3. 记录结束时间并计算总执行时间。\n",
    "4. 根据遗传算法获得的最佳解决方案选择物品。\n",
    "5. 打印选择的物品和最佳价值。\n",
    "6. 打印总执行时间。\n",
    "\n",
    "变量:\n",
    "- start_time (float): 算法开始时的时间。\n",
    "- best_solution (list): 遗传算法找到的最佳解决方案。\n",
    "- best_value (float): 对应最佳解决方案的最佳价值。\n",
    "- end_time (float): 算法结束时的时间。\n",
    "- time_stable (float): 算法的总执行时间。\n",
    "- selected_items (list): 根据最佳解决方案选择的物品。\n",
    "\"\"\"\n",
    "best_solution, best_value = genetic_algorithm(Print = False,plot_flag=True)\n",
    "end_time = time.time()\n",
    "time_stable = end_time - start_time\n",
    "selected_items = [data['j'][i] for i in range(num_items) if best_solution[i] == 1]\n",
    "print('Selected items:',selected_items,'\\nBest value = ', best_value)\n",
    "print(\"Time: \", time_stable)"
   ]
  },
  {
   "cell_type": "markdown",
   "metadata": {},
   "source": [
    "## Part 2: 动态进化算法"
   ]
  },
  {
   "cell_type": "markdown",
   "metadata": {},
   "source": [
    "### 2.1 动态进化算法主函数"
   ]
  },
  {
   "cell_type": "code",
   "execution_count": 23,
   "metadata": {},
   "outputs": [],
   "source": [
    "# 改进的带有自适应停止条件的遗传算法\n",
    "def genetic_algorithm_adaptive(max_generations=500, patience=patience_value, Print=True, plot_flag=False):\n",
    "    \"\"\"\n",
    "    执行带有自适应停止条件的遗传算法。\n",
    "    参数:\n",
    "        max_generations (int): 算法运行的最大代数。默认值为500。\n",
    "        patience (int): 在停止之前等待适应度改进的代数。默认值为50。\n",
    "    返回:\n",
    "        tuple: 包含找到的最佳解决方案及其适应度值的元组。\n",
    "    该函数执行以下步骤:\n",
    "    1. 初始化潜在解决方案的种群。\n",
    "    2. 通过选择、交叉和变异迭代地进化种群。\n",
    "    3. 跟踪最佳解决方案及其适应度随时间的变化。\n",
    "    4. 如果在指定的代数（`patience`）内没有观察到适应度的改进，则提前停止。\n",
    "    5. 每50代打印一次进度。\n",
    "    该算法使用以下辅助函数（假定已在其他地方定义）:\n",
    "    - generate_population(population_size, num_items): 生成初始种群。\n",
    "    - selection(population): 根据适应度从种群中选择一个父代。\n",
    "    - crossover(parent1, parent2): 通过结合两个父代生成一个子代解决方案。\n",
    "    - mutate(child): 对子代解决方案应用变异。\n",
    "    - fitness(individual): 评估个体解决方案的适应度。\n",
    "    \"\"\"\n",
    "    # 生成初始种群\n",
    "    population = generate_population(population_size, num_items)\n",
    "    best_fitness_over_time = []\n",
    "    \n",
    "    best_solution = None\n",
    "    best_fitness = 0\n",
    "    generations_without_improvement = 0\n",
    "    \n",
    "    for generation in range(max_generations):\n",
    "        new_population = []\n",
    "        for _ in range(population_size):\n",
    "            # 从种群中选择两个父代\n",
    "            parent1 = selection(population)\n",
    "            parent2 = selection(population)\n",
    "            \n",
    "            # 执行交叉操作生成一个子代\n",
    "            child = crossover(parent1, parent2)\n",
    "            \n",
    "            # 对子代应用变异操作\n",
    "            child = mutate(child)\n",
    "            \n",
    "            # 将子代加入新种群\n",
    "            new_population.append(child)\n",
    "        \n",
    "        # 用新种群替换旧种群\n",
    "        population = new_population\n",
    "\n",
    "        # 获取当前种群中的最佳解决方案\n",
    "        current_best_individual = max(population, key=fitness)\n",
    "        current_best_fitness = fitness(current_best_individual)\n",
    "        \n",
    "        # 跟踪最佳解决方案及其适应度\n",
    "        if current_best_fitness > best_fitness:\n",
    "            best_fitness = current_best_fitness\n",
    "            best_solution = current_best_individual\n",
    "            generations_without_improvement = 0  # 如果有改进，则重置计数器\n",
    "        else:\n",
    "            generations_without_improvement += 1  # 如果没有改进，则增加计数器\n",
    "        \n",
    "        # 记录随时间变化的最佳适应度值\n",
    "        best_fitness_over_time.append(best_fitness)\n",
    "        \n",
    "        # 每50代打印一次进度\n",
    "        if generation % 50 == 0 and Print == True:\n",
    "            print(f\"第 {generation} 代, 最优适应度: {best_fitness}\")\n",
    "\n",
    "        # 如果在'patience'代内没有改进，则提前停止\n",
    "        if generations_without_improvement >= patience:\n",
    "            if Print == True:\n",
    "                print(f\"{patience} 代没有改进，提前停止于第 {generation} 代\")\n",
    "            break\n",
    "    \n",
    "    # 如果需要绘图，绘制适应度随代数变化的曲线\n",
    "    if plot_flag == True:\n",
    "        plt.plot(best_fitness_over_time)\n",
    "        plt.xlabel('Generation')\n",
    "        plt.ylabel('Fitness')\n",
    "        plt.title('Fitness over Generations')\n",
    "        plt.show()\n",
    "    \n",
    "    return best_solution, best_fitness"
   ]
  },
  {
   "cell_type": "markdown",
   "metadata": {},
   "source": [
    "### 2.2 运行算法"
   ]
  },
  {
   "cell_type": "code",
   "execution_count": 24,
   "metadata": {},
   "outputs": [
    {
     "data": {
      "image/png": "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",
      "text/plain": [
       "<Figure size 640x480 with 1 Axes>"
      ]
     },
     "metadata": {},
     "output_type": "display_data"
    },
    {
     "name": "stdout",
     "output_type": "stream",
     "text": [
      "选择的物品: [1, 2, 3, 4, 5, 6, 7, 8, 9, 11, 12, 13, 14, 16, 18, 19, 20] \n",
      "最佳价值 = 1025\n",
      "运行时间:  0.23920583724975586\n"
     ]
    }
   ],
   "source": [
    "# 记录自适应遗传算法的开始时间\n",
    "start_time_adaptive = time.time()\n",
    "\n",
    "# 运行自适应遗传算法，耐心值设为13\n",
    "best_solution_adaptive, best_value_adaptive = genetic_algorithm_adaptive(patience=13, Print=False, plot_flag=True)\n",
    "\n",
    "# 记录自适应遗传算法的结束时间\n",
    "end_time_adaptive = time.time()\n",
    "\n",
    "# 显示最佳解决方案及其对应的价值\n",
    "best_solution_adaptive, best_value_adaptive\n",
    "\n",
    "# 选择最佳解决方案对应的物品\n",
    "selected_items = [data['j'][i] for i in range(num_items) if best_solution_adaptive[i] == 1]\n",
    "print('选择的物品:', selected_items, '\\n最佳价值 =', best_value_adaptive)\n",
    "\n",
    "# 计算并显示运行自适应遗传算法所花费的时间\n",
    "time_adaptive = end_time_adaptive - start_time_adaptive\n",
    "print(\"运行时间: \", time_adaptive)"
   ]
  },
  {
   "cell_type": "markdown",
   "metadata": {},
   "source": [
    "### 2.3 稳定性测试"
   ]
  },
  {
   "cell_type": "code",
   "execution_count": 32,
   "metadata": {},
   "outputs": [
    {
     "name": "stderr",
     "output_type": "stream",
     "text": [
      "C:\\Users\\lanto\\AppData\\Local\\Temp\\ipykernel_22768\\610467362.py:17: DeprecationWarning: The truth value of an empty array is ambiguous. Returning False, but in future this will result in an error. Use `array.size > 0` to check that an array is not empty.\n",
      "  if (best_value_adaptive != previous and loop != 1):\n"
     ]
    },
    {
     "name": "stdout",
     "output_type": "stream",
     "text": [
      "不稳定！耐心值= 3\n",
      "不稳定！耐心值= 4\n",
      "不稳定！耐心值= 5\n",
      "不稳定！耐心值= 6\n",
      "不稳定！耐心值= 7\n",
      "不稳定！耐心值= 8\n",
      "不稳定！耐心值= 9\n",
      "不稳定！耐心值= 10\n",
      "不稳定！耐心值= 11\n",
      "不稳定！耐心值= 12\n",
      "不稳定！耐心值= 13\n",
      "不稳定！耐心值= 14\n"
     ]
    },
    {
     "data": {
      "image/png": "iVBORw0KGgoAAAANSUhEUgAAAjMAAAHFCAYAAAAHcXhbAAAAOXRFWHRTb2Z0d2FyZQBNYXRwbG90bGliIHZlcnNpb24zLjcuMiwgaHR0cHM6Ly9tYXRwbG90bGliLm9yZy8pXeV/AAAACXBIWXMAAA9hAAAPYQGoP6dpAABwGklEQVR4nO3dd3iUZdY/8O8zk8lMeggJ6Q0IBAgdpAgERKqiiB3Xhu/ruuAqgqsiuz/jqqDsiqisuvqufVXWgivuShEhoIgGQu8lvZDek8mU+/fH5JkkJIEkzOSZ8v1cV66LPDOZOZmE5OS+z7mPJIQQICIiInJSKqUDICIiIroSTGaIiIjIqTGZISIiIqfGZIaIiIicGpMZIiIicmpMZoiIiMipMZkhIiIip8ZkhoiIiJwakxkiIiJyakxmyC398ssvuOmmmxATEwOtVovQ0FBMmDABy5cvb3W/N954A++///4VPZckSXj44Ycve7+dO3dCkiTs3Lnzip7vYlVVVXjhhRcwZswY+Pv7Q6vVIi4uDosWLUJ6erpNn6u7jh8/jpSUFGRmZiodis1d/PXPz89HSkoKDh48qFxQl4kjJSUFkiT1fFBE3cRkhtzOf/7zH0ycOBFVVVVYs2YNtm7dildffRVXX301NmzY0Oq+tkhmlHTu3DmMHDkSL774IqZNm4ZPP/0UW7duxbPPPosLFy5g9OjRqKysVDpMHD9+HM8++6xLJjMXy8/Px7PPPusQyUxHcfzP//wPfv75554PiqibPJQOgKinrVmzBvHx8diyZQs8PJr/C9xxxx1Ys2aNgpHZlslkwk033YSSkhL8/PPPSEpKst6WnJyMe++9F9999x00Go2CUTo/g8EASZJafS8pob6+HjqdziYrKlFRUYiKirJBVEQ9gysz5HZKS0sRHBzc7i8flar5v0RcXByOHTuG1NRUSJIESZIQFxcHAGhoaMDy5csxYsQIBAQEICgoCBMmTMC///3vDp/373//OwYMGACtVovBgwfjs88+61S8+/btww033ICgoCDodDqMHDkS//rXvy77cV9//TWOHDmCFStWtEpkWpozZw68vb2t7//444+YPn06/Pz84O3tjYkTJ+I///lPq4/paAvi/fffhyRJrVZX4uLicP3112Pz5s0YNWoUvLy8kJiYiHfffbfVx916660AgGnTpllf68utiF0u1kOHDkGSJPzjH/9o87HfffcdJEnCN998Y7125swZLFy4EH369IFWq8WgQYPwt7/9rdXHyVuBH330EZYvX47IyEhotVqcPXv2krG2/PixY8cCAO6//37r55qSkmK9T2e+3vJrvXXrVixatAghISHw9vaGXq/H2bNncf/99yMhIQHe3t6IjIzEvHnzcOTIkU7H0d7X2Gw2Y82aNUhMTIRWq0WfPn1wzz33IDc3t9X9pk6diqSkJKSlpWHy5Mnw9vZG37598eKLL8JsNrd6vOeffx4DBw6El5cXAgMDMWzYMLz66qudei2JWhFEbuZ//ud/BADx+9//Xuzdu1c0Nja2e7/09HTRt29fMXLkSPHzzz+Ln3/+WaSnpwshhKioqBD33Xef+Oijj8QPP/wgNm/eLB5//HGhUqnEBx980OpxAIjo6GgxePBg8emnn4pvvvlGzJ49WwAQn3/+ufV+O3bsEADEjh07rNd++OEH4enpKSZPniw2bNggNm/eLO677z4BQLz33nuX/DwffPBBAUCcOHGiU6/Lzp07hUajEaNHjxYbNmwQX3/9tZg5c6aQJEl89tln1vs988wzor0fHe+9954AIDIyMqzXYmNjRVRUlBg8eLD48MMPxZYtW8Stt94qAIjU1FQhhBBFRUVi1apVAoD429/+Zn2ti4qKrjjWkSNHiquvvrrNx992222iT58+wmAwCCGEOHbsmAgICBBDhw4VH374odi6datYvny5UKlUIiUlxfpx8tcoMjJS3HLLLeKbb74R3377rSgtLe0wVgBiyZIlQgghKisrra/TH//4R+vnmpOTI4To/NdbfozIyEjx4IMPiu+++0588cUXwmg0itTUVLF8+XLxxRdfiNTUVLFx40Yxf/584eXlJU6ePNmpONr7GsvfTw8//LDYvHmzeOutt0RISIiIjo4WxcXF1vslJyeL3r17i4SEBPHWW2+Jbdu2icWLFwsArf5vrF69WqjVavHMM8+I7du3i82bN4t169a1er2JOovJDLmdkpISMWnSJAFAABAajUZMnDhRrF69WlRXV7e675AhQ0RycvJlH9NoNAqDwSAeeOABMXLkyFa3ARBeXl6isLCw1f0TExNF//79rdfaS2YSExPFyJEjrb90Zddff70IDw8XJpOpw5jkhKmhoeGy8QshxPjx40WfPn1avQZGo1EkJSWJqKgoYTabhRBdT2Z0Op3IysqyXquvrxdBQUHit7/9rfXa559/3uZzt0Wsr732mgAgTp06Zb1fWVmZ0Gq1Yvny5dZrs2bNElFRUaKysrLV8zz88MNCp9OJsrIyIUTz12jKlCmdilOI1smMEEKkpaV1mIx29ustv9b33HPPZZ/faDSKxsZGkZCQIB577LFOxXHx1/jEiRMCgFi8eHGr+/3yyy8CgHj66aet15KTkwUA8csvv7S67+DBg8WsWbNafU4jRoy4bPxEncFtJnI7vXv3xu7du5GWloYXX3wRN954I06fPo0VK1Zg6NChKCkp6dTjfP7557j66qvh6+sLDw8PaDQa/OMf/8CJEyfa3Hf69OkIDQ21vq9Wq3H77bfj7NmzbZbpZWfPnsXJkydx1113AQCMRqP1be7cuSgoKMCpU6e68Qq0VVtbi19++QW33HILfH19W8V59913Izc3t9vPNWLECMTExFjf1+l0GDBgALKysuwe61133QWtVttqy+rTTz+FXq/H/fffD8CyZbh9+3bcdNNN8Pb2bvM6NzQ0YO/eva1iuPnmm7sV+6V05+vdXhxGoxGrVq3C4MGD4enpCQ8PD3h6euLMmTPtfm92xo4dOwAA9913X6vrV111FQYNGoTt27e3uh4WFoarrrqq1bVhw4a1+ppfddVVOHToEBYvXowtW7agqqqqW7ERAayZITc2ZswYPPnkk/j888+Rn5+Pxx57DJmZmZ0qAv7qq69w2223ITIyEh9//DF+/vlnpKWlYdGiRWhoaGhz/7CwsA6vlZaWtvscFy5cAAA8/vjj0Gg0rd4WL14MAJdMvOQEIiMj47KfT3l5OYQQCA8Pb3NbRETEJeO8nN69e7e5ptVqUV9f363H60qsQUFBuOGGG/Dhhx/CZDIBsNSbXHXVVRgyZIj1vkajEa+//nqb13nu3LkA2r7O7T33lerO17u9OJYtW4Y//elPmD9/PjZt2oRffvkFaWlpGD58eLdfc/n17Og1v/h7ozNf8xUrVuCvf/0r9u7dizlz5qB3796YPn069u3b160Yyb2xm4kIgEajwTPPPINXXnkFR48evez9P/74Y8THx2PDhg2tCiX1en279y8sLOzwWns/+AEgODgYgOWH/oIFC9q9z8CBAzuMcdasWXj77bfx9ddf46mnnurwfgDQq1cvqFQqFBQUtLktPz+/VTw6nQ6A5XPVarXW+3V2RetKdSVWwFLg+vnnn2Pbtm2IiYlBWloa3nzzzVaPJ6/qLFmypN3njI+Pb/W+Pc5g6c7Xu704Pv74Y9xzzz1YtWpVq+slJSUIDAzsVmzy92hBQUGbLqf8/PxWr3dneXh4YNmyZVi2bBkqKirw/fff4+mnn8asWbOQk5PTqjCd6HKYzJDbKSgoaPcvTHkJXv7rHuh4BUGSJHh6erb6ZVJYWNhhN9P27dtx4cIF61aTyWTChg0b0K9fvw5bYAcOHIiEhAQcOnSozS+mzrjxxhsxdOhQrF69Gtdff327HU1btmzB5MmT4ePjg3HjxuGrr77CX//6V3h5eQGwdJx8/PHHiIqKwoABAwDA2tF1+PBha0cMAGzatKnLMcrkpKgzKwddiRUAZs6cicjISLz33nuIiYmBTqfDnXfeab3d29sb06ZNw4EDBzBs2DB4enp2+/PojI4+1yv9esskSWqVZAKWs5Xy8vLQv3//y8bRnmuuuQaAJVFq+TVPS0vDiRMnsHLlym7HCwCBgYG45ZZbkJeXh6VLlyIzMxODBw++osck98JkhtzOrFmzEBUVhXnz5iExMRFmsxkHDx7Eyy+/DF9fXzz66KPW+w4dOhSfffYZNmzYgL59+0Kn02Ho0KG4/vrr8dVXX2Hx4sW45ZZbkJOTg+eeew7h4eE4c+ZMm+cMDg7GNddcgz/96U/w8fHBG2+8gZMnT162Pfvvf/875syZg1mzZuG+++5DZGQkysrKcOLECaSnp+Pzzz/v8GPVajU2btyImTNnYsKECfjd736HadOmwcfHB1lZWfjiiy+wadMmlJeXAwBWr16NGTNmYNq0aXj88cfh6emJN954A0ePHsWnn35qTdzmzp2LoKAgPPDAA/jzn/8MDw8PvP/++8jJyenOlwMArInW22+/DT8/P+h0OsTHx3e4atXZWOXX4Z577sHatWvh7++PBQsWICAgoNXjvfrqq5g0aRImT56M3/3ud4iLi0N1dTXOnj2LTZs24Ycffuj253axfv36wcvLC//85z8xaNAg+Pr6IiIiAhEREVf09ZZdf/31eP/995GYmIhhw4Zh//79+Mtf/tImab5UHBcbOHAgHnzwQbz++utQqVSYM2cOMjMz8ac//QnR0dF47LHHuvw6zJs3D0lJSRgzZgxCQkKQlZWFdevWITY2FgkJCV1+PHJzSlcgE/W0DRs2iIULF4qEhATh6+srNBqNiImJEXfffbc4fvx4q/tmZmaKmTNnCj8/PwFAxMbGWm978cUXRVxcnNBqtWLQoEHinXfeabfTB03dLG+88Ybo16+f0Gg0IjExUfzzn/9sdb/2upmEEOLQoUPWVmKNRiPCwsLENddcI956661Ofb4VFRXiueeeE6NGjWr1+f7mN78RP/30U6v77t69W1xzzTXCx8dHeHl5ifHjx4tNmza1ecxff/1VTJw4Ufj4+IjIyEjxzDPPiP/7v/9rt5vpuuuua/PxycnJbbrE1q1bJ+Lj44Vare5U63lnYxVCiNOnT1u717Zt29bufTIyMsSiRYtEZGSk0Gg0IiQkREycOFE8//zz1vvIX6OWLfWXg4u6mYQQ4tNPPxWJiYlCo9EIAOKZZ56x3taZr7fczZSWltbm+crLy8UDDzwg+vTpI7y9vcWkSZPE7t27233NO4qjve9jk8kkXnrpJTFgwACh0WhEcHCw+M1vfmNt55YlJyeLIUOGtInr3nvvbfX/5+WXXxYTJ04UwcHBwtPTU8TExIgHHnhAZGZmXurlJGqXJIQQSiRRRERERLbAbiYiIiJyakxmiIiIyKkxmSEiIiKnxmSGiIiInBqTGSIiInJqTGaIiIjIqbn8oXlmsxn5+fnw8/OzyxHkREREZHtCCFRXVyMiIgIq1aXXXlw+mcnPz0d0dLTSYRAREVE35OTkdDj2RebyyYyfnx8Ay4vh7++vcDRERETUGVVVVYiOjrb+Hr8Ul09m5K0lf39/JjNEREROpjMlIiwAJiIiIqfGZIaIiIicGpMZIiIicmpMZoiIiMipMZkhIiIip8ZkhoiIiJwakxkiIiJyakxmiIiIyKkxmSEiIiKnxmSGiIiInBqTGSIiInJqTGaIiIjIqTGZISIiom4pqmpATlkdjCazonEwmSEiIqJu+fDnLExeswMpm44pGgeTGSIiIuqWnPI6AEBUL29F42AyQ0RERN2SW14PAIh252QmJSUFkiS1egsLC7PeLoRASkoKIiIi4OXlhalTp+LYMWWXsoiIiMgip8yyMhMd5KVoHIqvzAwZMgQFBQXWtyNHjlhvW7NmDdauXYv169cjLS0NYWFhmDFjBqqrqxWMmIiIiBoMJhRV6wFwmwkeHh4ICwuzvoWEhACwrMqsW7cOK1euxIIFC5CUlIQPPvgAdXV1+OSTTxSOmoiIyL3lVVi2mHw81ejlrVE0FsWTmTNnziAiIgLx8fG44447cP78eQBARkYGCgsLMXPmTOt9tVotkpOTsWfPHqXCJSIiIrTcYvKGJEmKxuKh5JOPGzcOH374IQYMGIALFy7g+eefx8SJE3Hs2DEUFhYCAEJDQ1t9TGhoKLKysjp8TL1eD71eb32/qqrKPsETERG5Mbn4N6qXsvUygMLJzJw5c6z/Hjp0KCZMmIB+/frhgw8+wPjx4wGgTbYnhLhkBrh69Wo8++yz9gmYiIiIADhOWzbgANtMLfn4+GDo0KE4c+aMtatJXqGRFRUVtVmtaWnFihWorKy0vuXk5Ng1ZiIiIneUW+Y4KzMOlczo9XqcOHEC4eHhiI+PR1hYGLZt22a9vbGxEampqZg4cWKHj6HVauHv79/qjYiIiGwrt7y5ZkZpim4zPf7445g3bx5iYmJQVFSE559/HlVVVbj33nshSRKWLl2KVatWISEhAQkJCVi1ahW8vb2xcOFCJcMmIiJyezkOcmAeoHAyk5ubizvvvBMlJSUICQnB+PHjsXfvXsTGxgIAnnjiCdTX12Px4sUoLy/HuHHjsHXrVvj5+SkZNhERkVur1RtRVtsIAIhS+MA8AJCEEELpIOypqqoKAQEBqKys5JYTERFdVmWdAek55Zg6IETxlmNHdaqwGrPW7UKAlwaHnpl5+Q/ohq78/naomhkiIiKlPfLZAdz/Xhq2nyhSOhSH5ShjDGRMZoiIiJpkldYi9XQxAOBofqXC0Tguufg3KlD5ehmAyQwREZHVv/Y1H+eR3bT6QG1Zi3+5MkNEROQ4jCYzPt+Xa30/h8lMh+TXxhEOzAOYzBAREQEAdpwqRlG1Hqqmml+uzHQslyszREREjmdDWjYA4OZRUQCAC1V6NBhMSobksORRBo5wxgzAZIaIiAiFlQ344aSle+m3yf3gp7Mcw8atprYq6wyobjACACIdYJQBwGSGiIgIX6bnwiyAsXG90L+PL2KajujnVlNb8qpMsK8nvD0VPXvXiskMERG5NbNZYEOapYvp9rExAMBk5hJyHWhatozJDBERubWfz5ciu6wOfloPzB0aBqA5mckqZTJzMbn41xGmZcuYzBARkVv7rGlV5saREdZtE3kSNGtm2mo+/ZcrM0RERIorr23ElqOFAIA7mraYACC2N7eZOpLDlRkiIiLHsfFAHhpNZgyJ8EdSZID1esuaGRefx9xluQ7Wlg0wmSEiIjclRHPh7x1jo1vdFhHoBZUE6I1mFFfrlQjPIQkhkFMmH5jHZIaIiEhRB3IqcOpCNXQaFW4YEdnqNo1ahYhAyzZKFrearEprG1FvMEGSgIhAndLhWDGZISIit7ThV8uqzNyh4Qjw0rS53Vo3w44mK7mTKdRPB62HWuFomjGZISIit1OjN2LT4XwArQt/W+JZM201dzI5TvEvwGSGiIjc0LeH8lHXaELfYB+MjevV7n3Ynt1W8xkzjlMvAzCZISIiN/SZ9cTfaEiS1O59rAfnMZmxah4wyZUZIiIixZwsrMLBnAp4qCQsaJqQ3R5uM7Ulr1JxZYaIiEhBnzUV/s4YHIoQP22H94sN8gEAFFfrUd9o6pHYHF2evM3EmhkiIiJlNBhM2HggD4Bli+lSArw18NdZxhvI2yvuzGwW1poZRzowD2AyQ0REbmTLsUJU1hsQEaDD5ISQy94/hu3ZVkXVejSazFCrJIQHOM4ZMwCTGSIiciPyib+3jomGWtV+4W9LLAJuJo8xCA/QwUPtWOmDY0VDRERkJ1mltdhzrhSSBNw6puPC35bYnt0sxwFnMsmYzBARkVuQV2WmJIR0uhtHLgJmRxOQW+Z407JlTGaIiMjlGU1mfL4/F0DboZKXwvbsZtaVGQcaMCljMkNERC5vx6liFFfr0dvHE9MHhXb642JabDOZzcJe4TmFHK7MEBERKWdDWjYA4ObRUfD06PyvvvBAHdQqCXqjGUXVenuF5xRyK7gyQ0REpIjCygb8cLIIAHDbmM5vMQGARq1CZKBlJcKdt5qMJjPyKxoAsACYiIiox32xPwdmAVwVF4T+fXy7/PGsmwEKKhtgMgt4qlXoc4lTk5XCZIaIiFyW2SywYV/zUMnuiGYyYz35N7KXF1SdOJ+npzGZISIil/Xz+VLklNXDT+uBuUPDu/UY1pWZ0lpbhuZU5E4mRyz+BZjMEBGRC/us6WyZG0dGwMtT3a3H4DZT88qMo03LljGZISIil1RW24gtRwsBAHeMjen248TK85maWpPdUW6Z3MnElRkiIqIes/FAHhpNZiRF+iMpMqDbjyPXzJTU6FHXaLRVeE6leZuJKzNEREQ9QghhPVvm9itYlQGAAC8NArw0AJoPjnM38jZTNGtmiIiIesaBnAqcvlADnUaFG4ZHXPHjWadnu2ERsN5oQmFV0xkzDnhgHsBkhoiIXNCGXy2Fv3OHhltXVa5ETG/3LQLOr2iAEICXRo3ePp5Kh9MuJjNERORSavRGbDqcD+DKCn9bajmjyd3ktmjLliTHO2MGYDJDREQuZtOhfNQ1mtA3xAdj43rZ5DHduT1brhNy1C0mgMkMERG5GPlsmTvGRttsJcGdk5lcBz8wD2AyQ0RELuREQRUO5VTAQyVhwagomz2udZupvB5ms7DZ4zqDHGsnE1dmiIiI7G5D06rMjMGhCPa13UDE8AAdPFQSGo1mXKhusNnjOgO5TogrM0RERHbWYDBh44E8AN0fKtkRD7UKkU2/zLNL3WuryXrGDGtmiIiI7GvLsUJU1hsQGeiFyQkhNn98d6ybqW80oaRGD4DbTERERHb3WdPZMreOiYJaZfsW4mg3TGbk4l8/rQf8vTwUjqZjTGaIiMjpZZbU4ufzpZAk4NYxtt1ikrnjyox1WnaQt8OeMQMwmSEiIhfwr32WVZkpCSGIDLRPoWqsGyYz8oBJR53JJGMyQ0RETs1gMuPz/bkALGfL2Eu0G54CbF2ZceB6GYDJDBERObkdJ4tQXK1HsK8npg8KtdvzyPOZSmoaUas32u15HImcuEUHcWWGiIjIbuSzZW4eFQVPD/v9WvPXaRDobRla6S5bTTnW03+5MkNERGQXhZUN2HGqCABwmx23mGTuVjfTfMYMV2aIiIjs4ov9OTAL4Kq4IPQL8bX787lT3Ux1gwEVdQYAXJkhIiKyC7NZYENTF5OtT/ztiDu1Z8vTsnt5a+CrddwzZgAmM0RE5KT2nCtFTlk9/HQemDs0vEeeU05mstxgpIF8YJ4jjzGQMZkhIiKn9FlaNgBg/ohIeHmqe+Q5Y9xom8kZpmXLmMwQEZHTKattxNZjFwD03BYT0NyenVteD5NZ9NjzKiG33PGnZcscJplZvXo1JEnC0qVLrdeEEEhJSUFERAS8vLwwdepUHDt2TLkgiYjIIWw8kIdGkxlJkf5IigzosecND/CCh0pCo8mMC1UNPfa8SpBrZqK4zdQ5aWlpePvttzFs2LBW19esWYO1a9di/fr1SEtLQ1hYGGbMmIHq6mqFIiUiIqUJIfDZr5YtptvHxvToc6tVknWlwtWLgLky0wU1NTW466678M4776BXr17W60IIrFu3DitXrsSCBQuQlJSEDz74AHV1dfjkk08UjJiIiJSUnl2BM0U10GlUuHFERI8/v3V6tgsXAQshms+YYc3M5S1ZsgTXXXcdrr322lbXMzIyUFhYiJkzZ1qvabVaJCcnY8+ePR0+nl6vR1VVVas3IiJyHRuaCn+vGxoBf52mx5/fHdqzK+oMqGka2eAMKzOKNo5/9tlnSE9PR1paWpvbCgsLAQChoa3nbISGhiIrK6vDx1y9ejWeffZZ2wZKREQOobrBgE2HCgAAd1zVc4W/LcX2dv1kRl6VCfHTQqfpmU6xK6HYykxOTg4effRRfPzxx9DpdB3eT5KkVu8LIdpca2nFihWorKy0vuXk5NgsZiIiUta3hwtQbzChb4gPxsT2uvwH2IE7rMzIM5minWBVBlBwZWb//v0oKirC6NGjrddMJhN27dqF9evX49SpUwAsKzTh4c2HIRUVFbVZrWlJq9VCq9XaL3AiIlKMXPh7x9joS/5ha0/uMNJA/twcfYyBTLGVmenTp+PIkSM4ePCg9W3MmDG46667cPDgQfTt2xdhYWHYtm2b9WMaGxuRmpqKiRMnKhU2EREp5Hh+FQ7lVkKjlrBgVJRiccgrM6W1jda6ElfjLAMmZYqtzPj5+SEpKanVNR8fH/Tu3dt6fenSpVi1ahUSEhKQkJCAVatWwdvbGwsXLlQiZCIiUtC/muYwzRgcimBf5Vbg/XQaBPl4oqy2EdmldRgc4a9YLPbSvM3kHCszDj056oknnkB9fT0WL16M8vJyjBs3Dlu3boWfn5/SoRERUQ9qMJjwVXougJ4/W6Y90UHelmSmzEWTGSfbZnKoZGbnzp2t3pckCSkpKUhJSVEkHiIicgxbjhWiqsGIyEAvTOofrHQ4iAnyxqGcCpesm2l1xoyTbDMpfs4MERHR5XzaVPh765goqFXKFP62FNP0Sz6rrFbhSGyvuEYPvdEMlWQZ3+AMmMwQEZFDyyipxd7zZZAk4LYxypwtc7Hm9ux6hSOxPXlVJsxfB08P50gTnCNKIiJyW3Lhb/KAEEQEOsZKQUyQDwDXbM+21ss4wYBJGZMZIiJyWAaTGV/stxT+3jHWMVZlACCm6RTg3PI6mMxC4WhsS16ZcYYxBjImM0RE5LB2nCxCcbUewb6euCax4wNTe1qYvw4atQSDSaCwqkHpcGwq18nasgEmM0RE5MA+S7NsMd08Ksqh6jfUKsnatpxV6lpFwDllcicTkxkiIqIrUlBZj52nigAAtzvQFpMsxkXHGsgH5nGbiYiI6Ap9sS8XZgFcFR+EviG+SofThisOnDSZBfIruDJDRER0xcxmgQ1NXUyOVPjbkiu2Z1+oaoDBJOChkhDmr1M6nE5jMkNERA5nz7lS5JbXw0/ngTlJ4UqH065oF1yZkTuZIgK9HOJwws5iMkNERA7n0zTLib/zR0TCy1OtcDTts67MuFABsFz/4yxjDGRMZoiIyKGU1TZi67FCAMAdVznmFhPQfNZMeZ0BVQ0GhaOxDWvxb6Dz1MsATGaIiMjBfJWeC4NJYGhkAIZEBCgdTod8tR7o7eMJwHU6mpxtwKSMyQwRETkMIQQ2NJ0t44jt2BeLdrH27OZtJq7MEBERdUt6dgXOFNVAp1HhhhERSodzWXLdTFapayQzzjjKAGAyQ0REDmRDU+HvdUMj4K/TKBzN5bnSWTMGkxkFlU3bTE40ygBgMkNERA6iusGATYcKAAB3OnDhb0tyEbArJDMFFQ0wC0DroUKIn1bpcLqEyQwRETmETYcKUG8woV+ID0bH9lI6nE5xpZEG8oDJyF5ekCTnOWMGYDJDREQOQt5iumNsjNP8MpWTmdzyepjMQuForkyOE07LljGZISIixR3Pr8Kh3Epo1BJuGhWpdDidFuqvg6daBWOLmUbOSp6W7WzFvwCTGSIicgD/aprDNGNwKIJ9nadeQ62SENV0JouzbzXJ20zO1pYNMJkhIiKFNRhM+Co9F4Bli8nZuEpHU065c3YyAUxmiIhIYZuPFqKqwYjIQC9M6h+sdDhd5jLJTFP83GYiIiLqos+aCn9vGxMNlRNNapZZD85z4mSmwWBCUbUeALeZiIiIuiSjpBZ7z5dBkoBbx0QpHU63uMJIg7ym4mUfTzV6eTv+YYUXYzJDRESKkQt/kweEICLQ+bY3ACDWBQ7Oax5j4O00bfEtMZkhIiJFGExmfL7PeQt/ZXLBbEWdAZX1BoWj6Z7mAZPOmVAymSEiIkXsOVeKkho9gn09MX1QH6XD6TYfrQeCfT0BOO9Wk3xgXpQTdjIBTGaIiEghaRllAIDkAX2gUTv3r6NoJ+9octZp2TLn/u4hIiKntT+rHACcZg7TpcQ6ezJT5rwH5gFMZoiISAEGkxkHcyoAAGPinD+ZcfazZnK4MkNERNQ1JwuqUW8wwV/ngf4hvkqHc8WcuT27Vm9EWW0jAK7MEBERddr+LEu9zKjYXk55UN7FnHllRq6XCfDSwF/nfGfMAExmiIhIAfvkepkY599iAoCYprNm8srrYTSZFY6ma3LLnXeMgYzJDBER9bh0Fyr+BYBQPx08PVQwmgUKKhuUDqdLrGfMOGlbNsBkhoiIelh+RT3yKxugVkkYHh2odDg2oVJJiG5a2XC2rSZnL/4FmMwQEVEPk1uyB4X7wUfroXA0tuOsdTPyNpOzFv8CTGaIiKiHycnMmNgghSOxLev07FLnSmZyyiwrM846ygBgMkNERD1MTmZGuUi9jMxZ27OdfZQBwGSGiIh6UK3eiOMFVQCAMS6WzMT29gHgXNtMlfUGVDcYAbBmhoiIqFMO5VbAZBYID9AhItB5f3m2xxlrZuRVpGBfT3h7Om/9EpMZIiLqMfszXasluyW55qSy3oDKOoPC0XSOfGBepBNvMQHdSGY+/PBD6PX6NtcbGxvx4Ycf2iQoIiJyTfuzXTeZ8fb0QLCvFoDzrM5YO5mceIsJ6EYyc//996OysrLN9erqatx///02CYqIiFyP2Sxc7rC8i8X2dq6tJnmbyZmLf4FuJDNCCEhS2zkaubm5CAgIsElQRETkes4W16CqwQgvjRqDwv2VDscunK1uRt5mcua2bADodLXPyJEjIUkSJEnC9OnT4eHR/KEmkwkZGRmYPXu2XYIkIiLnJ7dkD48OgEbtmiWb0U6WzOSUO/8oA6ALycz8+fMBAAcPHsSsWbPg69s8st3T0xNxcXG4+eabbR4gERG5hn2ZrnlYXkvNKzO1CkdyeUII64F5ztyWDXQhmXnmmWcAAHFxcbj99tuh0+nsFhQREbmedBcu/pU50zZTWW0j6g0mSBIQ6S7JjOzee+8FYOleKioqgtncetR5TEyMbSIjIiKXUVKjR0aJZbViVIzrJjNyAXB+RQMMJrNDb6fJAyZD/XTQeqgVjubKdDmZOXPmDBYtWoQ9e/a0ui4XBptMJpsFR0RErkHuYkro44sAb43C0dhPiK8WWg8V9EYzCioaENPbcWtRcq1jDJx7VQboRjJz3333wcPDA99++y3Cw8Pb7WwiIiJqyTpcMs51V2UAQKWSEB3kjbNFNcguq3PoZKZ5wKTjxthZXU5mDh48iP379yMxMdEe8RARkQuyDpd04S0mWUxTMpNVVotJCFY6nA7luNDKTJc38wYPHoySkhJ7xEJERC5IbzThcJ7lsNUxca7bySRzliJg6xkzTt6WDXQjmXnppZfwxBNPYOfOnSgtLUVVVVWrNyIiopaO5lWh0WhGkI8n4hx428VW5GQmx9GTGfn0Xyc/MA/oxjbTtddeCwCYPn16q+ssACYiovakt9hicoc6S2dYmTGbhUutzHQ5mdmxY4c94iAiIhe1L6sMgOsX/8rkot/sUsdNZopr9Gg0maFWSQgPcP5z47qczCQnJ9sjDiIickFCCOzPqgDg2ofltSSvdFQ1GFFR14hAb0+FI2pL3gILD9DBw4HPwumsLiczu3btuuTtU6ZM6XYwRETkWrLL6lBSo4dGLWFopHsMI/byVKOPnxZF1Xpkl9U5ZDIjbzG5QicT0I1kZurUqW2utdwD7UrNzJtvvok333wTmZmZAIAhQ4bg//2//4c5c+YAsGT0zz77LN5++22Ul5dj3Lhx+Nvf/oYhQ4Z0NWwiIlKA3JKdFBkAnca5T5ntipggb2syMywqUOlw2pBXZlyhXgboRjdTeXl5q7eioiJs3rwZY8eOxdatW7v0WFFRUXjxxRexb98+7Nu3D9dccw1uvPFGHDt2DACwZs0arF27FuvXr0daWhrCwsIwY8YMVFdXdzVsIiJSwD75sDw32WKSOXoRcPMZM66RzHR5ZSYgoO0y4YwZM6DVavHYY49h//79nX6sefPmtXr/hRdewJtvvom9e/di8ODBWLduHVauXIkFCxYAAD744AOEhobik08+wW9/+9uuhk5ERD1M7mRyl3oZmXyqrqMWAVs7mVygLRvoxspMR0JCQnDq1Kluf7zJZMJnn32G2tpaTJgwARkZGSgsLMTMmTOt99FqtUhOTm4zF6olvV7Ps2+IiBxAZb0Bpy5YVtJHuVky4ywrM64wygDoxsrM4cOHW70vhEBBQQFefPFFDB8+vMsBHDlyBBMmTEBDQwN8fX2xceNGDB482JqwhIaGtrp/aGgosrKyOny81atX49lnn+1yHEREZFsHcyoghOUXex8/52//7Qp5erYjJjNGkxn5FQ0A3LgAeMSIEZAkCUKIVtfHjx+Pd999t8sBDBw4EAcPHkRFRQW+/PJL3HvvvUhNTbXefvEBS/LhfB1ZsWIFli1bZn2/qqoK0dHRXY6LiIiuzH433WICmldm8ivqYTCZoXGg9ufCqgaYzAKeahVCXSTJ7HIyk5GR0ep9lUqFkJAQ6HTde0E8PT3Rv39/AMCYMWOQlpaGV199FU8++SQAoLCwEOHh4db7FxUVtVmtaUmr1UKr1XYrFiIisp39TYfluWMyE+KnhdZDBb3RjPyKesT29lE6JCt5WnZkLy+oVK5xInOXU8XY2NhWb9HR0d1OZNojhIBer0d8fDzCwsKwbds2622NjY1ITU3FxIkTbfZ8RERke0aTGQezKwC4ZzIjSZJ1dSbLwYqAc11oWrasW+teqampmDdvHvr374+EhATccMMN2L17d5cf5+mnn8bu3buRmZmJI0eOYOXKldi5cyfuuusuSJKEpUuXYtWqVdi4cSOOHj2K++67D97e3li4cGF3wiYioh5ysrAatY0m+Gk9MCDUT+lwFOGodTM51gPzXKP4F+jGNtPHH3+M+++/HwsWLMAjjzwCIQT27NmD6dOn4/333+9SonHhwgXcfffdKCgoQEBAAIYNG4bNmzdjxowZAIAnnngC9fX1WLx4sfXQvK1bt8LPzz3/YxAROYv0bEu9zIiYQKhdZCujq6IddHq2dVq2C63MdDmZeeGFF7BmzRo89thj1muPPvoo1q5di+eee65Lycw//vGPS94uSRJSUlKQkpLS1TCJiEhB+zLlw/KCFI5EOY7ant18xozrrMx0eZvp/PnzbQ67A4AbbrihTXEwERG5J3fuZJI5ajJjPWPGhVZmupzMREdHY/v27W2ub9++nS3QRESEwsoG5FXUQyVZtpncVUyLU4AvPs5EKXqjCYVV8hkzrrMy0+VtpuXLl+ORRx7BwYMHMXHiREiShB9//BHvv/8+Xn31VXvESERETkRelUkM84evtsu/ZlyGvI1TrTeios6AXj7KT88uqGiAEICXRo1gX+XjsZUuf5f97ne/Q1hYGF5++WX861//AgAMGjQIGzZswI033mjzAImIyLnsazpfZkyc+24xAYBOo0aovxYXqizTsx0hmclp0ZZ9qQNonU23UuabbroJN910k61jISIiF+CuwyXbExPkbU1mhkcHKh2OtfjXlTqZgC7UzJSXl+P1119vd3BjZWVlh7cREZH7qG804Vi+5XfBqBgmM9EOVgQst4m7UicT0IVkZv369di1axf8/f3b3BYQEIDdu3fj9ddft2lwRETkXA7lVsBoFgj117rcX//d0bII2BHkuPvKzJdffomHHnqow9t/+9vf4osvvrBJUERE5JxatmS7Uk1GdznaKcC51rZsN12ZOXfuHBISEjq8PSEhAefOnbNJUERE5Jyakxn3PSyvJUc7a0YeMum220xqtRr5+fkd3p6fnw+VynFGnBMRUc8ym4V1jAGLfy3kpKGgsh6NRrOisdQ3mlBSowfgxttMI0eOxNdff93h7Rs3bsTIkSNtERMRETmh8yU1qKgzQKdRYUhE2/pKdxTiq4WXRg2zAPIq6hWNJa/Csjrkp/VAgJdG0VhsrdPJzMMPP4yXX34Z69evh8lksl43mUx4/fXX8corr2DJkiV2CZKIiByfvMU0LCoQGjVX6gHLjEFH2WqSt5iigrxdrp6p0+fM3HzzzXjiiSfwyCOPYOXKlejbty8kScK5c+dQU1ODP/zhD7jlllvsGSsRETmw5uGS3GJqKTrIG6cuVCuezOSWu960bFmXDs174YUXcOONN+Kf//wnzp49CyEEpkyZgoULF+Kqq66yV4xEROQE9rNepl3yykyO0isz8rRsF+tkArpxAvBVV13FxIWIiFopq23E+eJaADws72IxQZaVkKzSWkXjkJMpV1yZ4aYmERFdMXmEQb8QH4eYQeRIYqxnzShbACyPMnC1tmyAyQwREdkAt5g6FhPkA8CyMiKEUCwOechkdBBXZoiIiNrYby3+5WF5F5O3dWr0RpTXGRSJobrBgIqm545ywZoZJjNERHRFGo1mHMqtAACM4spMGzqNGmH+OgDKtWfLW0y9vDXw1Xa5XNbhdSuZMRqN+P777/H3v/8d1dXVACwnANfU1Ng0OCIicnzH8iuhN5oR6K1BvxAfpcNxSHJHk1JFwM3Fv663KgN0o5spKysLs2fPRnZ2NvR6PWbMmAE/Pz+sWbMGDQ0NeOutt+wRJxEROSjrPKYYDpfsSHSQN37NLFOsPbu5+Nf16mWAbqzMPProoxgzZgzKy8vh5dX8otx0003Yvn27TYMjIiLHZ01m4rjF1BGlp2fnuOi0bFmXV2Z+/PFH/PTTT/D0bN16Fxsbi7y8PJsFRkREjk8IgX0tVmaofUqPNLCOMnDBM2aAbqzMmM3mVrOZZLm5ufDz87NJUERE5Bxyy+tRXK2Hh0rC8OhApcNxWNHWU4CVOWvGOsrABc+YAbqRzMyYMQPr1q2zvi9JEmpqavDMM89g7ty5toyNiIgcnLzFNCQyADqNWuFoHJe8MpNfWQ+9se2CgD0JIZprZrjNZPHKK69g2rRpGDx4MBoaGrBw4UKcOXMGwcHB+PTTT+0RIxEROah9WWUAuMV0OcG+nvD2VKOu0YS88nr0DfHtseeuqDOgRm8E4LrbTF1OZiIiInDw4EF8+umnSE9Ph9lsxgMPPIC77rqrVUEwERG5vv1ZFQCAMSz+vSRJkhAT5I2ThZbp2T2ZzMirMiF+WpddPevWyTleXl5YtGgRFi1aZOt4iIjISVQ3GHCqsAoAxxh0RnRTMtPT7dlyJ5OrrsoAnUxmvvnmm04/4A033NDtYIiIyHkczKmAWVh+SYY2nXBLHWs+OK9nk5lcF2/LBjqZzMyfP79TDyZJUrudTkRE5Hqs58twVaZTlGrPljuoXPXAPKCTyYzZbLZ3HERE5GTkZGYMk5lOiVHo4LzmbSbXXZnhoEkiIuoyk1ngQHYFAA6X7KwY61kzdRBC9NjzunpbNtDNZGb79u24/vrr0a9fP/Tv3x/XX389vv/+e1vHRkREDupUYTVq9Eb4eKqRGOavdDhOITLQC5IE1DaaUFbb2CPPaTljpqlmxoW3mbqczKxfvx6zZ8+Gn58fHn30UTzyyCPw9/fH3LlzsX79envESEQK23qsEFe/+AP2ZZYpHQo5iP3Zli2mkTG9oFZxuGRn6DRqhDUVSmf10FZTcY0eDQYzJAkID3DdZKbLrdmrV6/GK6+8gocffth67ZFHHsHVV1+NF154odV1InINf9t5DnkV9fjw5yyMiQtSOhxyAPubElsW/3ZNTJA3CiobkFNWh1E9cNCgvMUU7q+Dp4frVpZ0+TOrqqrC7Nmz21yfOXMmqqqqbBIUETmO/Ip6HMqpAAD8eLYEZnPP7fWT45JXZpjMdI21o6mH2rPlM21cufgX6EYyc8MNN2Djxo1trv/73//GvHnzbBIUETmOLccKrf8uq23EsXz+0eLuiqoakFNWD0kCRsQEKh2OU+np9mx5ZSbKhetlgE5uM7322mvWfw8aNAgvvPACdu7ciQkTJgAA9u7di59++gnLly+3T5REpJjvjlqSGY1agsEksOtMMYZGBSgcFSlJbskeGOoHf51G4Wici9ye3VM1M+5wYB7QyWTmlVdeafV+r169cPz4cRw/ftx6LTAwEO+++y7++Mc/2jZCIlJMcbUeaU21EYsmxePvqeex+0wxlkzrr3BkpCQeltd90S3as3uCfGCeK48yADqZzGRkZNg7DiJyQNuOX4AQwLCoANw5NgZ/Tz2P/VnlqNUb4aPt1mg3cgH75MPyOFyyy2KbkpnCqgY0GEx2H/zY3Jbt2iszrlvaTERXbHNTvcysIWGI7e2N6CAvGEwCv2SUKhwZKaXBYMKx/EoAwOgYdrZ1VZCPJ3w81RACyKuot+tzmczC+hyunsx060+r3NxcfPPNN8jOzkZjY+uDf9auXWuTwIhIWZV1Buw5WwIAmJMUBkmSMDkhBJ/8ko1dp0twTWKowhGSEg7nVsJgEgjx07r0IWz2IkmSdXp2dlkd+oX42u25LlQ1wGAS8FBJ1vNtXFWXk5nt27fjhhtuQHx8PE6dOoWkpCRkZmZCCIFRo0bZI0YiUsD2kxdgNAsMCPVF36YfuFMSgi3JzJlihaMjpVjrZWJ6QZJ4WF53xMjJjJ3bs+VOpohAL5c/2LDL20wrVqzA8uXLcfToUeh0Onz55ZfIyclBcnIybr31VnvESEQKkLuYZieFW69N6BcMtUrC+eJa6148uZf9WZaCcNbLdF9PtWc3nzHj+itoXU5mTpw4gXvvvRcA4OHhgfr6evj6+uLPf/4zXnrpJZsHSEQ9r1ZvxK7TltWX2UPCrNcDvDQYER0IAPjxTIkSoZGChBDWlRkOl+y+2B6anu0OAyZlXU5mfHx8oNfrAQARERE4d+6c9baSEv5wI3IFO08VQ280I7a3NwaF+7W6bXJCMABgN5MZt3O+pBbldQZ4eqiQFMGzhrqrp9qzc9xgwKSsy8nM+PHj8dNPPwEArrvuOixfvhwvvPACFi1ahPHjx9s8QCLqeXIX0+ymwt+WJieEALCMNjBxtIFbkVdlhkcFuPScH3truc0khP3+D7nLKAOgGwXAa9euRU1NDQAgJSUFNTU12LBhA/r379/mcD0icj4NBhN+OHEBQOstJtnwqAD46TxQWW/AkbxK67YTub50bjHZRGQvL0gSUNdoQklNI0L8tHZ5Hus2kxuszHQ5menbt6/1397e3njjjTdsGhARKeunsyWobTQhPECH4VGBbW73UKtwdb9gbD5WiN2ni5nMuBHrYXmxPF/mSmg91IgI8EJeRT2yy+rskswYTGYUVLJmpkN9+/ZFaWnbA7MqKipaJTpE5JzkLqZZQ8Kg6qCdc/IAS90MW7TdR0VdI84WWVblR3G45BWTV0vsVTdTUNEAswA8PVQI9rXPyo8j6XIyk5mZCZPJ1Oa6Xq9HXl6eTYIiImUYTGZ8L28xJbXdYpJNaaqbSc+uQHWDoUdiI2WlZ1tWZfoG+6C3G/xytDd7t2fLRydE9fLq8I8SV9LpbaZvvvnG+u8tW7YgIKC5kt1kMmH79u2Ii4uzaXBE1LN+OV+GijoDevt4Ymxcx1sJ0UHeiA/2QUZJLX4+V4qZ7dTWkGthS7ZtyclMlp0Ozsspd5/iX6ALycz8+fMBWI5ils+ZkWk0GsTFxeHll1+2aXBE1LM2HysAAMwcEnrZE0MnJwQjo6QWu8+UMJlxA/sy5XoZJjO2YO/27OYzZly/+BfoQjJjNpsBAPHx8UhLS0NwcLDdgiKinmc2C2w5ZtlimtWJ5GRyQgg+/DkLu1k34/IMJjMO5VYAAEYzmbGJ2N4+AOy3zSQnSa4+YFLW5ZqZjIwMJjJELig9uxzF1Xr46Twwsd/l/4+P7xsED5WEzNI6u8+YIWUdz69Cg8GMAC+NXQcjuhN5m6mwqgENhrZ1qFcqp2llxh1GGQBdSGZ++eUXfPfdd62uffjhh4iPj0efPn3w4IMPWk8GJiLnI3cxXTsotFMHovnpNBgVY/krffdZrs64Mmu9TEygWxST9oRe3hr4ai2bI/KWkC3JBcDu0JYNdCGZSUlJweHDh63vHzlyBA888ACuvfZaPPXUU9i0aRNWr15tlyCJyL6EENh8tPnU386SRxvIc5zINVknZXOLyWYkSbJuAWWX1dr0sRsMJlyosiwucJvpIgcPHsT06dOt73/22WcYN24c3nnnHSxbtgyvvfYa/vWvf3XpyVevXo2xY8fCz88Pffr0wfz583Hq1KlW9xFCICUlBREREfDy8sLUqVNx7NixLj0PEV3a0bwq5FXUw0ujtrZdd8bkAZb77jlbCqPJbK/wSEFCCOxrmpQ9mofl2VRM01kztt6mzauwrPR4e6rRy1tj08d2VJ1OZsrLyxEaGmp9PzU1FbNnz7a+P3bsWOTk5HTpyVNTU7FkyRLs3bsX27Ztg9FoxMyZM1Fb25ylrlmzBmvXrsX69euRlpaGsLAwzJgxA9XV1V16LiLq2HdHLV1M0xJD4OWp7vTHDY0MQKC3BtV6o7VAlFxLfmUDLlTpoVZJGB7N4ZK21FwEbNttppbTsi+ereaqOp3MhIaGIiMjAwDQ2NiI9PR0TJgwwXp7dXU1NJquZYCbN2/GfffdhyFDhmD48OF47733kJ2djf379wOw/EWwbt06rFy5EgsWLEBSUhI++OAD1NXV4ZNPPunScxFR+1puMXWmi6kltUrC1f3lrSZO0XZF+zItqzJDIvzh7dnlCTh0CdF2OjivecCkexT/Al1IZmbPno2nnnoKu3fvxooVK+Dt7Y3Jkydbbz98+DD69et3RcFUVlYCAIKCLEuZGRkZKCwsxMyZM6330Wq1SE5Oxp49e9p9DL1ej6qqqlZvRNSxM0U1OF9SC0+1Ctck9unyx09pqpthi7Zrsg6XjGG9jK3F2OmsmeYBk+5RLwN0IZl5/vnnoVarkZycjHfeeQfvvPMOPD09rbe/++67rZKOrhJCYNmyZZg0aRKSkpIAAIWFlr8WW25vye/Lt11s9erVCAgIsL5FR0d3OyYidyCvykxKCIafruv765OaamwO5lSgsp6jDVyNdbhkHJMZW2s50kAIYbPHzSl3v5WZTq8ZhoSEYPfu3aisrISvry/U6tb76p9//jl8fbt//sDDDz+Mw4cP48cff2xz28V7fkKIDvcBV6xYgWXLllnfr6qqYkJDdAnfdaOLqaXIQC/0C/HBueJa/HyuBLOTwm0ZHimoVm/EiQLL6jY7mWwvMtALKgmoN5hQXKNHHz+dTR43t8y9RhkA3Tg0LyAgoE0iA1i2hlqu1HTF73//e3zzzTfYsWMHoqKirNfDwiw/XC9ehSkqKmqzWiPTarXw9/dv9UZE7csqrcWJgiqoVRJmDGr//1RnTG5andl1hnUzruRgTgXMwvJLNzzAff7K7ymeHirr62rLrabmbSb3+Zp1OZmxJSEEHn74YXz11Vf44YcfEB8f3+r2+Ph4hIWFYdu2bdZrjY2NSE1NxcSJE3s6XCKXI28xje8bhF4+3ftjBACmDGg+b8aWy+WkLA6XtD9bT8+u1RtRWtsIgCszPWbJkiX4+OOP8cknn8DPzw+FhYUoLCxEfb0lq5QkCUuXLsWqVauwceNGHD16FPfddx+8vb2xcOFCJUMncgmbjzVtMV3hoMjxfXtDo5aQW16PTI42cBnWehkmM3Zj6+nZ8qqMv84DAV7uccYM0IWaGXt48803AQBTp05tdf29997DfffdBwB44oknUF9fj8WLF6O8vBzjxo3D1q1b4efn18PRErmWgsp6HMiugCR1vSX7Yt6eHhgTG4Sfz5di95lixAf72ChKUorZLHCAJ//aXUxv267MWMcYuFEnE6BwMtOZ5WhJkpCSkoKUlBT7B0TkRrY2TcgeFdMLffyvvPBw8oBg/Hy+FLtOl+CeCXFX/HikrNNF1ajWG+HtqUZiGP94tBdbt2e74xkzgMLbTESkHPnU3znd7GK6mDwG4edzJTBwtIHTk+tlRkQHwkPNXxX2YuuamZan/7oTfocSuaHSGj1+zbCc7HqlW0yyweH+CPLxRG2jCQeyK2zymKQcDpfsGXIyc6FKjwaD6YofL8dNt5mYzBC5oW3HL8AsgKRIf5v90FOpJEzqz9OAXQWTmZ4R6K2Bn9ZS8WGLraacpjlP3GYiIpdnqy6mi01OaG7RJudVXK1HVmkdJAkYyTEGdiVJkk2LgN21AJjJDJGbqaw34KezlsPtbH1a75QBlrqZw3mVKG8664Kcj7wqM6CPn1u19yrFVnUzlfUGVDUYAXBlhohc3I6TRTCYBBL6+KJ/n+6PIGlPqL8OA0P9IATw0zmeBuys0rN5WF5PslUyI29T9fbxdLsJ50xmiNyM3MXU3VlMlyNvNe0+zWTGWe3LtBSH87C8niFvCWVf4cF5cidTlJttMQFMZojcSl2jEalN9Sx2S2aatpp2n+FoA2fUYDDhaB6HS/YkW63M5LrhtGwZkxkiN5J6qhgNBjOig7wwONw+Q1iviguCp4cK+ZUNOFdca5fnIPs5mleJRpMZvX08Edvb/f7CV0JsiwLgK/kDwF3PmAGYzBC5le+aBkvOSQqHJEl2eQ4vTzWuigsCwBZtZ9SyJdte3yPUWkSgF1QSoDeaUVyt7/bjyDUz7jQtW8ZkhshN6I0m/HCyCIDtDsrrCFu0ndc+ni/T4zRqFSICLQnIlWw15Vi3mbgyQ0Qu6qezJajRGxHqr8XI6EC7Ppfcor33fBn0xis/1ZR6hhAC6fKk7DgmMz3pSqdnCyFabDNxZYaIXNTmpi2mWUPCoFLZd/sgMcwPwb5a1BtM1m0LcnxZpXUorW2Ep1qFIREBSofjVq60CListhF1jZY/HCKZzBCRKzKazNh23DIl215dTC1JkoQpcov2GbZoOwt5i2loVAB0GrXC0bgX+RTg7o40yGlalQn110Lr4X5fOyYzRG7g14wylNcZ0MtbYy3OtbfJAzinydlwHpNyrnRlxjrGwA3rZQAmM0RuQe5imjk4DB7qnvlvf3XT0MmjeVUorel+hwb1nP1ZlsPymMz0vCtNZtx1wKSMyQyRizObBbbIgyV7YItJ1sdPh0FNZ9n8eJZbTY6ust6A0xdqAACjOFyyx8nJTFG1HvWNXS+ad9cBkzImM0Qu7kBOOYqq9fDTemBi/949+txTrC3aTGYcnTyPKa63N0L8tApH434CvT3hr7PMU5JbrLsix40PzAOYzBC5PLmL6ZpBfXq8MHAKRxs4Dbklm8MllSMXAXdnRlNumfuOMgCYzBC5NCFEi1N/e26LSTY6thd0GhWKqvXWLQxyTPsyWfyrtO7WzZjNArkVTSsz3GYiIldzLL8KueX10GlU1lWSnqTTqDEu3rK1xa4mx2U0mXEwpwIAMCa2Z7rdqK3obiYzxTV6NBrNUKskhAfo7BGaw2MyQ+TC5C2mqQP6wNvTQ5EYrKMNeN6MwzpZWI16gwl+Og8k9PFVOhy31d2VGflsmjB/XY91Kzoa9/ysidzEZgW6mC4mrwj9cr4UDQaONnBE+zItLdmjYnrZ/XRo6lhskA+Aricz1jEGbjhgUsZkhshFnS2qxtmiGmjUEq4Z1EexOBL6+CLUXwu90WytyyDHsj+7AgDrZZQmr8zklNXBbO58wXxOmfsOmJQxmSFyUfIW09X9g+Gv0ygWhyRJmJxgWZ3ZxboZh7S/aWVmDJMZRYUH6qBWSdAbzSjuwkGTuW7elg0wmSFyWUp2MV1M3mradZrJjKPJr6hHfmUD1CoJw+08TZ0uTaNWISLQUsDblenZOdYD87jNREQuJKesDsfyq6CSgGsHhSodDib1D4YkWQpNi6oalA6HWpDnMQ0K94OPVpkicWrWnSJgOZnhNhMRuRR5i2lcfG/09lX+NNcgH08kRQQA4GgDR2MdLskRBg4hpotFwEaTGQUVlj8QuDJDRC7lu6MFAJTtYrqY3KK9my3aDsWazPTQNHW6tJZFwJ1RWNUAo1lAo5YQ6ueeZ8wATGaIXM6FqgakN3WnzBriSMmMPNqgpEudGmQ/dY1GHC+oAsBOJkfR1W0meVp2ZKCXW7fVM5khcjHyhOxRMYEIc6DTQEfFBsLbU42SGj1OFlYrHQ4BOJhTAZNZIMxfhwgH+l5xZ3Iy09kCYHefli1jMkPkYuR6GUfaYgIArYca4/taRhuwRdsxpFu3mHpBktz3r3pHIg+bLKnRo67ReNn7y9Oy3XXApIzJDJELKattxC8ZljNDZg8JVziatqZY62aYzDgCFv86ngAvDQK8LOdCyVtIl5LLTiYATGaIXMr3xy/AZBYYHO5v/QvPkUxuOm8mLaMc9Y2uOdrAZBb4/vgFXHDwFnSzWViTmTFxTGYcSVfqZnLL3HtatozJDJELkbuYHOGgvPb0DfZBZKAXGk1m/JJRqnQ4dvHq9jP4nw/3IfkvO/DXLadQ3WBQOqR2nSuuQVWDEV4aNQaF+ysdDrXQXDdTe9n7Np8xw20mInIBVQ0G/HTWkiA4Wr2MzDLawHVbtC9UNeDtXecAAA0GM9bvOIvkv+zEB3syYTCZFY6utX1NqzLDowOgcdNJy44qupPt2Y1GMwqbVgDdeZQBwGSGyGXsOFmERpMZ/UJ8kBDqp3Q4HWpu0Xa9uplXtp1Gg8GM0bG98NZvRqNvsA/KahvxzDfHMPOVXfjuSAGEcIy2dGu9DFuyHU5s785tM+VX1EMIQKdRIdjXsydCc1hMZohchKN2MV3s6v69IUnA6Qs1KKx07LqSrjh9oRr/2pcDAHh67iDMTgrDlsem4Ln5SQj29URGSS1+9890LHhzD/Y1DXZUkrVeJpaH5TmaztbMtBxj4O7daExmiFxAfaMJO09ZVjrmJDleF1NLgd6eGBYVCMC1Vmde/O4kzMJSrySvdmjUKtw9PhY7/zANj0xPgJdGjQPZFbjlrZ/x24/24VxxjSKxltbokVFiqccYGROoSAzUMespwOX1lzxgsnlatnvXywBMZohcQurpYtQbTIjq5YUhEY5fzJncVDezy0XqZvacK8EPJ4vgoZLwxOzENrf7aj2wbMYApP5hKu68KhoqCdhy7AJmvrILf/z6CIqr9T0ar7wq07+PLwK93Xt7whGFB+jgoZLQaDTjQnXHq5dyTY27t2UDTGaIXMJmeRbTkDCnWG6WW7R/PFPs9KMNzGaBF787CQC4a1wM4oN9OrxvH38dVi8Yhi1Lp+DaQX1gMgt8vDcbU/+yA69+fwa1+ssfkmYL+7PlLSbWyzgiD7UKkU2rLdmXOAnYujLjxgMmZUxmiJxco9GM7SeKADh+vYxsRHQgfLUeKK8z4Fh+ldLhXJFNh/NxOLcSvloP/H56Qqc+JiHUD/9371h89uB4DI8KQG2jCa98fxpT/7oTn/ySDaOdO5/2Z1qSmVFMZhxWZ+pm5JoZd+9kApjMEDm9n86VoFpvRIifFqOc5CRXjVqFCf2cf7SB3mjCX7acAgA8lNwXwb7aLn38+L698fWSq7F+4UjEBHmjuFqPpzcewexXd+P74xfs0vmkN5pwOK8SAFdmHFln2rPlE4K5zcRkhsjpbWnqYpo1JNSppua6wmiDj37OQm55PUL9tXhgUt9uPYYkSbh+WAS2LZuC/3f9YPTy1uBsUQ3+58N9uP3tvTiYU2HTmI/lV6HRaEaQj+clt8RIWdaD8zpIZhoMJpTUWGqtuM3EZIbIqRlNZmw9fgGA43cxXUw+b2Z/VnmP1YrYUmWdAa//cBYAsHzGQHh5qq/o8bQeaiyaFI+df5iG303tB62HCr9mlGH+337Ckk/SO3UabGdYt5hiOFzSkV1um0meyeSr9bDOcnJnTGaInFhaZjnKahsR6K3BVfHOdV5IbG9vRAd5wWASTjna4I2dZ1FZb8CAUF/cPDrKZo8b4KXBk7MTsePxqbhldBQkCfjP4QJcuzYVz246hrLaxit6fB6W5xxiLrPN1LzF5MWkFExmiJya3MU0Y1Co0x1JbxltYFmd2XXauVq0c8vr8N6eTADAijmDoLbD9l5EoBf+eutw/PeRyUgeEAKDSeC9nzKRvGYH3th5Fg2Grg/qFEJYxxhwuKRjkwfFltQ0trtyKa/MuPuASZlz/fQjIiuzWWDzMec49bcjU+RkxsnqZtZuPY1GoxkT+vbG1IEhdn2uQeH++GDRVfj4gXEYEuGPar0RazafwrS/7sTn+3Jg6kJre05ZPUpq9NCoJQyNDLBj1HSl/HUaBHpbto/krqWWcsqbV2aIyQyR0zqYW4ELVXr4aj1wdf9gpcPplgn9ekOtknC+uNb6l6ajO5pXiY0H8wBYxhb01BL/pIRgbHp4El65fTgiA71QUNmAP3xxGNe9thupp4s71fm0L8syRiEpMgA6zZXV+JD9NU/Pbvt/I5dt2a0wmSFyUvIspmmJfZz2F1OAlwYjogMBAD86wWnAQgis/u4EhABuHBGBoVE9u7qhUkm4aWQUti9PxtNzE+Gv88DJwmrc++6vuPsfv+JoU8t1R6z1Mk7Swu/uLtWeLdfMcJvJgskMkRMSQliTmTlOusUkm2xt0Xb8ZGbXmRL8dLYUnmoVHp85ULE4dBo1HpzSD7uemIb/nRwPT7UKP54twfWv/4jHNhzscJWLxb/OJfYSHU3NQya5zQQwmSFySscLqpBdVgethwrJA+xbs2FvchHwj2dLulT/0dNMZoHV/z0BALh3YqxD/EUc6O2JldcNxvblybhxRAQAYOOBPFzz11Ss+u8JVNYZrPetajDg1IVqAExmnEVH7dnVDQZUNH1tmcxYMJkhckLyQXnJA0Lgo/VQOJorMzwqAH46D1TWG3DkMtskSvoqPRcnC6vhr/PAkmn9lQ6nleggb7x6x0hsengSJvTtjUaTGW/vOo8pf9mB/9t9HnqjCQeyKyCE5YC1Pv46pUOmTugomZFnMgV6a+Cn4xkzAJMZIqf03VHn7mJqyUOtwtX9mqZon3bMrqYGgwkvbz0NAHj4mv4OO2l6aFQAPvnfcXjv/rEYGOqHynoDnv/PCUx/ORX/t/s8AGBMrHOdR+TO5NW/3LL6VquWcg0Ni3+bMZkhcjJni2pwpqgGGrWE6YNClQ7HJqY0bZU56miDd3/KQGFVAyIDvXDPhDilw7kkSZIwbWAf/PfRyVhzyzCE+muRW15vrUnicEnnERHoBQ+VhEaTGReqGqzXOS27LSYzRE5mS9PZMhP7BbvMMeZyEXB6dgWqGwyXuXfPKq3R480d5wAAf5g10Gk6x9QqCbeNicbOx6fhD7MGwlfrAS+NGskJzl1j5U7UKslaE9Nyq6m5+JcrMzImM0ROZrMLbTHJooO8ER/sA5NZ4OdzjjXa4PUfzqJab8SQCH/cMDxC6XC6zMtTjSXT+uPnFdcg9Q9TrSfLknOIbqduxroyw+JfKyYzRE4kp6wOR/IqoZKAGYNdY4tJ5ogt2pkltfh4bxYAywF5zjSV/GJ+Og0Lf52QtQi4xcF5cs1MlAN01DkKRZOZXbt2Yd68eYiIiIAkSfj6669b3S6EQEpKCiIiIuDl5YWpU6fi2LFjygRL5ADkLaaxcUEI9tUqHI1tyS3ajlQ385ctp2A0C0wdGOK0pyyTc7u4o0kIwZWZdiiazNTW1mL48OFYv359u7evWbMGa9euxfr165GWloawsDDMmDED1dXVPRwpkWNwlYPy2jO+bxA8VBIyS+ta/RWqlAPZ5fjPkQJIEvDUnESlwyE3Fdu7dTJTWW9ATdPgSdbMNFM0mZkzZw6ef/55LFiwoM1tQgisW7cOK1euxIIFC5CUlIQPPvgAdXV1+OSTTxSIlkhZRVUN2J9tOcF1lgsmM346DUY1HbOv9OBJIQRW//ckAOCWUVFIDPNXNB5yXxePNJDHGAT7ap2mGL0nOGzNTEZGBgoLCzFz5kzrNa1Wi+TkZOzZs6fDj9Pr9aiqqmr1RuQKthy/ACGAEdGBCA9wzeXlKQPkuhllk5nvTxTh18wy6DQqLJs5QNFYyL3JyUxpbSNq9EZrJxPbsltz2GSmsNCynB4a2rrIMTQ01Hpbe1avXo2AgADrW3R0tF3jJOopW1ywi+lict3MnrOlMJrMisRgNJnx4neWsQUPTIp32cSRnIO/ToNe3pYjGLJL6zgtuwMOm8zIJKl194AQos21llasWIHKykrrW05Ojr1DJLK78tpG/Hze0rI8e4jrJjNJkQEI9NagWm/EodwKRWLYsC8H54prEeTjid8m91MkBqKWWhYBy9tMnMnUmsMmM2Fhlh/YF6/CFBUVtVmtaUmr1cLf37/VG5Gz+/7EBZjMAolhfogL9lE6HLtRqyRr19Cu0z3fol2rN+KVbWcAAI9c0x/+nHtDDiCmt+X/fE5Zi5UZtmW34rDJTHx8PMLCwrBt2zbrtcbGRqSmpmLixIkKRkbU85q7mMIVjsT+piQoVzfz9q7zKKnRI663NxaOi+3x5ydqT0xQ8ynAOda2bCYzLSk6brempgZnz561vp+RkYGDBw8iKCgIMTExWLp0KVatWoWEhAQkJCRg1apV8Pb2xsKFCxWMmqhnVTcYrAfJuXK9jGxSU93MwZwKVNYbemxkQ1FVA95pGsb4xOxEeHo47N965GbkbabM0lrrygy3mVpTNJnZt28fpk2bZn1/2bJlAIB7770X77//Pp544gnU19dj8eLFKC8vx7hx47B161b4+fkpFTJRj9txqhiNJjP6BvtgQKiv0uHYXWSgF/qF+OBccS32nC3BnKE9sxq1bvsZ1DWaMCI60CXP8SHnJW8pHcqpQIPBDEmyDKGkZoomM1OnToUQosPbJUlCSkoKUlJSei4oIgez+WgBAMvZMpcqfnclUwaE4FxxLXad6Zlk5mxRNTakWZoFVl43yG1eZ3IOsU01M1UNlsPywvx1XDm8CF8NIgfWYDBhx0lL7Yg7rRZMadpq2nW6+JJ/8NjKi9+dgsksMHNwKMbGBdn9+Yi6IsxfB426OcFmvUxbTGaIHFjq6WLUG0yIDPTC0MgApcPpMeP6BkGjlpBXUY9MO482+OV8Kb4/cQFqlYQnZnNsATketUpqNbogigfmtcFkhsiByQflzRriPltMAODt6YExsZYVEnt2NQkhsOo7y9iCO8ZGo38f169JIufUshWbM5naYjJD5KAajWZsO3EBgHt0MV1s8gD7nzfznyMFOJRTAW9PNZZey7EF5LhiWqzGcFp2W0xmiBzUz+dLUd1gRLCvFqNjeykdTo+T62Z+PlcCgx1GGzQazViz+RQA4LdT+iHET2vz5yCyldig5sMyeWBeW0xmiByU3MU0c0go1Cr32WKSDQ73R28fT9Q2mpCeVW7zx//nL1nILqtDiJ8W/zM53uaPT2RLrbeZuDJzMSYzRA7IZBbYesyyxeROXUwtqVQSJllPA7btVlNlvQGvbbeMLXjs2gHw0Sp6SgXRZckH53moJIT56xSOxvEwmSFyQGmZZSitbUSAlwbj+/ZWOhzFyFO0bV0E/FbqOZTXGdC/jy9uGxNl08cmsofEMD8sGBWJR6cnwEPNX90X458jRA5InsV07aBQaNz4B9fkppWZw3mVKK9tRC8fzyt+zPyKerz7YwYA4KnZifzFQE5BpZKw9rYRSofhsPi/mMjBmM0CW45Zkhl37GJqKdRfh4GhfhAC+Omcbbaa1m47Db3RjKvigzB9UB+bPCYRKYvJDJGDOZxXiYLKBnh7qq0rE+5Mfg1226BF+3h+Fb5MzwUAPD2XYwuIXAWTGSIH811TF9O0xD7QadQKR6O8yQOa62audLTBi5tPQgjg+mHhGBEdaIPoiMgRMJkhchAGkxknC6vw3RHLFpO7djFd7Kq4IHh6qJBf2YBzxbXdfpzdZ4qx63QxNGoJf5g10IYREpHSWABMpIDSGj1OFlbjREEVjhdU4URBNc4WVcNgsqw8eHqoMG0g6zkAwMtTjXHxQdh9pgS7Thd3a+SA2Syw+r+WsQW/GR9rnUJMRK6ByQyRHRlNZpwvqbUmLScLLAlMUbW+3fv7aT2QGO6H28fG8OyTFiYnBGP3mRLsPlOMRZO6fsDd1wfzcLygCn46DzxyTYIdIiQiJfGnJZGNlNc24kRBFU40rbicKKjCmaIaNBrbP4o/trc3BoX5Y1C4PwaF+2FQuD+ienmxKLUdlvNmTmLv+TLojSZoPTpfS9RgMOGvWyxjCxZP7W+T9m4icixMZoi6yGgyI7O0FsebVllONm0TFVY1tHt/H081EpsSlsSm5CUxzI8rL12QGOaHYF8tSmr02J9Vjon9Ot/l9cGeTORXNiAiQIf7r46zX5BEpBj+NCW6hMo6g2V7qLCqabWlGqcvVEPfwWpLdJBXi9UWSwIT3csbKjecrWRLkiRhSkIwvjqQh91nSjqdzJTXNmL9jrMAgOUzB7I7jMhFMZkhgmUWUmZprXV7SK5tya9sf7XF21ONgWGWlZbBTVtEA8P84KfT9HDk7mPyADmZKcaTsxM79THrd5xFdYMRg8L9MX9kpJ0jJCKlMJlxMTtOFuH0hWrMHRrOMfGXoDea8MOJIqSeLsaJgiqculCNBkP7qy2RgV4YFN6ctCSG+yM2iKstPW1Sf8t5M0fzqlBao0dvX+0l759TVocPf84EAKyYk+iWk8eJ3AWTGRdR32jCn789jk9/zQYArP7uJK6KC8JNoyIxd2g4Ary4YiCEwP6scnyZnof/HM5HVYOx1e06jQoDw/wxKMzPuk2UGO4Hf662OIQQPy0Gh/vjeEEVfjxbghtHXHqlZc2WUzCYBCYnBGNK08F7ROSamMy4gFOF1fj9p+k4faEGkgQMiwzA4bxK/JpZhl8zy/DMN8cwY1AobhoZieSBIW43uDCrtBZfpedh44E8ZJfVWa+HB+hw/bBwDI8OxKBwf8T19uFf7w5u8oBgHC+owq7Tl05mDuVUYNOhfEgS8NSczm1JEZHzYjLjxIQQ+Ocv2Xju2+PQG80I8dPildtGYFJCMAoq6/Hvg/n4Kj0Xpy/U4D9HCvCfIwXo7eOJecMjcNPISAyLCnDZNuCKukZ8e7gAGw/kYX9WufW6j6cas5PCsWBUJMb37c3kxclMSQjB31PPW0cbtPf9K4TAqv+eAADcNDISQyICejpMIuphTGacVGWdAU9+eRibm6YrTx0Ygr/eOhzBTXUE4QFeeCi5H347pS+O5Vfhq/Q8fHMoDyU1jXh/Tybe35OJfiE+WDAqCvNHRiIy0EvJT8cmGo1m7DhVhI3pefjhZBEaTZYaGJUETEoIwYKRkZg5JBTenvy2d1ajY3tBp1GhqFqP0xdqMDDMr819dpwqwi8ZZfD0UGH5TI4tIHIH/KnuhNIyy/DopweQX9kAjVrCk7MTsejq+HYLUiVJQlJkAJIiA/D03ETsPlOCrw7kYeuxQpwrrsVftpzCX7acwvi+QVgwKgpzksKcqiNHCIEDORXYmJ6Hbw/no7zOYL1tULg/FoyMxI0jItDHX6dglGQrOo0a4+J7I/V0MXafKW6TzBhNZuvYgvuvjnOJJJ2ILo/JjBMxmQX+tuMs1n1/GmYBxPX2xmt3jsSwqMBOfbyHWoVpiX0wLbEPqhoM2HykEF8dyMXe82XWtz99fRQzh4RhwahITO4fDA8Hra/JKavDxgOWOpiMkubhg338tJg/MhI3jYzEoHB/BSMke5mcEIzU08XYdaYE/zO5b6vbvtifizNFNQj01mDx1P4KRUhEPY3JjJMorGzA0g0HsPd8GQBLLcBz85Pg281TZP11Gtw2Nhq3jY1Gbnkd/n0wH1+m5+J8cS02HcrHpkP5CPbV4sYREU11B/6K19dU1hvw3ZECfJWeh18zy6zXvTRqzBoSigWjonB1/2DWwbi4KQNCgP+cwC/nS9FgMFkPwqtrNGLtttMAgN9fk8AOPiI3wmTGCXx//AL+8MUhlNcZ4O2pxnM3JuHm0VE2e/yoXt5YMq0/Fk/th8O5ldh4IA/fHMpHSY0e//gxA//4MQMDQ/1w06hIzB8RibCAntuyMZjM2HW6GF8dyMO24xesc44kCZjYrzcWjIzCrKSwbid15HwS+vgizF+HwqoGpGWWNc1tAv5vdwaKqvWIDvLCb8bHKBwlEfUkSQghlA7CnqqqqhAQEIDKykr4+zvXtkODwYQXvzuJ9/dkAgCGRPjj9TtHom+Ir92f22AyI/VUMb46kIvvjzcX00oScHW/YNw0MhKzk8LsMl9ICIEjeZX4Kj0Pmw7lo7S20XpbQh/fpqLlCIQHsB7CXf3h80P4fH8uHpzSF0/PHYTiaj2m/mUHahtNeP3OkZg3PELpEInoCnXl9zeTGQd1rrgGv//kAI4XVAEAHpgUjydmD+zStGBbqawz4D9HCrDxQC7SMpvbnL00asxOstTXTOx35ds7eRX1+LqpDuZsUY31erCvJ24YHokFoxxju4uU982hfDzy6QEkhvlh89Ip+NPXR/HR3iwMjwrAxsVX83RmIhfQld/fXJt3MEIIfL4/F8/8+xjqDSYE+Xji5VuHY1piH8ViCvDWYOG4GCwcF4PsUrnwNheZpc1FuKH+Wtw4wpJwJIZ1PmmsbjDgu6OF2Jieh70ZpZBTa62HylKIPDISkxMctxCZlDGpfzAkCThZWI2950vxSdPJ10/NGcREhsgNcWXGgVQ3GLBy41F8cygfgKUm5JXbRyDUAduKhRBIz67AxgO52HSoAJX1rVuibx4ViRtGRKCPX9vYjSYzfjxbgq/S87D1eGGrmUjj4oNw86gozB4axjECdEnzXv8RR/IqEeTjibLaRkxP7IN/3DdW6bCIyEa4zdSCsyQzB3Mq8MinB5BdVge1SsKyGQPwUHI/p+jM0RtN2HGyGBsP5OKHk0UwmCzfUvJhdTePisTMwWE4X1KDr9Lz8O+DluJiWd8QH9w8Kgo3johAVC8Ox6TOWbP5JN7YeQ6A5Xtty9IpSAhte4geETknbjM5EbNZ4J3d5/GXLadgNAtEBnrhtTtHYHRskNKhdZrWw1I7MzspDOW1jfj2SAG+Ss/FgewK7DpdjF2ni6FRS9YkBwCCfDwxb1g4FoyKcumxCmQ/kxNCrMnM7WOjmcgQuTEmMwoqrtZj+eeHsOt0MQBg7tAwrF4wzKnPx+jl44m7x8fi7vGxyCiptdbX5JTVw1OtwrWD++CmkVFIHhACTw/WwVD3jY7thfAAHeoaTVh67QClwyEiBXGbSSG7Thdj2b8OoqSmETqNCs/MG4I7xka75AqFEAJni2rQx0+HAG/nTdTI8ZTVNsJkFgjx0yodChHZGLeZHFij0YyXt57C33edBwAMDPXD+oUjXXqJXJIkl/78SDlBPp5Kh0BEDoDJTA/KLq3D7z9Nx6HcSgDAb8bH4I/XDbYex05ERERdx2Smh/z7YB5WbjyKGr0R/joPrLllGGYnhSsdFhERkdNjMmNntXojUr45hs/35wIAxsb1wro7RiIykEfxExER2QKTGTs6ll+J3396AOeLayFJlkm+j1zTn6fZEhER2RCTGTsQQuD9PZlY/d+TaDSZEeavwyu3j8CEfr2VDo2IiMjlMJmxsbLaRjzxxSF8f6IIAHDtoD5Yc8twdl0QERHZCZMZG/r5XCmWbjiAC1V6eKpVeHpuIu6dGOeSZ8cQERE5CiYzNmA0mfHa9jN4fcdZCGGZNfT6nSMxJCJA6dCIiIhcHpOZK5RXUY9HPz2AfVnlAIDbxkQh5YYh8PbkS0tERNQT+Bv3Cmw+WoAnvjiMqgYjfLUeeOGmJNw4IlLpsIiIiNwKk5luWrP5pHVi7/CoALx250jE9vZROCoiIiL3w2Smm0bF9IIkAQ9O6YvlMwZyAjQREZFCmMx007WDQ/H9smT0C/FVOhQiIiK3xuWEK8BEhoiISHlMZoiIiMipMZkhIiIip8ZkhoiIiJwakxkiIiJyakxmiIiIyKkxmSEiIiKn5hTJzBtvvIH4+HjodDqMHj0au3fvVjokIiIichAOn8xs2LABS5cuxcqVK3HgwAFMnjwZc+bMQXZ2ttKhERERkQOQhBBC6SAuZdy4cRg1ahTefPNN67VBgwZh/vz5WL169WU/vqqqCgEBAaisrIS/v789QyUiIiIb6crvb4demWlsbMT+/fsxc+bMVtdnzpyJPXv2KBQVERERORKHns1UUlICk8mE0NDQVtdDQ0NRWFjY7sfo9Xro9Xrr+1VVVXaNkYiIiJTl0CszMkmSWr0vhGhzTbZ69WoEBARY36Kjo3siRCIiIlKIQyczwcHBUKvVbVZhioqK2qzWyFasWIHKykrrW05OTk+ESkRERApx6G0mT09PjB49Gtu2bcNNN91kvb5t2zbceOON7X6MVquFVqu1vi/XN3O7iYiIyHnIv7c706fk0MkMACxbtgx33303xowZgwkTJuDtt99GdnY2HnrooU59fHV1NQBwu4mIiMgJVVdXIyAg4JL3cfhk5vbbb0dpaSn+/Oc/o6CgAElJSfjvf/+L2NjYTn18REQEcnJy4Ofn12GdTXdVVVUhOjoaOTk5bPu+DL5WncfXqvP4WnUeX6vO42vVefZ8rYQQqK6uRkRExGXv6/DnzDgynmHTeXytOo+vVefxteo8vladx9eq8xzltXLoAmAiIiKiy2EyQ0RERE6NycwV0Gq1eOaZZ1p1T1H7+Fp1Hl+rzuNr1Xl8rTqPr1XnOcprxZoZIiIicmpcmSEiIiKnxmSGiIiInBqTGSIiInJqTGaIiIjIqTGZ6aY33ngD8fHx0Ol0GD16NHbv3q10SA5n9erVGDt2LPz8/NCnTx/Mnz8fp06dUjosp7B69WpIkoSlS5cqHYrDysvLw29+8xv07t0b3t7eGDFiBPbv3690WA7HaDTij3/8I+Lj4+Hl5YW+ffviz3/+M8xms9KhKW7Xrl2YN28eIiIiIEkSvv7661a3CyGQkpKCiIgIeHl5YerUqTh27JgywSrsUq+VwWDAk08+iaFDh8LHxwcRERG45557kJ+f32PxMZnphg0bNmDp0qVYuXIlDhw4gMmTJ2POnDnIzs5WOjSHkpqaiiVLlmDv3r3Ytm0bjEYjZs6cidraWqVDc2hpaWl4++23MWzYMKVDcVjl5eW4+uqrodFo8N133+H48eN4+eWXERgYqHRoDuell17CW2+9hfXr1+PEiRNYs2YN/vKXv+D1119XOjTF1dbWYvjw4Vi/fn27t69ZswZr167F+vXrkZaWhrCwMMyYMcM688+dXOq1qqurQ3p6Ov70pz8hPT0dX331FU6fPo0bbrih5wIU1GVXXXWVeOihh1pdS0xMFE899ZRCETmHoqIiAUCkpqYqHYrDqq6uFgkJCWLbtm0iOTlZPProo0qH5JCefPJJMWnSJKXDcArXXXedWLRoUatrCxYsEL/5zW8UisgxARAbN260vm82m0VYWJh48cUXrdcaGhpEQECAeOuttxSI0HFc/Fq159dffxUARFZWVo/ExJWZLmpsbMT+/fsxc+bMVtdnzpyJPXv2KBSVc6isrAQABAUFKRyJ41qyZAmuu+46XHvttUqH4tC++eYbjBkzBrfeeiv69OmDkSNH4p133lE6LIc0adIkbN++HadPnwYAHDp0CD/++CPmzp2rcGSOLSMjA4WFha1+1mu1WiQnJ/NnfSdUVlZCkqQeWy11+KnZjqakpAQmkwmhoaGtroeGhqKwsFChqByfEALLli3DpEmTkJSUpHQ4Dumzzz5Deno60tLSlA7F4Z0/fx5vvvkmli1bhqeffhq//vorHnnkEWi1Wtxzzz1Kh+dQnnzySVRWViIxMRFqtRomkwkvvPAC7rzzTqVDc2jyz/P2ftZnZWUpEZLTaGhowFNPPYWFCxf22PBJJjPdJElSq/eFEG2uUbOHH34Yhw8fxo8//qh0KA4pJycHjz76KLZu3QqdTqd0OA7PbDZjzJgxWLVqFQBg5MiROHbsGN58800mMxfZsGEDPv74Y3zyyScYMmQIDh48iKVLlyIiIgL33nuv0uE5PP6s7xqDwYA77rgDZrMZb7zxRo89L5OZLgoODoZarW6zClNUVNQmgyeL3//+9/jmm2+wa9cuREVFKR2OQ9q/fz+KioowevRo6zWTyYRdu3Zh/fr10Ov1UKvVCkboWMLDwzF48OBW1wYNGoQvv/xSoYgc1x/+8Ac89dRTuOOOOwAAQ4cORVZWFlavXs1k5hLCwsIAWFZowsPDrdf5s75jBoMBt912GzIyMvDDDz/02KoMwG6mLvP09MTo0aOxbdu2Vte3bduGiRMnKhSVYxJC4OGHH8ZXX32FH374AfHx8UqH5LCmT5+OI0eO4ODBg9a3MWPG4K677sLBgweZyFzk6quvbtPmf/r0acTGxioUkeOqq6uDStX6R71arWZr9mXEx8cjLCys1c/6xsZGpKam8md9O+RE5syZM/j+++/Ru3fvHn1+rsx0w7Jly3D33XdjzJgxmDBhAt5++21kZ2fjoYceUjo0h7JkyRJ88skn+Pe//w0/Pz/ralZAQAC8vLwUjs6x+Pn5takl8vHxQe/evVlj1I7HHnsMEydOxKpVq3Dbbbfh119/xdtvv423335b6dAczrx58/DCCy8gJiYGQ4YMwYEDB7B27VosWrRI6dAUV1NTg7Nnz1rfz8jIwMGDBxEUFISYmBgsXboUq1atQkJCAhISErBq1Sp4e3tj4cKFCkatjEu9VhEREbjllluQnp6Ob7/9FiaTyfrzPigoCJ6envYPsEd6plzQ3/72NxEbGys8PT3FqFGj2G7cDgDtvr333ntKh+YU2Jp9aZs2bRJJSUlCq9WKxMRE8fbbbysdkkOqqqoSjz76qIiJiRE6nU707dtXrFy5Uuj1eqVDU9yOHTva/Rl17733CiEs7dnPPPOMCAsLE1qtVkyZMkUcOXJE2aAVcqnXKiMjo8Of9zt27OiR+CQhhLB/ykRERERkH6yZISIiIqfGZIaIiIicGpMZIiIicmpMZoiIiMipMZkhIiIip8ZkhoiIiJwakxkiIiJyakxmiMjlxcXFYd26dUqHQUR2wmSGiGzqvvvuw/z58wEAU6dOxdKlS3vsud9//30EBga2uZ6WloYHH3ywx+Igop7F2UxE5PAaGxuvaL5LSEiIDaMhIkfDlRkisov77rsPqampePXVVyFJEiRJQmZmJgDg+PHjmDt3Lnx9fREaGoq7774bJSUl1o+dOnUqHn74YSxbtgzBwcGYMWMGAGDt2rUYOnQofHx8EB0djcWLF6OmpgYAsHPnTtx///2orKy0Pl9KSgqAtttM2dnZuPHGG+Hr6wt/f3/cdtttuHDhgvX2lJQUjBgxAh999BHi4uIQEBCAO+64A9XV1fZ90YioW5jMEJFdvPrqq5gwYQL+93//FwUFBSgoKEB0dDQKCgqQnJyMESNGYN++fdi8eTMuXLiA2267rdXHf/DBB/Dw8MBPP/2Ev//97wAAlUqF1157DUePHsUHH3yAH374AU888QQAYOLEiVi3bh38/f2tz/f444+3iUsIgfnz56OsrAypqanYtm0bzp07h9tvv73V/c6dO4evv/4a3377Lb799lukpqbixRdftNOrRURXgttMRGQXAQEB8PT0hLe3N8LCwqzX33zzTYwaNQqrVq2yXnv33XcRHR2N06dPY8CAAQCA/v37Y82aNa0es2X9TXx8PJ577jn87ne/wxtvvAFPT08EBARAkqRWz3ex77//HocPH0ZGRgaio6MBAB999BGGDBmCtLQ0jB07FgBgNpvx/vvvw8/PDwBw9913Y/v27XjhhReu7IUhIpvjygwR9aj9+/djx44d8PX1tb4lJiYCsKyGyMaMGdPmY3fs2IEZM2YgMjISfn5+uOeee1BaWora2tpOP/+JEycQHR1tTWQAYPDgwQgMDMSJEyes1+Li4qyJDACEh4ejqKioS58rEfUMrswQUY8ym82YN28eXnrppTa3hYeHW//t4+PT6rasrCzMnTsXDz30EJ577jkEBQXhxx9/xAMPPACDwdDp5xdCQJKky17XaDStbpckCWazudPPQ0Q9h8kMEdmNp6cnTCZTq2ujRo3Cl19+ibi4OHh4dP5H0L59+2A0GvHyyy9DpbIsKv/rX/+67PNdbPDgwcjOzkZOTo51deb48eOorKzEoEGDOh0PETkObjMRkd3ExcXhl19+QWZmJkpKSmA2m7FkyRKUlZXhzjvvxK+//orz589j69atWLRo0SUTkX79+sFoNOL111/H+fPn8dFHH+Gtt95q83w1NTXYvn07SkpKUFdX1+Zxrr32WgwbNgx33XUX0tPT8euvv+Kee+5BcnJyu1tbROT4mMwQkd08/vjjUKvVGDx4MEJCQpCdnY2IiAj89NNPMJlMmDVrFpKSkvDoo48iICDAuuLSnhEjRmDt2rV46aWXkJSUhH/+859YvXp1q/tMnDgRDz30EG6//XaEhIS0KSAGLNtFX3/9NXr16oUpU6bg2muvRd++fbFhwwabf/5E1DMkIYRQOggiIiKi7uLKDBERETk1JjNERETk1JjMEBERkVNjMkNEREROjckMEREROTUmM0REROTUmMwQERGRU2MyQ0RERE6NyQwRERE5NSYzRERE5NSYzBAREZFTYzJDRERETu3/A28bkUw5YmalAAAAAElFTkSuQmCC",
      "text/plain": [
       "<Figure size 640x480 with 1 Axes>"
      ]
     },
     "metadata": {},
     "output_type": "display_data"
    },
    {
     "name": "stdout",
     "output_type": "stream",
     "text": [
      "稳定的耐心值:  15\n"
     ]
    }
   ],
   "source": [
    "previous = []\n",
    "unstable_flag = False\n",
    "initial = True\n",
    "patience_value = 3\n",
    "stable_count = []\n",
    "\n",
    "while unstable_flag == True or initial == True:\n",
    "    initial = False\n",
    "    for loop in range(1, 52):\n",
    "        # 记录自适应遗传算法的开始时间\n",
    "        start_time_adaptive = time.time()\n",
    "        \n",
    "        # 运行自适应遗传算法\n",
    "        best_solution_adaptive, best_value_adaptive = genetic_algorithm_adaptive(patience=patience_value, Print=False)\n",
    "        \n",
    "        # 检查当前最佳值是否与前一个不同\n",
    "        if (best_value_adaptive != previous and loop != 1):\n",
    "            print('不稳定！耐心值=', patience_value)\n",
    "            patience_value = patience_value + 1\n",
    "            unstable_flag = True\n",
    "            break\n",
    "        \n",
    "        # 更新前一个最佳值\n",
    "        previous = best_value_adaptive\n",
    "        \n",
    "        # 选择最佳解决方案对应的物品\n",
    "        selected_items = [data['j'][i] for i in range(num_items) if best_solution_adaptive[i] == 1]\n",
    "        #print('@', loop, ' ', selected_items, best_value_adaptive, '\\n')\n",
    "        \n",
    "        # 记录自适应遗传算法的结束时间\n",
    "        end_time_adaptive = time.time()\n",
    "        \n",
    "        # 计算并显示运行自适应遗传算法所花费的时间\n",
    "        time_adaptive = end_time_adaptive - start_time_adaptive\n",
    "        #print(\"次数:@ \", loop, '=', time_adaptive)\n",
    "    \n",
    "    # 如果循环到第51次且未发现不稳定，则标记为稳定\n",
    "    if loop == 51:\n",
    "        unstable_flag = False\n",
    "    \n",
    "    # 记录稳定计数\n",
    "    stable_count.append(loop)\n",
    "\n",
    "# 绘制稳定计数随迭代次数变化的曲线\n",
    "plt.plot(stable_count)\n",
    "plt.xlabel('Iteration')\n",
    "plt.ylabel('Stable Count')\n",
    "plt.title('Stable Count over Iterations')\n",
    "plt.show()\n",
    "\n",
    "# 打印稳定的耐心值\n",
    "print('稳定的耐心值: ', patience_value)"
   ]
  },
  {
   "cell_type": "markdown",
   "metadata": {},
   "source": [
    "从这个结果中我们可以看出，很难准确定义哪个耐心值可以作为稳定值，但至少可以看到，耐心值为15时已经足够使错误解的概率小于0.1%（错误率为5%）。"
   ]
  },
  {
   "cell_type": "markdown",
   "metadata": {},
   "source": [
    "## Part 3:  投票法提高稳定性"
   ]
  },
  {
   "cell_type": "markdown",
   "metadata": {},
   "source": [
    "### 3.1 投票法主函数"
   ]
  },
  {
   "cell_type": "code",
   "execution_count": 37,
   "metadata": {},
   "outputs": [],
   "source": [
    "def optimize_solution(max_attempts=100, set_patience=patience_value,Print = True):\n",
    "    attempts = 0\n",
    "    results = {}\n",
    "    best_fitness_over_time = []\n",
    "    while attempts < max_attempts:\n",
    "        best_solution_adaptive, best_value_adaptive = genetic_algorithm_adaptive(patience=set_patience,Print=Print)\n",
    "        \n",
    "        if best_value_adaptive in results:\n",
    "            results[best_value_adaptive].append(best_solution_adaptive)\n",
    "        else:\n",
    "            results[best_value_adaptive] = [best_solution_adaptive]\n",
    "        \n",
    "        for value, solutions in results.items():\n",
    "            if len(solutions) >= 2:\n",
    "                return solutions[0], solutions[1], value\n",
    "        best_fitness_over_time.append(best_value_adaptive)\n",
    "        attempts += 1\n",
    "    if Print == True:\n",
    "        print(\"No repeated solution found within the maximum attempts.\")\n",
    "    return None, None, None"
   ]
  },
  {
   "cell_type": "markdown",
   "metadata": {},
   "source": [
    "### 3.2 运行投票法"
   ]
  },
  {
   "cell_type": "code",
   "execution_count": 38,
   "metadata": {},
   "outputs": [
    {
     "name": "stdout",
     "output_type": "stream",
     "text": [
      "第 0 代, 最优适应度: 924\n",
      "5 代没有改进，提前停止于第 10 代\n",
      "第 0 代, 最优适应度: 895\n",
      "5 代没有改进，提前停止于第 11 代\n",
      "找到重复的解决方案，价值为 1025:\n",
      "[1 1 1 1 1 1 1 1 1 0 1 1 1 1 0 1 0 1 1 1]\n",
      "运行时间: 0.1483628749847412\n"
     ]
    }
   ],
   "source": [
    "# 运行优化\n",
    "start_time = time.time()  # 记录开始时间\n",
    "solution1, solution2, value = optimize_solution(set_patience=5)  # 运行优化算法，耐心值设为5\n",
    "end_time = time.time()  # 记录结束时间\n",
    "\n",
    "# 检查是否找到重复的解决方案\n",
    "if solution1 is not None and solution2 is not None:\n",
    "    print(f\"找到重复的解决方案，价值为 {value}:\")\n",
    "    print(solution1)\n",
    "else:\n",
    "    print(\"未找到重复的解决方案。\")\n",
    "print('运行时间:', end_time - start_time)  # 打印运行时间"
   ]
  },
  {
   "cell_type": "markdown",
   "metadata": {},
   "source": [
    "从这个结果可以看出，使用投票方法，我们可以得到比前两种方法更好的解决方案，同时使用更少的传播步骤。同时，这种算法还可以利用现代CPU的多线程功能，从而减少计算时间。"
   ]
  },
  {
   "cell_type": "markdown",
   "metadata": {},
   "source": [
    "### 3.3 稳定性测试"
   ]
  },
  {
   "cell_type": "code",
   "execution_count": 39,
   "metadata": {},
   "outputs": [
    {
     "name": "stderr",
     "output_type": "stream",
     "text": [
      "C:\\Users\\lanto\\AppData\\Local\\Temp\\ipykernel_22768\\1467982310.py:16: DeprecationWarning: The truth value of an empty array is ambiguous. Returning False, but in future this will result in an error. Use `array.size > 0` to check that an array is not empty.\n",
      "  if (best_value_vote != previous and loop != 1):\n"
     ]
    },
    {
     "name": "stdout",
     "output_type": "stream",
     "text": [
      "不稳定！耐心值= 2\n",
      "不稳定！耐心值= 3\n",
      "不稳定！耐心值= 4\n",
      "不稳定！耐心值= 5\n",
      "不稳定！耐心值= 6\n",
      "不稳定！耐心值= 7\n"
     ]
    },
    {
     "data": {
      "image/png": "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",
      "text/plain": [
       "<Figure size 640x480 with 1 Axes>"
      ]
     },
     "metadata": {},
     "output_type": "display_data"
    },
    {
     "name": "stdout",
     "output_type": "stream",
     "text": [
      "稳定的耐心值:  8\n"
     ]
    }
   ],
   "source": [
    "# 初始化变量\n",
    "previous = []  # 用于存储前一个最佳值\n",
    "unstable_flag = False  # 不稳定标志\n",
    "initial = True  # 初始标志\n",
    "patience_value = 2  # 耐心值\n",
    "stable_count = []  # 稳定计数\n",
    "\n",
    "# 开始稳定性测试循环\n",
    "while unstable_flag == True or initial == True:\n",
    "    initial = False  # 重置初始标志\n",
    "    for loop in range(1, 52):  # 循环52次\n",
    "        # 使用投票法优化解决方案\n",
    "        best_solution_vote1, best_solution_vote2, best_value_vote = optimize_solution(set_patience=patience_value, Print=False)\n",
    "        \n",
    "        # 检查当前最佳值是否与前一个不同\n",
    "        if (best_value_vote != previous and loop != 1):\n",
    "            print('不稳定！耐心值=',patience_value)  # 打印不稳定信息\n",
    "            patience_value = patience_value + 1  # 增加耐心值\n",
    "            unstable_flag = True  # 设置不稳定标志\n",
    "            break  # 跳出循环\n",
    "        \n",
    "        # 更新前一个最佳值\n",
    "        previous = best_value_vote\n",
    "        \n",
    "        # 选择最佳解决方案对应的物品\n",
    "        selected_items = [data['j'][i] for i in range(num_items) if best_solution_vote1[i] == 1]\n",
    "        #print('@', loop, ' ', selected_items, best_value_adaptive, '\\n')  # 打印当前循环信息\n",
    "    \n",
    "    # 如果循环到第51次且未发现不稳定，则标记为稳定\n",
    "    if loop == 51:\n",
    "        unstable_flag = False\n",
    "    \n",
    "    # 记录稳定计数\n",
    "    stable_count.append(loop)\n",
    "\n",
    "# 绘制稳定计数随迭代次数变化的曲线\n",
    "plt.plot(stable_count)\n",
    "plt.xlabel('Iteration')\n",
    "plt.ylabel('Stable Count')\n",
    "plt.title('Stable Count over Iterations')\n",
    "plt.show()\n",
    "\n",
    "# 打印稳定的耐心值\n",
    "print('稳定的耐心值: ', patience_value)"
   ]
  },
  {
   "cell_type": "markdown",
   "metadata": {},
   "source": [
    "从这个结果可以看出，耐心值为8已经足够使错误解决方案的可能性小于0.1%（错误率为5%）。但与动态生成方法相比，投票方法似乎不是一个好的选择，因为它并没有显著减少解决方案的耐心值，同时还增加了解决方案的时间复杂度（8*3>15）。"
   ]
  },
  {
   "cell_type": "markdown",
   "metadata": {},
   "source": [
    "## Part 4: 使用C++实现\n",
    "使用C++，我们可以得到一个二进制可执行文件，其运行速度比Python脚本更快。\\\\\n",
    "基于之前的结论，我们可以轻松地将*Part 2*的Python脚本编译成C++脚本。"
   ]
  },
  {
   "cell_type": "markdown",
   "metadata": {},
   "source": [
    "```cpp\n",
    "#include <iostream>\n",
    "#include <vector>\n",
    "#include <cstdlib>\n",
    "#include <ctime>\n",
    "#include <algorithm>\n",
    "\n",
    "using namespace std;\n",
    "\n",
    "struct Individual {\n",
    "    vector<int> genes; // 基因序列，表示物品的选择(0 或 1)\n",
    "    int fitness;       // 适应度，即总价值\n",
    "};\n",
    "\n",
    "// 初始化种群\n",
    "void initializePopulation(vector<Individual>& population, int populationSize, int n) {\n",
    "    for (int i = 0; i < populationSize; ++i) {\n",
    "        Individual ind;\n",
    "        ind.genes.resize(n);\n",
    "        for (int j = 0; j < n; ++j) {\n",
    "            ind.genes[j] = rand() % 2; // 随机选择物品(0 或 1)\n",
    "        }\n",
    "        ind.fitness = 0; // 初始适应度为 0\n",
    "        population.push_back(ind);\n",
    "    }\n",
    "}\n",
    "\n",
    "// 计算适应度函数：总价值，如果超重，适应度设为 0\n",
    "int calculateFitness(const vector<int>& genes, const vector<int>& values, const vector<int>& weights, int maxWeight) {\n",
    "    int totalValue = 0;\n",
    "    int totalWeight = 0;\n",
    "    int n = genes.size();\n",
    "    for (int i = 0; i < n; ++i) {\n",
    "        if (genes[i] == 1) {\n",
    "            totalValue += values[i];\n",
    "            totalWeight += weights[i];\n",
    "        }\n",
    "    }\n",
    "    // 如果超过背包重量限制，适应度为 0\n",
    "    return (totalWeight <= maxWeight) ? totalValue : 0;\n",
    "}\n",
    "\n",
    "// 选择父母（锦标赛选择）\n",
    "Individual tournamentSelection(const vector<Individual>& population) {\n",
    "    int tournamentSize = 3; // 锦标赛大小\n",
    "    Individual best;\n",
    "    best.fitness = -1; // 初始化为无效适应度\n",
    "    for (int i = 0; i < tournamentSize; ++i) {\n",
    "        int randomIndex = rand() % population.size();\n",
    "        if (population[randomIndex].fitness > best.fitness) {\n",
    "            best = population[randomIndex];\n",
    "        }\n",
    "    }\n",
    "    return best;\n",
    "}\n",
    "\n",
    "// 交叉操作（单点交叉）\n",
    "Individual crossover(const Individual& parent1, const Individual& parent2) {\n",
    "    Individual offspring;\n",
    "    int n = parent1.genes.size();\n",
    "    offspring.genes.resize(n);\n",
    "    int crossoverPoint = rand() % n; // 随机交叉点\n",
    "    for (int i = 0; i < n; ++i) {\n",
    "        offspring.genes[i] = (i < crossoverPoint) ? parent1.genes[i] : parent2.genes[i];\n",
    "    }\n",
    "    offspring.fitness = 0;\n",
    "    return offspring;\n",
    "}\n",
    "\n",
    "// 变异操作（随机变异）\n",
    "void mutate(Individual& ind, double mutationRate) {\n",
    "    for (int i = 0; i < ind.genes.size(); ++i) {\n",
    "        if ((rand() % 100) / 100.0 < mutationRate) {\n",
    "            ind.genes[i] = 1 - ind.genes[i]; // 翻转基因\n",
    "        }\n",
    "    }\n",
    "}\n",
    "\n",
    "// 主进化算法\n",
    "void geneticAlgorithm(int populationSize, int maxGenerations, double mutationRate, const vector<int>& values, const vector<int>& weights, int maxWeight, int patience) {\n",
    "    int n = values.size();\n",
    "    vector<Individual> population;\n",
    "    initializePopulation(population, populationSize, n);\n",
    "\n",
    "    // 初始适应度计算\n",
    "    for (auto& ind : population) {\n",
    "        ind.fitness = calculateFitness(ind.genes, values, weights, maxWeight);\n",
    "    }\n",
    "\n",
    "    //重复计数器\n",
    "    int counter = 0;\n",
    "\n",
    "    // 进化过程\n",
    "    for (int generation = 0; generation < maxGenerations; ++generation) {\n",
    "        vector<Individual> newPopulation;\n",
    "        // 生成下一代\n",
    "        for (int i = 0; i < populationSize; ++i) {\n",
    "            // 选择父母\n",
    "            Individual parent1 = tournamentSelection(population);\n",
    "            Individual parent2 = tournamentSelection(population);\n",
    "            // 交叉\n",
    "            Individual offspring = crossover(parent1, parent2);\n",
    "            // 变异\n",
    "            mutate(offspring, mutationRate);\n",
    "            // 计算适应度\n",
    "            offspring.fitness = calculateFitness(offspring.genes, values, weights, maxWeight);\n",
    "            // 添加到新种群\n",
    "            newPopulation.push_back(offspring);\n",
    "        }\n",
    "\n",
    "        Individual previousBestIndividual = *max_element(population.begin(), population.end(), [](const Individual& a, const Individual& b) {\n",
    "            return a.fitness < b.fitness;\n",
    "        });\n",
    "        // 找到当前最优解\n",
    "        Individual newBestIndividual = *max_element(newPopulation.begin(), newPopulation.end(), [](const Individual& a, const Individual& b) {\n",
    "            return a.fitness < b.fitness;\n",
    "        });\n",
    "\n",
    "        // 检查是否达到解不变\n",
    "        if (newBestIndividual.fitness == previousBestIndividual.fitness) {\n",
    "            counter++;\n",
    "        }\n",
    "        // 更新种群\n",
    "        population = newPopulation;\n",
    "        // 达到解不变，退出循环\n",
    "        if (counter >= patience) {\n",
    "            cout << \"Generation \" << generation + 1 << \" - Best Fitness: \" << newBestIndividual.fitness << \" with solution: [\";\n",
    "            for (int gene : newBestIndividual.genes) {\n",
    "                cout << gene << \" \";\n",
    "            }\n",
    "            cout << \"]\" << endl;\n",
    "            break;\n",
    "            break;\n",
    "        }\n",
    "    }\n",
    "}\n",
    "\n",
    "\n",
    "int main() {\n",
    "    srand(static_cast<unsigned>(time(0)));\n",
    "\n",
    "    vector<int> values = {91, 72, 90, 46, 55, 8, 35, 75, 61, 15, 77, 40, 63, 75, 29, 75, 17, 78, 40, 44};\n",
    "    vector<int> weights = {84, 83, 43, 4, 44, 6, 82, 92, 25, 83, 56, 18, 58, 14, 48, 70, 96, 32, 68, 92};\n",
    "    int maxWeight = 879;\n",
    "\n",
    "    int populationSize = 300;   // 种群大小\n",
    "    int maxGenerations = 100;       // 迭代次数\n",
    "    double mutationRate = 0.05; // 变异率\n",
    "    int patience = 8;\n",
    "    double time_start = clock();\n",
    "    geneticAlgorithm(populationSize, maxGenerations, mutationRate, values, weights, maxWeight, patience);\n",
    "    double time_end = clock();\n",
    "    double time = (time_end - time_start)/1000;\n",
    "    cout << \"time: \" << time << \"s\" << endl;\n",
    "    return 0;\n",
    "}\n",
    "```"
   ]
  },
  {
   "cell_type": "markdown",
   "metadata": {},
   "source": [
    "使用CLang编译上述代码:\\\\\n",
    "```shell\n",
    "clang++ -o genetic_algorithm genetic_algorithm.cpp\n",
    "```\n",
    "得到如下结果:\\\\\n",
    "```shell\n",
    "C:\\Users\\Lanto\\CLionProjects\\Evolutionary_algorism_homework1\\cmake-build-debug\\Evolutionary_algorism_homework1.exe\n",
    "Generation 18 - Best Fitness: 1025 with solution: [ 1 1 1 1 1 1 1 1 1 0 1 1 1 1 0 1 0 1 1 1 ]\n",
    "time: 0.013s\n",
    "\n",
    "进程已结束，退出代码为 0\n",
    "```\n",
    "可见使用C++实现的算法与Python实现的算法结果一致，但运行速度更快。实现了高速优化求解。远快于Python和Matlab等脚本语言。"
   ]
  }
 ],
 "metadata": {
  "kernelspec": {
   "display_name": "Python 3",
   "language": "python",
   "name": "python3"
  },
  "language_info": {
   "codemirror_mode": {
    "name": "ipython",
    "version": 3
   },
   "file_extension": ".py",
   "mimetype": "text/x-python",
   "name": "python",
   "nbconvert_exporter": "python",
   "pygments_lexer": "ipython3",
   "version": "3.8.18"
  }
 },
 "nbformat": 4,
 "nbformat_minor": 2
}
