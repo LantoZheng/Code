{
 "cells": [
  {
   "cell_type": "markdown",
   "metadata": {},
   "source": [
    "# 进化优化算法作业 3：蚁群优化算法解决 TSP 问题\n",
    "旅行商问题（Traveling Salesman Problem, TSP）是组合优化中的经典问题之一。其内容是给定一组城市及城市之间的距离，要求找出一条最短的路径，使得旅行商从某一城市出发，经过每个城市且仅经过一次，最后回到出发城市。\n",
    "\n",
    "TSP 的主要难题在于其计算复杂度。随着城市数量的增加，可能的路径组合数呈指数级增长，导致穷举法在实际应用中不可行。因此，寻找高效的近似算法成为解决 TSP 的关键。\n",
    "\n",
    "蚁群算法（Ant Colony Optimization, ACO）是一种基于自然界蚂蚁觅食行为的启发式算法。蚂蚁通过在路径上留下信息素来指引其他蚂蚁选择路径。ACO 通过模拟这一过程，逐步优化路径选择，最终找到 TSP 的近似最优解。具体来说，蚁群算法通过多次迭代，利用信息素的正反馈机制和路径选择的随机性，逐步收敛到最优或近似最优的路径。"
   ]
  },
  {
   "cell_type": "markdown",
   "metadata": {},
   "source": [
    "## 详细说明：\n",
    "本问题中给定 14 个城市的坐标，使用蚁群优化算法或其他优化的启发式算法寻找一条最短的遍历所有城市的路径。\n",
    "\n",
    "以下是这 14 个城市的坐标：\n",
    "| 城市编号 | X 坐标 | Y 坐标 | 城市编号 | X 坐标 | Y 坐标 |\n",
    "|---------|-------|-------|---------|-------|-------|\n",
    "| 1       | 16.47 | 96.10 | 8       | 17.20 | 96.29 |\n",
    "| 2       | 16.47 | 94.44 | 9       | 16.30 | 97.38 |\n",
    "| 3       | 20.09 | 92.54 | 10      | 14.05 | 98.12 |\n",
    "| 4       | 22.39 | 93.37 | 11      | 16.53 | 97.38 |\n",
    "| 5       | 25.23 | 97.24 | 12      | 21.52 | 95.59 |\n",
    "| 6       | 22.00 | 96.05 | 13      | 19.41 | 97.13 |\n",
    "| 7       | 20.47 | 97.02 | 14      | 20.09 | 92.55 |"
   ]
  },
  {
   "cell_type": "markdown",
   "metadata": {},
   "source": [
    "## Part A. 问题解决思路简述\n",
    "蚁群算法（ACO）解决 TSP 问题的思路如下：\n",
    "\n",
    "1. **初始化**：\n",
    "    - 初始化信息素矩阵，每条路径上的信息素初始值相同。\n",
    "    - 设置算法参数，如蚂蚁数量、信息素重要性因子、启发式因子、信息素挥发系数等。\n",
    "\n",
    "2. **构建解**：\n",
    "    - 每只蚂蚁从一个随机选择的城市出发。\n",
    "    - 根据概率选择下一个城市，概率由信息素浓度和启发式信息（如城市间距离的倒数）共同决定。\n",
    "    - 重复上述步骤，直到蚂蚁遍历完所有城市，形成一条完整路径。\n",
    "\n",
    "3. **更新信息素**：\n",
    "    - 根据蚂蚁走过的路径长度更新信息素。路径越短，信息素增加越多。\n",
    "    - 信息素挥发，防止过早收敛到局部最优解。\n",
    "\n",
    "4. **迭代**：\n",
    "    - 重复构建解和更新信息素的过程，直到达到预定的迭代次数或满足其他终止条件。\n",
    "\n",
    "5. **输出结果**：\n",
    "    - 记录并输出迭代过程中找到的最优路径及其长度。"
   ]
  },
  {
   "cell_type": "markdown",
   "metadata": {},
   "source": [
    "## Part B. 算法求解"
   ]
  },
  {
   "cell_type": "code",
   "execution_count": 36,
   "metadata": {},
   "outputs": [],
   "source": [
    "import numpy as np\n",
    "import random as rand"
   ]
  },
  {
   "cell_type": "code",
   "execution_count": 37,
   "metadata": {},
   "outputs": [],
   "source": [
    "\n",
    "city_data = np.array([\n",
    "    [1, 16.47, 96.10],\n",
    "    [2, 16.47, 94.44],\n",
    "    [3, 20.09, 92.54],\n",
    "    [4, 22.39, 93.37],\n",
    "    [5, 25.23, 97.24],\n",
    "    [6, 22.00, 96.05],\n",
    "    [7, 20.47, 97.02],\n",
    "    [8, 17.20, 96.29],\n",
    "    [9, 16.30, 97.38],\n",
    "    [10, 14.05, 98.12],\n",
    "    [11, 16.53, 97.38],\n",
    "    [12, 21.52, 95.59],\n",
    "    [13, 19.41, 97.13],\n",
    "    [14, 20.09, 92.55]\n",
    "])"
   ]
  },
  {
   "cell_type": "code",
   "execution_count": 116,
   "metadata": {},
   "outputs": [
    {
     "name": "stdout",
     "output_type": "stream",
     "text": [
      "Best path: [0, 10, 8, 9, 1, 13, 2, 3, 4, 5, 11, 6, 12, 7]\n",
      "Best path length: 29.688931283833764\n"
     ]
    }
   ],
   "source": [
    "# 计算城市间距离\n",
    "def calculate_distance(city_data):\n",
    "    num_cities = city_data.shape[0]\n",
    "    distance_matrix = np.zeros((num_cities, num_cities))\n",
    "    for i in range(num_cities):\n",
    "        for j in range(num_cities):\n",
    "            if i != j:\n",
    "                distance_matrix[i][j] = np.sqrt((city_data[i][1] - city_data[j][1])**2 + (city_data[i][2] - city_data[j][2])**2)\n",
    "    return distance_matrix\n",
    "\n",
    "# 初始化信息素矩阵\n",
    "def initialize_pheromone_matrix(num_cities, initial_pheromone):\n",
    "    return np.full((num_cities, num_cities), initial_pheromone)\n",
    "\n",
    "# 选择下一个城市\n",
    "def select_next_city(pheromone_matrix, distance_matrix, visited, current_city, alpha, beta):\n",
    "    num_cities = pheromone_matrix.shape[0]\n",
    "    probabilities = np.zeros(num_cities)\n",
    "    for i in range(num_cities):\n",
    "        if i not in visited:\n",
    "            probabilities[i] = (pheromone_matrix[current_city][i] ** alpha) * ((1.0 / distance_matrix[current_city][i]) ** beta)\n",
    "    probabilities_sum = probabilities.sum()\n",
    "    if probabilities_sum == 0:\n",
    "        return np.random.choice([i for i in range(num_cities) if i not in visited])\n",
    "    probabilities /= probabilities_sum\n",
    "    return np.random.choice(range(num_cities), p=probabilities)\n",
    "\n",
    "# 更新信息素矩阵\n",
    "def update_pheromone_matrix(pheromone_matrix, all_paths, distance_matrix, evaporation_rate, Q):\n",
    "    num_cities = pheromone_matrix.shape[0]\n",
    "    pheromone_matrix *= (1 - evaporation_rate)\n",
    "    for path, length in all_paths:\n",
    "        for i in range(num_cities - 1):\n",
    "            pheromone_matrix[path[i]][path[i + 1]] += Q / length\n",
    "        pheromone_matrix[path[-1]][path[0]] += Q / length\n",
    "\n",
    "# 蚁群算法求解 TSP\n",
    "def ant_colony_optimization(city_data, num_ants, num_iterations, alpha, beta, evaporation_rate, Q, initial_pheromone):\n",
    "    num_cities = city_data.shape[0]\n",
    "    distance_matrix = calculate_distance(city_data)\n",
    "    pheromone_matrix = initialize_pheromone_matrix(num_cities, initial_pheromone)\n",
    "    \n",
    "    best_path = None\n",
    "    best_length = float('inf')\n",
    "    \n",
    "    for iteration in range(num_iterations):\n",
    "        all_paths = []\n",
    "        for ant in range(num_ants):\n",
    "            visited = []\n",
    "            current_city = np.random.randint(num_cities)\n",
    "            visited.append(current_city)\n",
    "            \n",
    "            while len(visited) < num_cities:\n",
    "                next_city = select_next_city(pheromone_matrix, distance_matrix, visited, current_city, alpha, beta)\n",
    "                visited.append(next_city)\n",
    "                current_city = next_city\n",
    "            \n",
    "            path_length = sum(distance_matrix[visited[i]][visited[i + 1]] for i in range(num_cities - 1))\n",
    "            path_length += distance_matrix[visited[-1]][visited[0]]\n",
    "            all_paths.append((visited, path_length))\n",
    "            \n",
    "            if path_length < best_length:\n",
    "                best_length = path_length\n",
    "                best_path = visited\n",
    "        \n",
    "        update_pheromone_matrix(pheromone_matrix, all_paths, distance_matrix, evaporation_rate, Q)\n",
    "    \n",
    "    return best_path, best_length\n",
    "\n",
    "# 设置参数并运行算法\n",
    "num_ants = 50\n",
    "num_iterations = 100\n",
    "alpha = 1.0\n",
    "beta = 5.0\n",
    "evaporation_rate = 0.5\n",
    "Q = 50\n",
    "initial_pheromone = 1.0\n",
    "\n",
    "best_path, best_length = ant_colony_optimization(city_data, num_ants, num_iterations, alpha, beta, evaporation_rate, Q, initial_pheromone)\n",
    "print(\"Best path:\", best_path)\n",
    "print(\"Best path length:\", best_length)"
   ]
  }
 ],
 "metadata": {
  "kernelspec": {
   "display_name": "base",
   "language": "python",
   "name": "python3"
  },
  "language_info": {
   "codemirror_mode": {
    "name": "ipython",
    "version": 3
   },
   "file_extension": ".py",
   "mimetype": "text/x-python",
   "name": "python",
   "nbconvert_exporter": "python",
   "pygments_lexer": "ipython3",
   "version": "3.12.7"
  }
 },
 "nbformat": 4,
 "nbformat_minor": 2
}
