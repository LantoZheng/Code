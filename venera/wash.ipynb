{
 "cells": [
  {
   "cell_type": "code",
   "execution_count": null,
   "id": "9d70073d",
   "metadata": {},
   "outputs": [],
   "source": [
    "import sqlite3\n",
    "import requests\n",
    "from tqdm import tqdm"
   ]
  },
  {
   "cell_type": "code",
   "execution_count": 3,
   "id": "103a3168",
   "metadata": {},
   "outputs": [],
   "source": [
    "\n",
    "def check_and_remove_invalid_cover_links(db_path):\n",
    "    conn = sqlite3.connect(db_path)\n",
    "    cursor = conn.cursor()\n",
    "    cursor.execute(\"SELECT rowid, cover FROM history\")\n",
    "    rows = cursor.fetchall()\n",
    "    for rowid, cover_url in rows:\n",
    "        if cover_url:\n",
    "            try:\n",
    "                response = requests.head(cover_url, timeout=5)\n",
    "                if response.status_code >= 400:\n",
    "                    cursor.execute(\"UPDATE history SET cover=NULL WHERE rowid=?\", (rowid,))\n",
    "            except Exception:\n",
    "                cursor.execute(\"UPDATE history SET cover=NULL WHERE rowid=?\", (rowid,))\n",
    "    conn.commit()\n",
    "    conn.close()\n",
    "\n",
    "conn = sqlite3.connect(\"history.db\")\n",
    "cursor = conn.cursor()\n",
    "cursor.execute(\"SELECT rowid, cover FROM history\")\n",
    "rows = cursor.fetchall()\n"
   ]
  },
  {
   "cell_type": "code",
   "execution_count": null,
   "id": "4a3c3342",
   "metadata": {},
   "outputs": [],
   "source": [
    "\n",
    "for rowid, cover_url in tqdm(rows, desc=\"Checking cover links\"):\n",
    "    if cover_url:\n",
    "        try:\n",
    "            response = requests.head(cover_url, timeout=5)\n",
    "            if response.status_code >= 400:\n",
    "                cursor.execute(\"UPDATE history SET cover=NULL WHERE rowid=?\", (rowid,))\n",
    "        except Exception:\n",
    "            cursor.execute(\"UPDATE history SET cover=NULL WHERE rowid=?\", (rowid,))\n",
    "conn.commit()\n",
    "conn.close()"
   ]
  },
  {
   "cell_type": "code",
   "execution_count": 4,
   "id": "f9db6b5a",
   "metadata": {},
   "outputs": [],
   "source": [
    "conn = sqlite3.connect(\"history.db\")\n",
    "cursor = conn.cursor()\n",
    "cursor.execute(\"UPDATE history SET cover='' WHERE cover IS NULL\")\n",
    "conn.commit()\n",
    "conn.close()"
   ]
  }
 ],
 "metadata": {
  "kernelspec": {
   "display_name": "base",
   "language": "python",
   "name": "python3"
  },
  "language_info": {
   "codemirror_mode": {
    "name": "ipython",
    "version": 3
   },
   "file_extension": ".py",
   "mimetype": "text/x-python",
   "name": "python",
   "nbconvert_exporter": "python",
   "pygments_lexer": "ipython3",
   "version": "3.12.2"
  }
 },
 "nbformat": 4,
 "nbformat_minor": 5
}
