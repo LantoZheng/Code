{
 "cells": [
  {
   "cell_type": "code",
   "execution_count": null,
   "id": "15280d75",
   "metadata": {},
   "outputs": [
    {
     "data": {
      "application/vnd.jupyter.widget-view+json": {
       "model_id": "c051579aedad466c8fa9154da71fd6d6",
       "version_major": 2,
       "version_minor": 0
      },
      "text/plain": [
       "VBox(children=(FloatSlider(value=1.0, description='Window Width (d):', max=5.0, min=0.1), FloatSlider(value=10…"
      ]
     },
     "metadata": {},
     "output_type": "display_data"
    },
    {
     "data": {
      "application/vnd.jupyter.widget-view+json": {
       "model_id": "0e703a46e2d84364890f2c8ddf0811a9",
       "version_major": 2,
       "version_minor": 0
      },
      "text/plain": [
       "Output()"
      ]
     },
     "metadata": {},
     "output_type": "display_data"
    }
   ],
   "source": [
    "import numpy as np\n",
    "import matplotlib.pyplot as plt\n",
    "from scipy.fft import fft, fftfreq\n",
    "import ipywidgets as widgets\n",
    "\n",
    "# 绘制窗函数的频率响应\n",
    "def plot_frequency_response(window_width, sampling_frequency, num_points):\n",
    "    # 定义窗函数\n",
    "    t = np.linspace(-window_width / 2, window_width / 2, num_points, endpoint=False)\n",
    "    window_function = np.where(np.abs(t) <= window_width / 2, 1, 0)\n",
    "\n",
    "    # 计算频率响应\n",
    "    N = 2 ** 10  # FFT的点数\n",
    "    yf = fft(window_function, n=N)\n",
    "    xf = fftfreq(N, 1 / sampling_frequency)\n",
    "\n",
    "    # 绘制频率响应的幅度谱\n",
    "    plt.figure(figsize=(10, 6))\n",
    "    plt.plot(xf[:N//2], np.abs(yf)[:N//2]**2, color='blue')\n",
    "    plt.title('Magnitude Response of Window Function')\n",
    "    plt.xlabel('Frequency (f)')\n",
    "    plt.ylabel('Magnitude')\n",
    "    plt.grid()\n",
    "    plt.ylim(0, np.max(np.abs(yf)**2) * 1.1)  # 调整y轴范围\n",
    "    plt.xlim(0, sampling_frequency / 2)  # 只显示正频率\n",
    "    plt.show()\n",
    "\n",
    "# 创建滑块\n",
    "window_width_slider = widgets.FloatSlider(value=1, min=0.1, max=5, step=0.1, description='Window Width (d):')\n",
    "sampling_frequency_slider = widgets.FloatSlider(value=10, min=1, max=100, step=1, description='Sampling Frequency (f):')\n",
    "num_points_slider = widgets.IntSlider(value=1024, min=256, max=2048, step=256, description='Number of Points:')\n",
    "\n",
    "# 创建互动式图形\n",
    "ui = widgets.VBox([window_width_slider, sampling_frequency_slider, num_points_slider])\n",
    "out = widgets.interactive_output(plot_frequency_response, {\n",
    "    'window_width': window_width_slider,\n",
    "    'sampling_frequency': sampling_frequency_slider,\n",
    "    'num_points': num_points_slider\n",
    "})\n",
    "\n",
    "display(ui, out)"
   ]
  }
 ],
 "metadata": {
  "kernelspec": {
   "display_name": "base",
   "language": "python",
   "name": "python3"
  },
  "language_info": {
   "codemirror_mode": {
    "name": "ipython",
    "version": 3
   },
   "file_extension": ".py",
   "mimetype": "text/x-python",
   "name": "python",
   "nbconvert_exporter": "python",
   "pygments_lexer": "ipython3",
   "version": "3.12.2"
  }
 },
 "nbformat": 4,
 "nbformat_minor": 5
}
