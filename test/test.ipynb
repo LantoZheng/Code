{
 "cells": [
  {
   "cell_type": "code",
   "execution_count": 3,
   "metadata": {},
   "outputs": [
    {
     "name": "stdout",
     "output_type": "stream",
     "text": [
      "动态调整后的积分值: 0.250006\n",
      "最终使用的采样点数量: 262144000\n"
     ]
    }
   ],
   "source": [
    "import numpy as np\n",
    "\n",
    "# 定义目标函数\n",
    "def integrand(x):\n",
    "    return x * np.log(1 / x)\n",
    "\n",
    "# 蒙特卡洛积分\n",
    "def monte_carlo_integration(num_samples):\n",
    "    x_samples = np.random.uniform(0, 1, num_samples)\n",
    "    y_samples = integrand(x_samples)\n",
    "    integral_estimate = np.mean(y_samples)\n",
    "    return integral_estimate\n",
    "\n",
    "# 动态调整采样点数量以提高精度\n",
    "def dynamic_monte_carlo_integration(initial_samples, tolerance):\n",
    "    num_samples = initial_samples\n",
    "    prev_result = monte_carlo_integration(num_samples)\n",
    "    while True:\n",
    "        num_samples *= 2  # 每次将采样点数量加倍\n",
    "        current_result = monte_carlo_integration(num_samples)\n",
    "        if abs(current_result - prev_result) < tolerance:\n",
    "            break\n",
    "        prev_result = current_result\n",
    "    return current_result, num_samples\n",
    "\n",
    "# 设置初始采样点数量和容忍度\n",
    "initial_samples = 1000\n",
    "tolerance = 1e-6\n",
    "\n",
    "# 调用动态蒙特卡洛方法计算积分\n",
    "result, final_samples = dynamic_monte_carlo_integration(initial_samples, tolerance)\n",
    "print(f\"动态调整后的积分值: {result:.6f}\")\n",
    "print(f\"最终使用的采样点数量: {final_samples}\")"
   ]
  }
 ],
 "metadata": {
  "kernelspec": {
   "display_name": "base",
   "language": "python",
   "name": "python3"
  },
  "language_info": {
   "codemirror_mode": {
    "name": "ipython",
    "version": 3
   },
   "file_extension": ".py",
   "mimetype": "text/x-python",
   "name": "python",
   "nbconvert_exporter": "python",
   "pygments_lexer": "ipython3",
   "version": "3.12.2"
  }
 },
 "nbformat": 4,
 "nbformat_minor": 2
}
