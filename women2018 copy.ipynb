{
 "cells": [
  {
   "cell_type": "code",
   "execution_count": 1,
   "metadata": {},
   "outputs": [],
   "source": [
    "import pandas as pd\n",
    "import requests\n",
    "import json\n",
    "# Read the file using pandas\n",
    "df = pd.read_stata('women2018ok.dta')\n",
    "#put all city and countries into lists\n",
    "citylist = df['cityname'].unique().tolist()\n",
    "countylist= df['countyname'].unique().tolist()\n",
    "locations = df[['cityname', 'countyname']].drop_duplicates().reset_index(drop=True)\n",
    "\n",
    "# 接口地址\n",
    "url = \"https://api.map.baidu.com/place/v2/search\"\n",
    "# reques for response\n",
    "key=\"o65PXhJ1yPA4oPf6JUgtjsNy12yes7AJ\"\n",
    "query=\"幼儿园\"\n",
    "tag=\"教育培训\"\n",
    "region=\"海淀区\"\n",
    "\n",
    "KinderGartenNum = {}\n",
    "\n",
    "params = {\n",
    "    \"query\":    query,\n",
    "    \"tag\":    tag,\n",
    "    \"region\":    region,\n",
    "    \"output\":    \"json\",\n",
    "    \"ak\":       key,\n",
    "    \"page_size\":    20,\n",
    "    }\n",
    "response = requests.get(url=url, params=params).json()\n",
    "results = response[\"results\"]\n"
   ]
  },
  {
   "cell_type": "code",
   "execution_count": 2,
   "metadata": {},
   "outputs": [],
   "source": [
    "\n",
    "# Loop through the locations\n",
    "for region in countylist:\n",
    "    params = {\n",
    "        \"query\":    query,\n",
    "        \"tag\":    tag,\n",
    "        \"region\":    region,\n",
    "        \"output\":    \"json\",\n",
    "        \"ak\":       key,\n",
    "        \"page_size\":    20,\n",
    "    }\n",
    "    response = requests.get(url=url, params=params).json()\n",
    "    count=response[\"total\"]\n",
    "    KinderGartenNum[region] = count\n",
    "\n",
    "    \n",
    "\n"
   ]
  },
  {
   "cell_type": "code",
   "execution_count": 4,
   "metadata": {},
   "outputs": [],
   "source": [
    "# Convert KinderGartenNum dictionary to DataFrame\n",
    "df_kg = pd.DataFrame.from_dict(KinderGartenNum, orient='index', columns=['Count'])\n",
    "\n",
    "# Output DataFrame to CSV file\n",
    "df_kg.to_csv('kinder_garten_counts.csv', index_label='Region')\n",
    "\n",
    "df['KinderGartenCount'] = df['countyname'].map(KinderGartenNum)\n",
    "\n",
    "\n"
   ]
  },
  {
   "cell_type": "code",
   "execution_count": 8,
   "metadata": {},
   "outputs": [],
   "source": [
    "df.to_csv('output_edu.csv', index=False)\n"
   ]
  },
  {
   "cell_type": "code",
   "execution_count": 9,
   "metadata": {},
   "outputs": [],
   "source": [
    "# 接口地址\n",
    "url = \"https://api.map.baidu.com/place/v2/search\"\n",
    "# reques for response\n",
    "key=\"o65PXhJ1yPA4oPf6JUgtjsNy12yes7AJ\"\n",
    "query=\"幼儿园\"\n",
    "region=\"通州区\"\n",
    "\n",
    "KinderGartenNum = {}\n",
    "\n",
    "params = {\n",
    "    \"query\":    query,\n",
    "    \"region\":    region,\n",
    "    \"output\":    \"json\",\n",
    "    \"ak\":       key,\n",
    "    \"page_size\":    20,\n",
    "    }\n",
    "response = requests.get(url=url, params=params).json()\n",
    "results = response[\"results\"]\n",
    "\n",
    "count=response[\"total\"]\n",
    "KinderGartenNum[region] = count"
   ]
  },
  {
   "cell_type": "code",
   "execution_count": null,
   "metadata": {},
   "outputs": [],
   "source": []
  }
 ],
 "metadata": {
  "kernelspec": {
   "display_name": "Python 3",
   "language": "python",
   "name": "python3"
  },
  "language_info": {
   "codemirror_mode": {
    "name": "ipython",
    "version": 3
   },
   "file_extension": ".py",
   "mimetype": "text/x-python",
   "name": "python",
   "nbconvert_exporter": "python",
   "pygments_lexer": "ipython3",
   "version": "3.10.6"
  }
 },
 "nbformat": 4,
 "nbformat_minor": 2
}
