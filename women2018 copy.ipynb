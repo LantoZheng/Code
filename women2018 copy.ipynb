{
 "cells": [
  {
   "cell_type": "code",
   "execution_count": 6,
   "metadata": {},
   "outputs": [],
   "source": [
    "import pandas as pd\n",
    "import requests\n",
    "import json\n",
    "# Read the file using pandas\n",
    "df = pd.read_stata('women2018ok.dta')\n",
    "#put all city and countries into lists\n",
    "citylist = df['cityname'].unique().tolist()\n",
    "countylist= df['countyname'].unique().tolist()\n",
    "locations = df[['cityname', 'countyname']].drop_duplicates().reset_index(drop=True)\n",
    "\n",
    "# 接口地址\n",
    "url = \"https://api.map.baidu.com/place/v2/search\"\n",
    "# reques for response\n",
    "key=\"o65PXhJ1yPA4oPf6JUgtjsNy12yes7AJ\"\n",
    "query=\"幼儿园\"\n",
    "tag=\"幼儿园\"\n",
    "region=\"海淀区\"\n",
    "\n",
    "KinderGartenNum = {}\n",
    "\n",
    "params = {\n",
    "    \"query\":    query,\n",
    "    \"tag\":    tag,\n",
    "    \"region\":    region,\n",
    "    \"output\":    \"json\",\n",
    "    \"ak\":       key,\n",
    "    \"page_size\":    20,\n",
    "    }\n",
    "response = requests.get(url=url, params=params).json()\n",
    "results = response[\"results\"]\n"
   ]
  },
  {
   "cell_type": "code",
   "execution_count": 7,
   "metadata": {},
   "outputs": [],
   "source": [
    "\n",
    "# Loop through the locations\n",
    "for region in countylist:\n",
    "    params = {\n",
    "        \"query\":    query,\n",
    "        \"tag\":    tag,\n",
    "        \"region\":    region,\n",
    "        \"output\":    \"json\",\n",
    "        \"ak\":       key,\n",
    "        \"page_size\":    20,\n",
    "    }\n",
    "    response = requests.get(url=url, params=params).json()\n",
    "    count=response[\"total\"]\n",
    "    KinderGartenNum[region] = count\n",
    "\n",
    "    \n",
    "\n"
   ]
  },
  {
   "cell_type": "code",
   "execution_count": 8,
   "metadata": {},
   "outputs": [],
   "source": [
    "df['KinderGartenCount'] = df['countyname'].map(KinderGartenNum)\n",
    "\n",
    "\n"
   ]
  },
  {
   "cell_type": "code",
   "execution_count": 10,
   "metadata": {},
   "outputs": [],
   "source": [
    "df.to_csv('output.csv', index=False)\n"
   ]
  },
  {
   "cell_type": "code",
   "execution_count": 14,
   "metadata": {},
   "outputs": [
    {
     "ename": "UnicodeEncodeError",
     "evalue": "'latin-1' codec can't encode characters in position 0-2: ordinal not in range(256)",
     "output_type": "error",
     "traceback": [
      "\u001b[1;31m---------------------------------------------------------------------------\u001b[0m",
      "\u001b[1;31mUnicodeEncodeError\u001b[0m                        Traceback (most recent call last)",
      "Cell \u001b[1;32mIn[14], line 1\u001b[0m\n\u001b[1;32m----> 1\u001b[0m \u001b[43mdf\u001b[49m\u001b[38;5;241;43m.\u001b[39;49m\u001b[43mto_stata\u001b[49m\u001b[43m(\u001b[49m\u001b[38;5;124;43m'\u001b[39;49m\u001b[38;5;124;43moutput.dta\u001b[39;49m\u001b[38;5;124;43m'\u001b[39;49m\u001b[43m)\u001b[49m\n",
      "File \u001b[1;32mc:\\Users\\lanto\\AppData\\Local\\Programs\\Python\\Python310\\lib\\site-packages\\pandas\\core\\frame.py:2672\u001b[0m, in \u001b[0;36mDataFrame.to_stata\u001b[1;34m(self, path, convert_dates, write_index, byteorder, time_stamp, data_label, variable_labels, version, convert_strl, compression, storage_options, value_labels)\u001b[0m\n\u001b[0;32m   2668\u001b[0m \u001b[38;5;28;01mif\u001b[39;00m version \u001b[38;5;129;01mis\u001b[39;00m \u001b[38;5;28;01mNone\u001b[39;00m \u001b[38;5;129;01mor\u001b[39;00m version \u001b[38;5;241m>\u001b[39m\u001b[38;5;241m=\u001b[39m \u001b[38;5;241m118\u001b[39m:\n\u001b[0;32m   2669\u001b[0m     \u001b[38;5;66;03m# Specifying the version is only supported for UTF8 (118 or 119)\u001b[39;00m\n\u001b[0;32m   2670\u001b[0m     kwargs[\u001b[38;5;124m\"\u001b[39m\u001b[38;5;124mversion\u001b[39m\u001b[38;5;124m\"\u001b[39m] \u001b[38;5;241m=\u001b[39m version\n\u001b[1;32m-> 2672\u001b[0m writer \u001b[38;5;241m=\u001b[39m statawriter(\n\u001b[0;32m   2673\u001b[0m     path,\n\u001b[0;32m   2674\u001b[0m     \u001b[38;5;28mself\u001b[39m,\n\u001b[0;32m   2675\u001b[0m     convert_dates\u001b[38;5;241m=\u001b[39mconvert_dates,\n\u001b[0;32m   2676\u001b[0m     byteorder\u001b[38;5;241m=\u001b[39mbyteorder,\n\u001b[0;32m   2677\u001b[0m     time_stamp\u001b[38;5;241m=\u001b[39mtime_stamp,\n\u001b[0;32m   2678\u001b[0m     data_label\u001b[38;5;241m=\u001b[39mdata_label,\n\u001b[0;32m   2679\u001b[0m     write_index\u001b[38;5;241m=\u001b[39mwrite_index,\n\u001b[0;32m   2680\u001b[0m     variable_labels\u001b[38;5;241m=\u001b[39mvariable_labels,\n\u001b[0;32m   2681\u001b[0m     compression\u001b[38;5;241m=\u001b[39mcompression,\n\u001b[0;32m   2682\u001b[0m     storage_options\u001b[38;5;241m=\u001b[39mstorage_options,\n\u001b[0;32m   2683\u001b[0m     value_labels\u001b[38;5;241m=\u001b[39mvalue_labels,\n\u001b[0;32m   2684\u001b[0m     \u001b[38;5;241m*\u001b[39m\u001b[38;5;241m*\u001b[39mkwargs,\n\u001b[0;32m   2685\u001b[0m )\n\u001b[0;32m   2686\u001b[0m writer\u001b[38;5;241m.\u001b[39mwrite_file()\n",
      "File \u001b[1;32mc:\\Users\\lanto\\AppData\\Local\\Programs\\Python\\Python310\\lib\\site-packages\\pandas\\io\\stata.py:2350\u001b[0m, in \u001b[0;36mStataWriter.__init__\u001b[1;34m(self, fname, data, convert_dates, write_index, byteorder, time_stamp, data_label, variable_labels, compression, storage_options, value_labels)\u001b[0m\n\u001b[0;32m   2348\u001b[0m \u001b[38;5;28mself\u001b[39m\u001b[38;5;241m.\u001b[39m_converted_names: \u001b[38;5;28mdict\u001b[39m[Hashable, \u001b[38;5;28mstr\u001b[39m] \u001b[38;5;241m=\u001b[39m {}\n\u001b[0;32m   2349\u001b[0m \u001b[38;5;66;03m# attach nobs, nvars, data, varlist, typlist\u001b[39;00m\n\u001b[1;32m-> 2350\u001b[0m \u001b[38;5;28;43mself\u001b[39;49m\u001b[38;5;241;43m.\u001b[39;49m\u001b[43m_prepare_pandas\u001b[49m\u001b[43m(\u001b[49m\u001b[43mdata\u001b[49m\u001b[43m)\u001b[49m\n\u001b[0;32m   2351\u001b[0m \u001b[38;5;28mself\u001b[39m\u001b[38;5;241m.\u001b[39mstorage_options \u001b[38;5;241m=\u001b[39m storage_options\n\u001b[0;32m   2353\u001b[0m \u001b[38;5;28;01mif\u001b[39;00m byteorder \u001b[38;5;129;01mis\u001b[39;00m \u001b[38;5;28;01mNone\u001b[39;00m:\n",
      "File \u001b[1;32mc:\\Users\\lanto\\AppData\\Local\\Programs\\Python\\Python310\\lib\\site-packages\\pandas\\io\\stata.py:2609\u001b[0m, in \u001b[0;36mStataWriter._prepare_pandas\u001b[1;34m(self, data)\u001b[0m\n\u001b[0;32m   2606\u001b[0m \u001b[38;5;28mself\u001b[39m\u001b[38;5;241m.\u001b[39m_value_labels\u001b[38;5;241m.\u001b[39mextend(non_cat_value_labels)\n\u001b[0;32m   2608\u001b[0m \u001b[38;5;66;03m# Convert categoricals to int data, and strip labels\u001b[39;00m\n\u001b[1;32m-> 2609\u001b[0m data \u001b[38;5;241m=\u001b[39m \u001b[38;5;28;43mself\u001b[39;49m\u001b[38;5;241;43m.\u001b[39;49m\u001b[43m_prepare_categoricals\u001b[49m\u001b[43m(\u001b[49m\u001b[43mdata\u001b[49m\u001b[43m)\u001b[49m\n\u001b[0;32m   2611\u001b[0m \u001b[38;5;28mself\u001b[39m\u001b[38;5;241m.\u001b[39mnobs, \u001b[38;5;28mself\u001b[39m\u001b[38;5;241m.\u001b[39mnvar \u001b[38;5;241m=\u001b[39m data\u001b[38;5;241m.\u001b[39mshape\n\u001b[0;32m   2612\u001b[0m \u001b[38;5;28mself\u001b[39m\u001b[38;5;241m.\u001b[39mdata \u001b[38;5;241m=\u001b[39m data\n",
      "File \u001b[1;32mc:\\Users\\lanto\\AppData\\Local\\Programs\\Python\\Python310\\lib\\site-packages\\pandas\\io\\stata.py:2419\u001b[0m, in \u001b[0;36mStataWriter._prepare_categoricals\u001b[1;34m(self, data)\u001b[0m\n\u001b[0;32m   2417\u001b[0m \u001b[38;5;28;01mfor\u001b[39;00m col, col_is_cat \u001b[38;5;129;01min\u001b[39;00m \u001b[38;5;28mzip\u001b[39m(data, is_cat):\n\u001b[0;32m   2418\u001b[0m     \u001b[38;5;28;01mif\u001b[39;00m col_is_cat:\n\u001b[1;32m-> 2419\u001b[0m         svl \u001b[38;5;241m=\u001b[39m \u001b[43mStataValueLabel\u001b[49m\u001b[43m(\u001b[49m\u001b[43mdata\u001b[49m\u001b[43m[\u001b[49m\u001b[43mcol\u001b[49m\u001b[43m]\u001b[49m\u001b[43m,\u001b[49m\u001b[43m \u001b[49m\u001b[43mencoding\u001b[49m\u001b[38;5;241;43m=\u001b[39;49m\u001b[38;5;28;43mself\u001b[39;49m\u001b[38;5;241;43m.\u001b[39;49m\u001b[43m_encoding\u001b[49m\u001b[43m)\u001b[49m\n\u001b[0;32m   2420\u001b[0m         \u001b[38;5;28mself\u001b[39m\u001b[38;5;241m.\u001b[39m_value_labels\u001b[38;5;241m.\u001b[39mappend(svl)\n\u001b[0;32m   2421\u001b[0m         dtype \u001b[38;5;241m=\u001b[39m data[col]\u001b[38;5;241m.\u001b[39mcat\u001b[38;5;241m.\u001b[39mcodes\u001b[38;5;241m.\u001b[39mdtype\n",
      "File \u001b[1;32mc:\\Users\\lanto\\AppData\\Local\\Programs\\Python\\Python310\\lib\\site-packages\\pandas\\io\\stata.py:692\u001b[0m, in \u001b[0;36mStataValueLabel.__init__\u001b[1;34m(self, catarray, encoding)\u001b[0m\n\u001b[0;32m    687\u001b[0m \u001b[38;5;28mself\u001b[39m\u001b[38;5;241m.\u001b[39mvalue_labels: \u001b[38;5;28mlist\u001b[39m[\u001b[38;5;28mtuple\u001b[39m[\u001b[38;5;28mfloat\u001b[39m, \u001b[38;5;28mstr\u001b[39m]] \u001b[38;5;241m=\u001b[39m \u001b[38;5;28mlist\u001b[39m(\n\u001b[0;32m    688\u001b[0m     \u001b[38;5;28mzip\u001b[39m(np\u001b[38;5;241m.\u001b[39marange(\u001b[38;5;28mlen\u001b[39m(categories)), categories)\n\u001b[0;32m    689\u001b[0m )\n\u001b[0;32m    690\u001b[0m \u001b[38;5;28mself\u001b[39m\u001b[38;5;241m.\u001b[39mvalue_labels\u001b[38;5;241m.\u001b[39msort(key\u001b[38;5;241m=\u001b[39m\u001b[38;5;28;01mlambda\u001b[39;00m x: x[\u001b[38;5;241m0\u001b[39m])\n\u001b[1;32m--> 692\u001b[0m \u001b[38;5;28;43mself\u001b[39;49m\u001b[38;5;241;43m.\u001b[39;49m\u001b[43m_prepare_value_labels\u001b[49m\u001b[43m(\u001b[49m\u001b[43m)\u001b[49m\n",
      "File \u001b[1;32mc:\\Users\\lanto\\AppData\\Local\\Programs\\Python\\Python310\\lib\\site-packages\\pandas\\io\\stata.py:718\u001b[0m, in \u001b[0;36mStataValueLabel._prepare_value_labels\u001b[1;34m(self)\u001b[0m\n\u001b[0;32m    712\u001b[0m     category \u001b[38;5;241m=\u001b[39m \u001b[38;5;28mstr\u001b[39m(category)\n\u001b[0;32m    713\u001b[0m     warnings\u001b[38;5;241m.\u001b[39mwarn(\n\u001b[0;32m    714\u001b[0m         value_label_mismatch_doc\u001b[38;5;241m.\u001b[39mformat(\u001b[38;5;28mself\u001b[39m\u001b[38;5;241m.\u001b[39mlabname),\n\u001b[0;32m    715\u001b[0m         ValueLabelTypeMismatch,\n\u001b[0;32m    716\u001b[0m         stacklevel\u001b[38;5;241m=\u001b[39mfind_stack_level(),\n\u001b[0;32m    717\u001b[0m     )\n\u001b[1;32m--> 718\u001b[0m category \u001b[38;5;241m=\u001b[39m \u001b[43mcategory\u001b[49m\u001b[38;5;241;43m.\u001b[39;49m\u001b[43mencode\u001b[49m\u001b[43m(\u001b[49m\u001b[38;5;28;43mself\u001b[39;49m\u001b[38;5;241;43m.\u001b[39;49m\u001b[43m_encoding\u001b[49m\u001b[43m)\u001b[49m\n\u001b[0;32m    719\u001b[0m offsets\u001b[38;5;241m.\u001b[39mappend(\u001b[38;5;28mself\u001b[39m\u001b[38;5;241m.\u001b[39mtext_len)\n\u001b[0;32m    720\u001b[0m \u001b[38;5;28mself\u001b[39m\u001b[38;5;241m.\u001b[39mtext_len \u001b[38;5;241m+\u001b[39m\u001b[38;5;241m=\u001b[39m \u001b[38;5;28mlen\u001b[39m(category) \u001b[38;5;241m+\u001b[39m \u001b[38;5;241m1\u001b[39m  \u001b[38;5;66;03m# +1 for the padding\u001b[39;00m\n",
      "\u001b[1;31mUnicodeEncodeError\u001b[0m: 'latin-1' codec can't encode characters in position 0-2: ordinal not in range(256)"
     ]
    }
   ],
   "source": [
    "df.to_stata('output.dta', encoding='utf-8')\n"
   ]
  }
 ],
 "metadata": {
  "kernelspec": {
   "display_name": "Python 3",
   "language": "python",
   "name": "python3"
  },
  "language_info": {
   "codemirror_mode": {
    "name": "ipython",
    "version": 3
   },
   "file_extension": ".py",
   "mimetype": "text/x-python",
   "name": "python",
   "nbconvert_exporter": "python",
   "pygments_lexer": "ipython3",
   "version": "3.10.6"
  }
 },
 "nbformat": 4,
 "nbformat_minor": 2
}
