{
 "cells": [
  {
   "cell_type": "code",
   "execution_count": null,
   "metadata": {},
   "outputs": [],
   "source": [
    "#sample code: calculate Ricci tensor for spherical metric"
   ]
  },
  {
   "cell_type": "code",
   "execution_count": 1,
   "metadata": {},
   "outputs": [],
   "source": [
    "import sympy as sym\n",
    "#optmize printing\n",
    "sym.init_printing()"
   ]
  },
  {
   "cell_type": "code",
   "execution_count": 2,
   "metadata": {},
   "outputs": [
    {
     "name": "stdout",
     "output_type": "stream",
     "text": [
      "\\begin{eqnarray}\n",
      "R_{00} &=& \\frac{r \\left(e^{2 \\Phi{\\left(t,r \\right)} + 2 \\Psi{\\left(t,r \\right)}} \\left(\\Phi_{,r}{\\left(t,r \\right)}\\right)^{2} + e^{2 \\Phi{\\left(t,r \\right)} + 2 \\Psi{\\left(t,r \\right)}} \\Phi_{,r}{\\left(t,r \\right)} \\Psi_{, r}{\\left(t,r \\right)} + e^{2 \\Phi{\\left(t,r \\right)} + 2 \\Psi{\\left(t,r \\right)}} \\frac{\\partial^{2}}{\\partial r^{2}} \\Phi{\\left(t,r \\right)} - \\Phi_{,t}{\\left(t,r \\right)} \\Psi_{,t}{\\left(t,r \\right)} - \\left(\\Psi_{,t}{\\left(t,r \\right)}\\right)^{2} + \\frac{\\partial^{2}}{\\partial t^{2}} \\Psi{\\left(t,r \\right)}\\right) + 2 e^{2 \\Phi{\\left(t,r \\right)} + 2 \\Psi{\\left(t,r \\right)}} \\Phi_{,r}{\\left(t,r \\right)}}{r} \\nonumber \\\\\n",
      "R_{10} &=& - \\frac{2 \\Psi_{,t}{\\left(t,r \\right)}}{r} \\nonumber \\\\\n",
      "R_{11} &=& \\frac{\\left(r \\left(\\Phi_{,t}{\\left(t,r \\right)} \\Psi_{,t}{\\left(t,r \\right)} + \\left(\\Psi_{,t}{\\left(t,r \\right)}\\right)^{2} - \\frac{\\partial^{2}}{\\partial t^{2}} \\Psi{\\left(t,r \\right)}\\right) - r \\left(\\left(\\Phi_{,r}{\\left(t,r \\right)}\\right)^{2} + \\Phi_{,r}{\\left(t,r \\right)} \\Psi_{, r}{\\left(t,r \\right)} + \\frac{\\partial^{2}}{\\partial r^{2}} \\Phi{\\left(t,r \\right)}\\right) e^{2 \\Phi{\\left(t,r \\right)} + 2 \\Psi{\\left(t,r \\right)}} - 2 e^{2 \\Phi{\\left(t,r \\right)} + 2 \\Psi{\\left(t,r \\right)}} \\Psi_{, r}{\\left(t,r \\right)}\\right) e^{- 2 \\Phi{\\left(t,r \\right)} - 2 \\Psi{\\left(t,r \\right)}}}{r} \\nonumber \\\\\n",
      "R_{22} &=& - r e^{2 \\Psi{\\left(t,r \\right)}} \\Phi_{,r}{\\left(t,r \\right)} - r e^{2 \\Psi{\\left(t,r \\right)}} \\Psi_{, r}{\\left(t,r \\right)} - e^{2 \\Psi{\\left(t,r \\right)}} + 1 \\nonumber \\\\\n",
      "R_{33} &=& \\left(- r e^{2 \\Psi{\\left(t,r \\right)}} \\Phi_{,r}{\\left(t,r \\right)} - r e^{2 \\Psi{\\left(t,r \\right)}} \\Psi_{, r}{\\left(t,r \\right)} - e^{2 \\Psi{\\left(t,r \\right)}} + 1\\right) \\sin^{2}{\\left(\\theta \\right)} \\nonumber \\\\\n",
      "\\end{eqnarray}\n"
     ]
    }
   ],
   "source": [
    "#dimension of the spacetime\n",
    "dim = 4\n",
    "\n",
    "##allocate space to save connections, Riemann tensor, and Ricci tensor\n",
    "gam_down = sym.MutableDenseNDimArray(range(dim**3), shape=(dim, dim, dim))\n",
    "gam_up = sym.MutableDenseNDimArray(range(dim**3), shape=(dim, dim, dim))\n",
    "ricci_down = sym.MutableDenseNDimArray(range(dim**2), shape=(dim, dim))\n",
    "\n",
    "\n",
    "#define u[0], u[1], ... in a single line\n",
    "u = sym.symarray('u',dim)\n",
    "\n",
    "#for better output\n",
    "t, r, theta, phi = sym.symbols(r't, r, theta, phi')\n",
    "\n",
    "#define the Newtonian potential and spatial curvature functions\n",
    "Phi = sym.Function('Phi')\n",
    "Psi = sym.Function('Psi')\n",
    "\n",
    "#covariant metric\n",
    "gdown = sym.diag( sym.exp(2*Phi(u[0], u[1])), -sym.exp(-2*Psi(u[0], u[1])) , -u[1]**2, -u[1]**2 * sym.sin(u[2]) **2 )\n",
    "\n",
    "#contravariant metric\n",
    "gup = gdown ** -1\n",
    "\n",
    "#determinant of the covariant metric\n",
    "detg = gdown.det()\n",
    "\n",
    "#\\Gamma_{ijk}$\n",
    "def connection_down(i, j, k):\n",
    "    return (sym.diff(gdown[i, j], u[k]) + sym.diff(gdown[i, k], u[j]) - sym.diff(gdown[j, k], u[i]))/2\n",
    "\n",
    "\n",
    "#compute connection \\Gamma_{ijk}\n",
    "for i in range(dim):\n",
    "    for j in range(dim):\n",
    "        for k in range(j+1):\n",
    "            gam_down[i,j,k] = connection_down(i, j, k) \n",
    "            if(j != k):\n",
    "                gam_down[i,k,j] = gam_down[i,j,k]\n",
    "\n",
    "#\\Gamma^i_{\\ jk}\n",
    "def connection_up(i, j, k):\n",
    "    gam = 0\n",
    "    for l in range(dim):\n",
    "        gam += gam_down[l,j, k] * gup[l, i]\n",
    "    return sym.simplify(gam)\n",
    "\n",
    "#compute connection \\Gamma^i_{ jk}\n",
    "for i in range(dim):\n",
    "    for j in range(dim):\n",
    "        for k in range(j+1):\n",
    "            gam_up[i,j,k] = connection_up(i, j, k) \n",
    "            if(j != k):\n",
    "                gam_up[i,k,j] = gam_up[i,j,k]\n",
    "\n",
    "##now we have both gam_down and gam_up saved\n",
    "                \n",
    "def Riemann_tensor_up(i, j, k, l): ## R^i_{  jkl}\n",
    "    R = sym.diff(gam_up[i, j, k], u[l]) - sym.diff(gam_up[i, j, l], u[k])\n",
    "    for m in range(dim):\n",
    "        R += gam_up[i, m, l] * gam_up[m, j, k] - gam_up[i, m, k] * gam_up[m, j, l]\n",
    "    return sym.simplify(R)\n",
    "\n",
    "for i in range(dim):\n",
    "    for j in range(i+1):\n",
    "        ricci_down[i, j] = 0\n",
    "        for k in range(dim):\n",
    "            ricci_down[i, j] += Riemann_tensor_up(k, i, j, k)\n",
    "        ricci_down[i,j] = sym.simplify(ricci_down[i,j])\n",
    "        if(i != j):\n",
    "            ricci_down[j, i] = ricci_down[i, j]\n",
    "                                    \n",
    "                                       \n",
    "# now Ricci tensor is saved\n",
    "\n",
    "\n",
    "#print latex\n",
    "print(r'\\begin{eqnarray}')\n",
    "for i in range(dim):\n",
    "    for j in range(i+1):\n",
    "        Rij = ricci_down[i, j].subs(u[0], t).subs(u[1], r).subs(u[2], theta).subs(u[3], phi)\n",
    "        if(Rij != 0):\n",
    "            print(str(r'R_{'+str(i)+str(j)+r'} &=& '+sym.latex(Rij) +r' \\nonumber \\\\').replace(r'\\Phi{\\left (t,r \\right )}', r'\\Phi').replace(r'\\Psi{\\left (t,r \\right )}', r'\\Psi').replace(r'\\frac{\\partial}{\\partial t} \\Phi', r'\\Phi_{,t}').replace(r'\\frac{\\partial}{\\partial t} \\Psi', r'\\Psi_{,t}').replace(r'\\frac{\\partial}{\\partial r} \\Phi', r'\\Phi_{,r}').replace(r'\\frac{\\partial}{\\partial r} \\Psi', r'\\Psi_{, r}').replace(r'\\frac{\\partial^{2}}{\\partial r^{2}}  \\Phi', r'\\Phi_{,r,r}').replace(r'\\frac{\\partial^{2}}{\\partial t^{2}}  \\Psi', r'\\Phi_{,t,t}') )\n",
    "print(r'\\end{eqnarray}')"
   ]
  }
 ],
 "metadata": {
  "kernelspec": {
   "display_name": "Python 3",
   "language": "python",
   "name": "python3"
  },
  "language_info": {
   "codemirror_mode": {
    "name": "ipython",
    "version": 3
   },
   "file_extension": ".py",
   "mimetype": "text/x-python",
   "name": "python",
   "nbconvert_exporter": "python",
   "pygments_lexer": "ipython3",
   "version": "3.11.9"
  }
 },
 "nbformat": 4,
 "nbformat_minor": 2
}
