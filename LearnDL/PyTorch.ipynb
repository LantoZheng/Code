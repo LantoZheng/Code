{
 "cells": [
  {
   "cell_type": "code",
   "execution_count": 11,
   "metadata": {},
   "outputs": [
    {
     "name": "stdout",
     "output_type": "stream",
     "text": [
      "tensor([30., 55., 30., 55., 30., 60., 35., 60., 35., 60.])\n"
     ]
    }
   ],
   "source": [
    "import torch\n",
    "x = torch.arange(10.0)\n",
    "x.requires_grad_(True) \n",
    "x.reshape(2,5)\n",
    "x.reshape(5,2)\n",
    "y = torch.matmul(x.reshape(5, 2), x.reshape(2, 5)).sum()\n",
    "y.backward()\n",
    "print(x.grad)"
   ]
  }
 ],
 "metadata": {
  "kernelspec": {
   "display_name": "base",
   "language": "python",
   "name": "python3"
  },
  "language_info": {
   "codemirror_mode": {
    "name": "ipython",
    "version": 3
   },
   "file_extension": ".py",
   "mimetype": "text/x-python",
   "name": "python",
   "nbconvert_exporter": "python",
   "pygments_lexer": "ipython3",
   "version": "3.12.2"
  }
 },
 "nbformat": 4,
 "nbformat_minor": 2
}
