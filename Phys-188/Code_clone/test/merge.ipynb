{
 "cells": [
  {
   "cell_type": "code",
   "execution_count": null,
   "id": "2ad85d03",
   "metadata": {},
   "outputs": [],
   "source": [
    "from PIL import Image\n",
    "image_ptath1 = 'image1.jpg'\n",
    "image_path2 = 'image2.png'\n",
    "def merge_images(image_path1, image_path2, output_path):\n",
    "    # 打开两张图片\n",
    "    img1 = Image.open(image_path1)\n",
    "    img2 = Image.open(image_path2)\n",
    "    \n",
    "    # 获取两张图片的高度\n",
    "    height1 = img1.height\n",
    "    height2 = img2.height\n",
    "    \n",
    "    # 计算缩放比例，使两张图片的高度相同\n",
    "    if height1 != height2:\n",
    "        if height1 > height2:\n",
    "            scale = height1 / height2\n",
    "            new_width = int(img2.width * scale)\n",
    "            img2 = img2.resize((new_width, height1), Image.ANTIALIAS)\n",
    "        else:\n",
    "            scale = height2 / height1\n",
    "            new_width = int(img1.width * scale)\n",
    "            img1 = img1.resize((new_width, height2), Image.ANTIALIAS)\n",
    "    \n",
    "    # 拼接两张图片\n",
    "    total_width = img1.width + img2.width\n",
    "    result = Image.new('RGB', (total_width, img1.height))\n",
    "    result.paste(img1, (0, 0))\n",
    "    result.paste(img2, (img1.width, 0))\n",
    "    \n",
    "    # 保存结果图片\n",
    "    result.save(output_path)\n",
    "    print(f\"拼接完成，结果保存到 {output_path}\")\n",
    "\n",
    "# 示例用法\n",
    "merge_images('image1.jpg', 'image2.png', 'output.jpg')"
   ]
  }
 ],
 "metadata": {
  "kernelspec": {
   "display_name": "base",
   "language": "python",
   "name": "python3"
  },
  "language_info": {
   "name": "python",
   "version": "3.12.2"
  }
 },
 "nbformat": 4,
 "nbformat_minor": 5
}
