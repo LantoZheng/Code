{
 "cells": [
  {
   "cell_type": "code",
   "execution_count": 2,
   "metadata": {},
   "outputs": [],
   "source": [
    "from deap import base, creator, tools, algorithms\n",
    "import random"
   ]
  },
  {
   "cell_type": "code",
   "execution_count": 3,
   "metadata": {},
   "outputs": [
    {
     "name": "stdout",
     "output_type": "stream",
     "text": [
      "Best individual: [1, 1, 1, 1, 1, 1, 1, 1, 1, 1]\n"
     ]
    }
   ],
   "source": [
    "# Define the fitness function\n",
    "def evaluate(individual):\n",
    "    # Calculate the fitness value of the individual\n",
    "    fitness = sum(individual)\n",
    "    return fitness,\n",
    "\n",
    "# Create the individual and population classes\n",
    "creator.create(\"FitnessMax\", base.Fitness, weights=(1.0,))\n",
    "creator.create(\"Individual\", list, fitness=creator.FitnessMax)\n",
    "\n",
    "# Initialize the toolbox\n",
    "toolbox = base.Toolbox()\n",
    "\n",
    "# Define the attributes and their range\n",
    "toolbox.register(\"attr_bool\", random.randint, 0, 1)\n",
    "\n",
    "# Define the individual and population creation functions\n",
    "toolbox.register(\"individual\", tools.initRepeat, creator.Individual, toolbox.attr_bool, n=10)\n",
    "toolbox.register(\"population\", tools.initRepeat, list, toolbox.individual)\n",
    "\n",
    "# Define the evaluation function\n",
    "toolbox.register(\"evaluate\", evaluate)\n",
    "\n",
    "# Define the crossover and mutation operators\n",
    "toolbox.register(\"mate\", tools.cxTwoPoint)\n",
    "toolbox.register(\"mutate\", tools.mutFlipBit, indpb=0.05)\n",
    "\n",
    "# Define the selection operator\n",
    "toolbox.register(\"select\", tools.selTournament, tournsize=3)\n",
    "\n",
    "# Create an initial population\n",
    "population = toolbox.population(n=50)\n",
    "\n",
    "# Run the genetic algorithm\n",
    "for generation in range(10):\n",
    "    # Select the next generation individuals\n",
    "    offspring = toolbox.select(population, len(population))\n",
    "    \n",
    "    # Clone the selected individuals\n",
    "    offspring = list(map(toolbox.clone, offspring))\n",
    "    \n",
    "    # Apply crossover and mutation on the offspring\n",
    "    for child1, child2 in zip(offspring[::2], offspring[1::2]):\n",
    "        if random.random() < 0.5:\n",
    "            toolbox.mate(child1, child2)\n",
    "            del child1.fitness.values\n",
    "            del child2.fitness.values\n",
    "    \n",
    "    for mutant in offspring:\n",
    "        if random.random() < 0.2:\n",
    "            toolbox.mutate(mutant)\n",
    "            del mutant.fitness.values\n",
    "    \n",
    "    # Evaluate the individuals with an invalid fitness\n",
    "    invalid_individuals = [ind for ind in offspring if not ind.fitness.valid]\n",
    "    fitness_values = toolbox.map(toolbox.evaluate, invalid_individuals)\n",
    "    for ind, fit in zip(invalid_individuals, fitness_values):\n",
    "        ind.fitness.values = fit\n",
    "    \n",
    "    # Replace the population with the offspring\n",
    "    population[:] = offspring\n",
    "\n",
    "# Print the best individual\n",
    "best_individual = tools.selBest(population, k=1)[0]\n",
    "print(\"Best individual:\", best_individual)"
   ]
  }
 ],
 "metadata": {
  "kernelspec": {
   "display_name": "Python 3",
   "language": "python",
   "name": "python3"
  },
  "language_info": {
   "codemirror_mode": {
    "name": "ipython",
    "version": 3
   },
   "file_extension": ".py",
   "mimetype": "text/x-python",
   "name": "python",
   "nbconvert_exporter": "python",
   "pygments_lexer": "ipython3",
   "version": "3.11.9"
  }
 },
 "nbformat": 4,
 "nbformat_minor": 2
}
