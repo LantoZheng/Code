{
 "cells": [
  {
   "cell_type": "code",
   "execution_count": 1,
   "id": "cd1e5f53",
   "metadata": {},
   "outputs": [
    {
     "ename": "FileNotFoundError",
     "evalue": "[Errno 2] No such file or directory: 'sample.stm'",
     "output_type": "error",
     "traceback": [
      "\u001b[0;31m---------------------------------------------------------------------------\u001b[0m",
      "\u001b[0;31mFileNotFoundError\u001b[0m                         Traceback (most recent call last)",
      "Cell \u001b[0;32mIn[1], line 20\u001b[0m\n\u001b[1;32m     15\u001b[0m     \u001b[38;5;28;01mreturn\u001b[39;00m grayscale_image\n\u001b[1;32m     18\u001b[0m data_path \u001b[38;5;241m=\u001b[39m \u001b[38;5;124m'\u001b[39m\u001b[38;5;124msample.stm\u001b[39m\u001b[38;5;124m'\u001b[39m\n\u001b[0;32m---> 20\u001b[0m grayscale_image \u001b[38;5;241m=\u001b[39m decode(data_path, (\u001b[38;5;241m256\u001b[39m, \u001b[38;5;241m256\u001b[39m))\n\u001b[1;32m     21\u001b[0m \u001b[38;5;66;03m# Display the image using matplotlib\u001b[39;00m\n\u001b[1;32m     22\u001b[0m plt\u001b[38;5;241m.\u001b[39mimshow(grayscale_image, cmap\u001b[38;5;241m=\u001b[39m\u001b[38;5;124m'\u001b[39m\u001b[38;5;124mgray\u001b[39m\u001b[38;5;124m'\u001b[39m, origin\u001b[38;5;241m=\u001b[39m\u001b[38;5;124m'\u001b[39m\u001b[38;5;124mlower\u001b[39m\u001b[38;5;124m'\u001b[39m)\n",
      "Cell \u001b[0;32mIn[1], line 8\u001b[0m, in \u001b[0;36mdecode\u001b[0;34m(data_path, size)\u001b[0m\n\u001b[1;32m      7\u001b[0m \u001b[38;5;28;01mdef\u001b[39;00m \u001b[38;5;21mdecode\u001b[39m(data_path,size):\n\u001b[0;32m----> 8\u001b[0m     \u001b[38;5;28;01mwith\u001b[39;00m \u001b[38;5;28mopen\u001b[39m(data_path, \u001b[38;5;124m'\u001b[39m\u001b[38;5;124mrb\u001b[39m\u001b[38;5;124m'\u001b[39m) \u001b[38;5;28;01mas\u001b[39;00m f:\n\u001b[1;32m      9\u001b[0m         \u001b[38;5;66;03m# Read the first 256 bytes to get the header information\u001b[39;00m\n\u001b[1;32m     10\u001b[0m         f\u001b[38;5;241m.\u001b[39mseek(\u001b[38;5;241m-\u001b[39m size[\u001b[38;5;241m0\u001b[39m] \u001b[38;5;241m*\u001b[39m size[\u001b[38;5;241m1\u001b[39m], \u001b[38;5;241m2\u001b[39m)\n\u001b[1;32m     11\u001b[0m         \u001b[38;5;66;03m# Read the grayscale image data\u001b[39;00m\n",
      "File \u001b[0;32m/opt/homebrew/Caskroom/miniconda/base/lib/python3.12/site-packages/IPython/core/interactiveshell.py:324\u001b[0m, in \u001b[0;36m_modified_open\u001b[0;34m(file, *args, **kwargs)\u001b[0m\n\u001b[1;32m    317\u001b[0m \u001b[38;5;28;01mif\u001b[39;00m file \u001b[38;5;129;01min\u001b[39;00m {\u001b[38;5;241m0\u001b[39m, \u001b[38;5;241m1\u001b[39m, \u001b[38;5;241m2\u001b[39m}:\n\u001b[1;32m    318\u001b[0m     \u001b[38;5;28;01mraise\u001b[39;00m \u001b[38;5;167;01mValueError\u001b[39;00m(\n\u001b[1;32m    319\u001b[0m         \u001b[38;5;124mf\u001b[39m\u001b[38;5;124m\"\u001b[39m\u001b[38;5;124mIPython won\u001b[39m\u001b[38;5;124m'\u001b[39m\u001b[38;5;124mt let you open fd=\u001b[39m\u001b[38;5;132;01m{\u001b[39;00mfile\u001b[38;5;132;01m}\u001b[39;00m\u001b[38;5;124m by default \u001b[39m\u001b[38;5;124m\"\u001b[39m\n\u001b[1;32m    320\u001b[0m         \u001b[38;5;124m\"\u001b[39m\u001b[38;5;124mas it is likely to crash IPython. If you know what you are doing, \u001b[39m\u001b[38;5;124m\"\u001b[39m\n\u001b[1;32m    321\u001b[0m         \u001b[38;5;124m\"\u001b[39m\u001b[38;5;124myou can use builtins\u001b[39m\u001b[38;5;124m'\u001b[39m\u001b[38;5;124m open.\u001b[39m\u001b[38;5;124m\"\u001b[39m\n\u001b[1;32m    322\u001b[0m     )\n\u001b[0;32m--> 324\u001b[0m \u001b[38;5;28;01mreturn\u001b[39;00m io_open(file, \u001b[38;5;241m*\u001b[39margs, \u001b[38;5;241m*\u001b[39m\u001b[38;5;241m*\u001b[39mkwargs)\n",
      "\u001b[0;31mFileNotFoundError\u001b[0m: [Errno 2] No such file or directory: 'sample.stm'"
     ]
    }
   ],
   "source": [
    "import numpy as np\n",
    "from mpl_toolkits.mplot3d import Axes3D\n",
    "from scipy.ndimage import gaussian_filter\n",
    "from scipy.signal import find_peaks\n",
    "import matplotlib.pyplot as plt\n",
    "\n",
    "def decode(data_path,size):\n",
    "    with open(data_path, 'rb') as f:\n",
    "        # Read the first 256 bytes to get the header information\n",
    "        f.seek(- size[0] * size[1], 2)\n",
    "        # Read the grayscale image data\n",
    "        image_data = f.read(size[0] * size[1])\n",
    "        # Convert the ata to a NumPy array and reshape it into a 256x256 image\n",
    "        grayscale_image = np.frombuffer(image_data, dtype=np.uint8).reshape((size[0], size[1]))\n",
    "    return grayscale_image\n",
    "\n",
    "\n",
    "data_path = 'sample.stm'\n",
    "\n",
    "grayscale_image = decode(data_path, (256, 256))\n",
    "# Display the image using matplotlib\n",
    "plt.imshow(grayscale_image, cmap='gray', origin='lower')\n",
    "\n",
    "\n",
    "# Create a figure for the 3D surface plot\n",
    "\n",
    "fig = plt.figure()\n",
    "ax = fig.add_subplot(111, projection='3d')\n",
    "\n",
    "# Generate X and Y coordinates\n",
    "x = np.arange(grayscale_image.shape[1])\n",
    "y = np.arange(grayscale_image.shape[0])\n",
    "x, y = np.meshgrid(x, y)\n",
    "\n",
    "# Plot the surface\n",
    "ax.plot_surface(x, y, grayscale_image, cmap='gray')\n",
    "\n",
    "# Set labels\n",
    "ax.set_xlabel('X')\n",
    "ax.set_ylabel('Y')\n",
    "ax.set_zlabel('Intensity')\n",
    "\n",
    "plt.show()\n",
    "\n"
   ]
  },
  {
   "cell_type": "code",
   "execution_count": 2,
   "id": "3b9c0bf6",
   "metadata": {},
   "outputs": [
    {
     "name": "stdout",
     "output_type": "stream",
     "text": [
      "Saved TI=50;Vb=1000;Vx=1;vy=1;gain=20.png\n",
      "Saved TI=50;Vb=1000;Vx=2;vy=0.2;gain=20.png\n",
      "Saved TI=50;Vb=1000;Vx=0.4;vy=0.4;gain=20.png\n",
      "Saved TI=50;Vb=1000;Vx=2;vy=0.2;gain=20 (2).png\n",
      "Saved TI=50;Vb=1000;Vx=2;vy=0.4;gain=20.png\n",
      "Saved 04-23-2025 11£º36£º55.png\n",
      "Saved 04-23-2025 11£º59£º49.png\n",
      "Saved TI=50;Vb=1000;Vx=1;vy=0.4;gain=20.png\n",
      "Saved TI=50;Vb=1000;Vx=4;vy=0.2;gain=20.png\n"
     ]
    }
   ],
   "source": [
    "import os\n",
    "\n",
    "# Directory containing .stm files\n",
    "directory = './'\n",
    "\n",
    "# Iterate through all files in the directory\n",
    "for filename in os.listdir(directory):\n",
    "    if filename.endswith('.stm'):\n",
    "        # Decode the .stm file\n",
    "        stm_path = os.path.join(directory, filename)\n",
    "        grayscale_image = decode(stm_path, (256, 256))\n",
    "        \n",
    "        # Save the decoded image as a .png file\n",
    "        output_filename = os.path.splitext(filename)[0] + '.png'\n",
    "        plt.imsave(output_filename, grayscale_image, cmap='gray')\n",
    "        print(f\"Saved {output_filename}\")"
   ]
  }
 ],
 "metadata": {
  "kernelspec": {
   "display_name": "base",
   "language": "python",
   "name": "python3"
  },
  "language_info": {
   "codemirror_mode": {
    "name": "ipython",
    "version": 3
   },
   "file_extension": ".py",
   "mimetype": "text/x-python",
   "name": "python",
   "nbconvert_exporter": "python",
   "pygments_lexer": "ipython3",
   "version": "3.12.2"
  }
 },
 "nbformat": 4,
 "nbformat_minor": 5
}
